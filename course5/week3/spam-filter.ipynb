{
 "cells": [
  {
   "cell_type": "markdown",
   "metadata": {},
   "source": [
    "## Классификация текстов: спам-фильтр для SMS"
   ]
  },
  {
   "cell_type": "markdown",
   "metadata": {},
   "source": [
    "В этом задании вам предстоит взять открытый датасет с SMS-сообщениями, размеченными на спам (\"spam\") и не спам (\"ham\"), построить на нем классификатор текстов на эти два класса, оценить его качество с помощью кросс-валидации, протестировать его работу на отдельных примерах, и посмотреть, что будет происходить с качеством, если менять параметры вашей модели."
   ]
  },
  {
   "cell_type": "code",
   "execution_count": 92,
   "metadata": {
    "collapsed": false
   },
   "outputs": [],
   "source": [
    "import numpy as np\n",
    "import pandas as pd\n",
    "from sklearn.feature_extraction.text import *\n",
    "from sklearn.cross_validation import cross_val_score\n",
    "from sklearn.linear_model import LogisticRegression\n",
    "from sklearn.naive_bayes import MultinomialNB"
   ]
  },
  {
   "cell_type": "code",
   "execution_count": 100,
   "metadata": {
    "collapsed": false
   },
   "outputs": [],
   "source": [
    "def out(fname, num):\n",
    "    with open(fname, 'w') as f:\n",
    "        f.write(str(num))\n",
    "\n",
    "def out_many(fname, nums):\n",
    "    with open(fname, 'w') as f:\n",
    "        for num in nums:\n",
    "            f.write(str(num)+' ')"
   ]
  },
  {
   "cell_type": "code",
   "execution_count": 45,
   "metadata": {
    "collapsed": false
   },
   "outputs": [],
   "source": [
    "data = pd.read_csv('smsspamcollection/SMSSpamCollection.txt', sep='\\t', header=None, names=['label', 'text'])"
   ]
  },
  {
   "cell_type": "code",
   "execution_count": 46,
   "metadata": {
    "collapsed": false
   },
   "outputs": [
    {
     "data": {
      "text/html": [
       "<div>\n",
       "<table border=\"1\" class=\"dataframe\">\n",
       "  <thead>\n",
       "    <tr style=\"text-align: right;\">\n",
       "      <th></th>\n",
       "      <th>label</th>\n",
       "      <th>text</th>\n",
       "    </tr>\n",
       "  </thead>\n",
       "  <tbody>\n",
       "    <tr>\n",
       "      <th>0</th>\n",
       "      <td>ham</td>\n",
       "      <td>Go until jurong point, crazy.. Available only ...</td>\n",
       "    </tr>\n",
       "    <tr>\n",
       "      <th>1</th>\n",
       "      <td>ham</td>\n",
       "      <td>Ok lar... Joking wif u oni...</td>\n",
       "    </tr>\n",
       "    <tr>\n",
       "      <th>2</th>\n",
       "      <td>spam</td>\n",
       "      <td>Free entry in 2 a wkly comp to win FA Cup fina...</td>\n",
       "    </tr>\n",
       "    <tr>\n",
       "      <th>3</th>\n",
       "      <td>ham</td>\n",
       "      <td>U dun say so early hor... U c already then say...</td>\n",
       "    </tr>\n",
       "    <tr>\n",
       "      <th>4</th>\n",
       "      <td>ham</td>\n",
       "      <td>Nah I don't think he goes to usf, he lives aro...</td>\n",
       "    </tr>\n",
       "  </tbody>\n",
       "</table>\n",
       "</div>"
      ],
      "text/plain": [
       "  label                                               text\n",
       "0   ham  Go until jurong point, crazy.. Available only ...\n",
       "1   ham                      Ok lar... Joking wif u oni...\n",
       "2  spam  Free entry in 2 a wkly comp to win FA Cup fina...\n",
       "3   ham  U dun say so early hor... U c already then say...\n",
       "4   ham  Nah I don't think he goes to usf, he lives aro..."
      ]
     },
     "execution_count": 46,
     "metadata": {},
     "output_type": "execute_result"
    }
   ],
   "source": [
    "data.head()"
   ]
  },
  {
   "cell_type": "code",
   "execution_count": 71,
   "metadata": {
    "collapsed": false
   },
   "outputs": [
    {
     "data": {
      "text/plain": [
       "0    0\n",
       "1    0\n",
       "2    1\n",
       "3    0\n",
       "4    0\n",
       "Name: y, dtype: int64"
      ]
     },
     "execution_count": 71,
     "metadata": {},
     "output_type": "execute_result"
    }
   ],
   "source": [
    "data['y'] = data.apply(lambda row: 1 if row.label == 'spam' else 0, axis=1)\n",
    "data['y'][:5]"
   ]
  },
  {
   "cell_type": "code",
   "execution_count": 72,
   "metadata": {
    "collapsed": false
   },
   "outputs": [],
   "source": [
    "texts = data['text'].values\n",
    "y = data['y'].values"
   ]
  },
  {
   "cell_type": "code",
   "execution_count": 78,
   "metadata": {
    "collapsed": false
   },
   "outputs": [],
   "source": [
    "vectorizer = CountVectorizer()\n",
    "X = vectorizer.fit_transform(texts)"
   ]
  },
  {
   "cell_type": "markdown",
   "metadata": {},
   "source": [
    "5.Оцените качество классификации текстов с помощью LogisticRegression() с параметрами по умолчанию, используя sklearn.cross_validation.cross_val_score и посчитав среднее арифметическое качества на отдельных fold'ах. Установите random_state=2. Параметр cv задайте равным 10. В качестве метрики качества используйте f1-меру. Получившееся качество - один из ответов, которые потребуются при сдаче задания. Ответ округлить до 1 знака после запятой."
   ]
  },
  {
   "cell_type": "code",
   "execution_count": 79,
   "metadata": {
    "collapsed": false
   },
   "outputs": [
    {
     "name": "stdout",
     "output_type": "stream",
     "text": [
      "Logistic Regression score: 0.932640\n",
      "Answer 5: 0.900000\n"
     ]
    }
   ],
   "source": [
    "clf_logreg = LogisticRegression(random_state=2)\n",
    "scores_logreg = cross_val_score(estimator=clf_logreg, X=X, y=y, cv=10, scoring='f1')\n",
    "mean_scores_logreg = np.mean(scores_logreg)\n",
    "print('Logistic Regression score: %f') % mean_scores_logreg\n",
    "print('Answer 5: %f') % round(mean_scores_logreg, 1)\n",
    "out('5.txt', round(mean_scores_logreg, 1))"
   ]
  },
  {
   "cell_type": "markdown",
   "metadata": {},
   "source": [
    "6.А теперь обучите классификатор на всей выборке и спрогнозируйте с его помощью класс для следующих сообщений:\n",
    "\n",
    "\"FreeMsg: Txt: CALL to No: 86888 & claim your reward of 3 hours talk time to use from your phone now! Subscribe6GB\"\n",
    "\n",
    "\"FreeMsg: Txt: claim your reward of 3 hours talk time\"\n",
    "\n",
    "\"Have you visited the last lecture on physics?\"\n",
    "\n",
    "\"Have you visited the last lecture on physics? Just buy this book and you will have all materials! Only 99$\"\n",
    "\n",
    "\"Only 99$\"\n",
    "\n",
    "Прогнозы классификатора (0 - не спам, 1 - спам), записанные через пробел, будут ответом в одном из вопросов ниже."
   ]
  },
  {
   "cell_type": "code",
   "execution_count": 80,
   "metadata": {
    "collapsed": true
   },
   "outputs": [],
   "source": [
    "model_logreg = clf_logreg.fit(X=X, y=y)"
   ]
  },
  {
   "cell_type": "code",
   "execution_count": 106,
   "metadata": {
    "collapsed": false
   },
   "outputs": [
    {
     "name": "stdout",
     "output_type": "stream",
     "text": [
      "[1 1 0 0 0]\n"
     ]
    }
   ],
   "source": [
    "tests = ['FreeMsg: Txt: CALL to No: 86888 & claim your reward of 3 hours talk time to use from your phone now! Subscribe6GB',\\\n",
    "         'FreeMsg: Txt: claim your reward of 3 hours talk time',\\\n",
    "         'Have you visited the last lecture on physics?',\\\n",
    "         'Have you visited the last lecture on physics? Just buy this book and you will have all materials! Only 99$',\\\n",
    "         'Only 99$'\n",
    "        ]\n",
    "test_X = vectorizer.transform(tests)\n",
    "test_results = model_logreg.predict(test_X)\n",
    "print test_results\n",
    "out_many('6.txt', test_results)"
   ]
  },
  {
   "cell_type": "markdown",
   "metadata": {},
   "source": [
    "7.Задайте в CountVectorizer параметр ngram_range=(2,2), затем ngram_range=(3,3), затем ngram_range=(1,3). Во всех трех случаях измерьте получившееся в кросс-валидации значение f1-меры, округлите до второго знака после точки, и выпишете результаты через пробел в том же порядке. В данном эксперименте мы пробовали добавлять в признаки n-граммы для разных диапазонов n - только биграммы, только триграммы, и, наконец, все вместе - униграммы, биграммы и триграммы. Обратите внимание, что статистики по биграммам и триграммам намного меньше, поэтому классификатор только на них работает хуже. В то же время это не ухудшает результат сколько-нибудь существенно, если добавлять их вместе с униграммами, т.к. за счет регуляризации линейный классификатор не склонен сильно переобучаться на этих признаках."
   ]
  },
  {
   "cell_type": "code",
   "execution_count": 88,
   "metadata": {
    "collapsed": false
   },
   "outputs": [],
   "source": [
    "def fit_count_vectorizer(ngram_range, texts):\n",
    "    vect = CountVectorizer(ngram_range=ngram_range)\n",
    "    train_X = vect.fit_transform(texts)\n",
    "    return train_X\n",
    "    \n",
    "def evaluate(clf, X, y):\n",
    "    scores = cross_val_score(estimator=clf, X=X, y=y, cv=10, scoring='f1')\n",
    "    return np.mean(scores)"
   ]
  },
  {
   "cell_type": "code",
   "execution_count": 104,
   "metadata": {
    "collapsed": false
   },
   "outputs": [
    {
     "name": "stdout",
     "output_type": "stream",
     "text": [
      "Logistic Regression score for (2,2)-grams: 0.822422\n",
      "Logistic Regression score for (3,3)-grams: 0.725016\n",
      "Logistic Regression score for (1,3)-grams: 0.925138\n"
     ]
    }
   ],
   "source": [
    "ngram_ranges = [(2,2), (3,3), (1,3)]\n",
    "scores = []\n",
    "\n",
    "for ngram_range in ngram_ranges:\n",
    "    train_X = fit_count_vectorizer(ngram_range, texts)\n",
    "    score = evaluate(clf_logreg, train_X, y)\n",
    "    scores.append(score)\n",
    "    print('Logistic Regression score for (%i,%i)-grams: %f' % (ngram_range[0], ngram_range[1], score))\n",
    "    \n",
    "out_many('7.txt', [round(x, 2) for x in scores])"
   ]
  },
  {
   "cell_type": "markdown",
   "metadata": {},
   "source": [
    "8.Повторите аналогичный п.7 эксперимент, используя вместо логистической регрессии MultinomialNB(). Обратите внимание, насколько сильнее (по сравнению с линейным классификатором) наивный Байес страдает от нехватки статистики по биграммам и триграммам.\n",
    "\n",
    "По какой-то причине обучение наивного байесовского классификатора через Pipeline происходит с ошибкой. Чтобы получить правильный ответ, отдельно посчитайте частоты слов и обучите классификатор. "
   ]
  },
  {
   "cell_type": "code",
   "execution_count": 105,
   "metadata": {
    "collapsed": false
   },
   "outputs": [
    {
     "name": "stdout",
     "output_type": "stream",
     "text": [
      "Multinomial Naive Bayes score without n-grams: 0.927730\n",
      "Multinomial Naive Bayes score for (2,2)-grams: 0.645502\n",
      "Multinomial Naive Bayes score for (3,3)-grams: 0.378719\n",
      "Multinomial Naive Bayes score for (1,3)-grams: 0.888486\n"
     ]
    }
   ],
   "source": [
    "clf_NB = MultinomialNB()\n",
    "train_X = fit_count_vectorizer((1,1), texts)\n",
    "score = evaluate(clf_NB, train_X, y)\n",
    "print('Multinomial Naive Bayes score without n-grams: %f' % (score))\n",
    "\n",
    "scores_NB = []\n",
    "for ngram_range in ngram_ranges:\n",
    "    train_X = fit_count_vectorizer(ngram_range, texts)\n",
    "    score = evaluate(clf_NB, train_X, y)\n",
    "    scores_NB.append(score)\n",
    "    print('Multinomial Naive Bayes score for (%i,%i)-grams: %f' % (ngram_range[0], ngram_range[1], score))\n",
    "    \n",
    "out_many('8.txt', [round(x, 2) for x in scores_NB])"
   ]
  },
  {
   "cell_type": "markdown",
   "metadata": {},
   "source": [
    "9.Попробуйте использовать в логистической регрессии в качестве признаков Tf*idf из TfidfVectorizer на униграммах. Повысилось или понизилось качество на кросс-валидации по сравнению с CountVectorizer на униграммах? (напишите в файле с ответом 1, если повысилось, -1, если понизилось, и 0, если изменилось не более чем на 0.01). Обратите внимание, что результат перехода к tf*idf не всегда будет таким - если вы наблюдаете какое-то явление на одном датасете, не надо сразу же его обобщать на любые данны"
   ]
  },
  {
   "cell_type": "code",
   "execution_count": 110,
   "metadata": {
    "collapsed": false
   },
   "outputs": [
    {
     "name": "stdout",
     "output_type": "stream",
     "text": [
      "Logistic Regression with CountVectorizer score on unigrams: 0.932640\n",
      "Logistic Regression with TfidfVectorizer score on unigrams: 0.852860\n",
      "Score difference: -0.079780\n"
     ]
    }
   ],
   "source": [
    "vect = TfidfVectorizer()\n",
    "train_X = vect.fit_transform(texts)\n",
    "score_tfidf = evaluate(clf_logreg, train_X, y)\n",
    "print('Logistic Regression with CountVectorizer score on unigrams: %f') % mean_scores_logreg\n",
    "print('Logistic Regression with TfidfVectorizer score on unigrams: %f') % score_tfidf\n",
    "diff = score_tfidf - mean_scores_logreg\n",
    "print('Score difference: %f') % (diff)\n",
    "if abs(diff) <= 0.01:\n",
    "    out('9.txt', 0)\n",
    "elif diff < 0:\n",
    "    out('9.txt', -1)\n",
    "else:\n",
    "    out('9.txt', 1)"
   ]
  },
  {
   "cell_type": "code",
   "execution_count": null,
   "metadata": {
    "collapsed": true
   },
   "outputs": [],
   "source": []
  }
 ],
 "metadata": {
  "kernelspec": {
   "display_name": "Python 2",
   "language": "python",
   "name": "python2"
  },
  "language_info": {
   "codemirror_mode": {
    "name": "ipython",
    "version": 2
   },
   "file_extension": ".py",
   "mimetype": "text/x-python",
   "name": "python",
   "nbconvert_exporter": "python",
   "pygments_lexer": "ipython2",
   "version": "2.7.11"
  }
 },
 "nbformat": 4,
 "nbformat_minor": 0
}
