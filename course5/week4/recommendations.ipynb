{
 "cells": [
  {
   "cell_type": "code",
   "execution_count": 129,
   "metadata": {
    "collapsed": true
   },
   "outputs": [],
   "source": [
    "import numpy as np;\n",
    "import pandas as pd;\n",
    "from  math import *;\n",
    "from collections import Counter;"
   ]
  },
  {
   "cell_type": "code",
   "execution_count": 130,
   "metadata": {
    "collapsed": true
   },
   "outputs": [],
   "source": [
    "def out(fname, num):\n",
    "    with open(fname, 'w') as f:\n",
    "        f.write(str(num))\n",
    "\n",
    "def out_many(fname, nums):\n",
    "    with open(fname, 'w') as f:\n",
    "        for num in nums:\n",
    "            f.write(str(num)+' ')"
   ]
  },
  {
   "cell_type": "code",
   "execution_count": 166,
   "metadata": {
    "collapsed": true
   },
   "outputs": [],
   "source": [
    "train = pd.read_csv('coursera_sessions_train.txt', sep=';', names=['see', 'buy'])\n",
    "test = pd.read_csv('coursera_sessions_test.txt', sep=';', names=['see', 'buy'])"
   ]
  },
  {
   "cell_type": "code",
   "execution_count": 167,
   "metadata": {
    "collapsed": true
   },
   "outputs": [],
   "source": [
    "train = train.fillna('')\n",
    "test = test.fillna('')"
   ]
  },
  {
   "cell_type": "code",
   "execution_count": 168,
   "metadata": {
    "collapsed": false
   },
   "outputs": [],
   "source": [
    "train['see_items'] = train['see'].apply(lambda x: [int(ind) for ind in x.split(',')])\n",
    "train['n_unique_see_items'] = train['see_items'].apply(lambda x: len(set(x)))\n",
    "train['buy_items'] = train['buy'].apply(lambda x: [] if len(str(x))==0 else [int(float(ind)) for ind in str(x).split(',')])\n",
    "\n",
    "test['see_items'] = test['see'].apply(lambda x: [int(ind) for ind in x.split(',')])\n",
    "test['n_unique_see_items'] = test['see_items'].apply(lambda x: len(set(x)))\n",
    "test['buy_items'] = test['buy'].apply(lambda x: [] if len(str(x))==0 else [int(float(ind)) for ind in str(x).split(',')])"
   ]
  },
  {
   "cell_type": "code",
   "execution_count": 169,
   "metadata": {
    "collapsed": false
   },
   "outputs": [],
   "source": [
    "see_count = Counter()\n",
    "for s in train.see_items:\n",
    "    see_count.update(s)\n",
    "    \n",
    "buy_count = Counter()\n",
    "for b in train.buy_items:\n",
    "    buy_count.update(b)"
   ]
  },
  {
   "cell_type": "code",
   "execution_count": 170,
   "metadata": {
    "collapsed": true
   },
   "outputs": [],
   "source": [
    "def sortByCounts(x, y):\n",
    "    if (x[1] > y[1]):\n",
    "        return 1\n",
    "    elif (x[1] < y[1]):\n",
    "        return -1\n",
    "    return 0\n",
    "\n",
    "def by_see_freq(k, ids):\n",
    "    counts = [(id, see_count[id]) for id in pd.unique(ids)]\n",
    "    counts.sort(cmp=sortByCounts, reverse=True)\n",
    "    return [x[0] for x in counts[:k]]\n",
    "\n",
    "def by_buy_freq(k, ids):\n",
    "    counts = [(id, buy_count[id]) for id in pd.unique(ids)]\n",
    "    counts.sort(cmp=sortByCounts, reverse=True)\n",
    "    return [x[0] for x in counts[:k]]\n",
    "\n",
    "def intersect(a, b):\n",
    "    return [x for x in a if (x in b)]"
   ]
  },
  {
   "cell_type": "code",
   "execution_count": 174,
   "metadata": {
    "collapsed": false
   },
   "outputs": [
    {
     "data": {
      "text/html": [
       "<div>\n",
       "<table border=\"1\" class=\"dataframe\">\n",
       "  <thead>\n",
       "    <tr style=\"text-align: right;\">\n",
       "      <th></th>\n",
       "      <th>see</th>\n",
       "      <th>buy</th>\n",
       "      <th>see_items</th>\n",
       "      <th>n_unique_see_items</th>\n",
       "      <th>buy_items</th>\n",
       "    </tr>\n",
       "  </thead>\n",
       "  <tbody>\n",
       "    <tr>\n",
       "      <th>7</th>\n",
       "      <td>59,60,61,62,60,63,64,65,66,61,67,68,67</td>\n",
       "      <td>67,60,63</td>\n",
       "      <td>[59, 60, 61, 62, 60, 63, 64, 65, 66, 61, 67, 6...</td>\n",
       "      <td>10</td>\n",
       "      <td>[67, 60, 63]</td>\n",
       "    </tr>\n",
       "    <tr>\n",
       "      <th>10</th>\n",
       "      <td>84,85,86,87,88,89,84,90,91,92,93,86</td>\n",
       "      <td>86</td>\n",
       "      <td>[84, 85, 86, 87, 88, 89, 84, 90, 91, 92, 93, 86]</td>\n",
       "      <td>10</td>\n",
       "      <td>[86]</td>\n",
       "    </tr>\n",
       "    <tr>\n",
       "      <th>19</th>\n",
       "      <td>138,198,199,127</td>\n",
       "      <td>199</td>\n",
       "      <td>[138, 198, 199, 127]</td>\n",
       "      <td>4</td>\n",
       "      <td>[199]</td>\n",
       "    </tr>\n",
       "    <tr>\n",
       "      <th>30</th>\n",
       "      <td>303,304,305,306,307,308,309,310,311,312</td>\n",
       "      <td>303</td>\n",
       "      <td>[303, 304, 305, 306, 307, 308, 309, 310, 311, ...</td>\n",
       "      <td>10</td>\n",
       "      <td>[303]</td>\n",
       "    </tr>\n",
       "    <tr>\n",
       "      <th>33</th>\n",
       "      <td>352,353,352</td>\n",
       "      <td>352</td>\n",
       "      <td>[352, 353, 352]</td>\n",
       "      <td>2</td>\n",
       "      <td>[352]</td>\n",
       "    </tr>\n",
       "    <tr>\n",
       "      <th>55</th>\n",
       "      <td>519</td>\n",
       "      <td>519</td>\n",
       "      <td>[519]</td>\n",
       "      <td>1</td>\n",
       "      <td>[519]</td>\n",
       "    </tr>\n",
       "    <tr>\n",
       "      <th>64</th>\n",
       "      <td>599,600,601,602</td>\n",
       "      <td>603,604,602,599,605,606,600</td>\n",
       "      <td>[599, 600, 601, 602]</td>\n",
       "      <td>4</td>\n",
       "      <td>[603, 604, 602, 599, 605, 606, 600]</td>\n",
       "    </tr>\n",
       "    <tr>\n",
       "      <th>72</th>\n",
       "      <td>687,688,689,690,691,690,688,690,688,692</td>\n",
       "      <td>690,688</td>\n",
       "      <td>[687, 688, 689, 690, 691, 690, 688, 690, 688, ...</td>\n",
       "      <td>6</td>\n",
       "      <td>[690, 688]</td>\n",
       "    </tr>\n",
       "    <tr>\n",
       "      <th>89</th>\n",
       "      <td>850,851,852</td>\n",
       "      <td>851</td>\n",
       "      <td>[850, 851, 852]</td>\n",
       "      <td>3</td>\n",
       "      <td>[851]</td>\n",
       "    </tr>\n",
       "    <tr>\n",
       "      <th>93</th>\n",
       "      <td>879,884,170,137,170,879,884,879,885,886,879,88...</td>\n",
       "      <td>879</td>\n",
       "      <td>[879, 884, 170, 137, 170, 879, 884, 879, 885, ...</td>\n",
       "      <td>8</td>\n",
       "      <td>[879]</td>\n",
       "    </tr>\n",
       "  </tbody>\n",
       "</table>\n",
       "</div>"
      ],
      "text/plain": [
       "                                                  see  \\\n",
       "7              59,60,61,62,60,63,64,65,66,61,67,68,67   \n",
       "10                84,85,86,87,88,89,84,90,91,92,93,86   \n",
       "19                                    138,198,199,127   \n",
       "30            303,304,305,306,307,308,309,310,311,312   \n",
       "33                                        352,353,352   \n",
       "55                                                519   \n",
       "64                                    599,600,601,602   \n",
       "72            687,688,689,690,691,690,688,690,688,692   \n",
       "89                                        850,851,852   \n",
       "93  879,884,170,137,170,879,884,879,885,886,879,88...   \n",
       "\n",
       "                            buy  \\\n",
       "7                      67,60,63   \n",
       "10                           86   \n",
       "19                          199   \n",
       "30                          303   \n",
       "33                          352   \n",
       "55                          519   \n",
       "64  603,604,602,599,605,606,600   \n",
       "72                      690,688   \n",
       "89                          851   \n",
       "93                          879   \n",
       "\n",
       "                                            see_items  n_unique_see_items  \\\n",
       "7   [59, 60, 61, 62, 60, 63, 64, 65, 66, 61, 67, 6...                  10   \n",
       "10   [84, 85, 86, 87, 88, 89, 84, 90, 91, 92, 93, 86]                  10   \n",
       "19                               [138, 198, 199, 127]                   4   \n",
       "30  [303, 304, 305, 306, 307, 308, 309, 310, 311, ...                  10   \n",
       "33                                    [352, 353, 352]                   2   \n",
       "55                                              [519]                   1   \n",
       "64                               [599, 600, 601, 602]                   4   \n",
       "72  [687, 688, 689, 690, 691, 690, 688, 690, 688, ...                   6   \n",
       "89                                    [850, 851, 852]                   3   \n",
       "93  [879, 884, 170, 137, 170, 879, 884, 879, 885, ...                   8   \n",
       "\n",
       "                              buy_items  \n",
       "7                          [67, 60, 63]  \n",
       "10                                 [86]  \n",
       "19                                [199]  \n",
       "30                                [303]  \n",
       "33                                [352]  \n",
       "55                                [519]  \n",
       "64  [603, 604, 602, 599, 605, 606, 600]  \n",
       "72                           [690, 688]  \n",
       "89                                [851]  \n",
       "93                                [879]  "
      ]
     },
     "execution_count": 174,
     "metadata": {},
     "output_type": "execute_result"
    }
   ],
   "source": [
    "sessions = train[train.apply(lambda x: len(x['buy_items']) > 0, axis=1)]\n",
    "sessions.head(10)"
   ]
  },
  {
   "cell_type": "code",
   "execution_count": 175,
   "metadata": {
    "collapsed": false
   },
   "outputs": [
    {
     "data": {
      "text/plain": [
       "[67, 60, 63]"
      ]
     },
     "execution_count": 175,
     "metadata": {},
     "output_type": "execute_result"
    }
   ],
   "source": [
    "sessions.buy_items.values[0]"
   ]
  },
  {
   "cell_type": "code",
   "execution_count": 176,
   "metadata": {
    "collapsed": false
   },
   "outputs": [],
   "source": [
    "def avg_precision(data, k, recommend_model):\n",
    "    precision = 0\n",
    "    for _, row in data.iterrows():\n",
    "        #n = min(k, row.n_unique_see_items)\n",
    "        recommended = recommend_model(k, row.see_items)\n",
    "        precision += len(intersect(recommended, row.buy_items)) / float(k)\n",
    "    precision /= len(data)\n",
    "    return precision\n",
    "    \n",
    "def avg_recall(data, k, recommend_model):\n",
    "    recall = 0\n",
    "    for _, row in data.iterrows():\n",
    "        #n = min(k, row.n_unique_see_items)\n",
    "        recommended = recommend_model(k, row.see_items)\n",
    "        recall += len(intersect(recommended, row.buy_items)) / float(len(pd.unique(row.buy_items)))\n",
    "    recall /= len(data)\n",
    "    return recall"
   ]
  },
  {
   "cell_type": "raw",
   "metadata": {},
   "source": [
    "print avg_precision(sessions, 1, by_buy_freq)\n",
    "print avg_precision(sessions, 2, by_buy_freq)\n",
    "print avg_recall(sessions, 1, by_buy_freq)\n",
    "print avg_recall(sessions, 2, by_buy_freq)"
   ]
  },
  {
   "cell_type": "code",
   "execution_count": 177,
   "metadata": {
    "collapsed": false
   },
   "outputs": [
    {
     "name": "stdout",
     "output_type": "stream",
     "text": [
      "Average precision for k=1 for By See Frequency algorythm: 0.512195\n",
      "Average recall for k=1 for By See Frequency algorythm: 0.442634\n"
     ]
    }
   ],
   "source": [
    "k = 1\n",
    "avg_precision1_by_see = avg_precision(sessions, k, by_see_freq)\n",
    "print 'Average precision for k=%i for By See Frequency algorythm: %f' % (k, avg_precision1_by_see)\n",
    "avg_recall1_by_see = avg_recall(sessions, k, by_see_freq)\n",
    "print 'Average recall for k=%i for By See Frequency algorythm: %f' % (k, avg_recall1_by_see)"
   ]
  },
  {
   "cell_type": "code",
   "execution_count": 178,
   "metadata": {
    "collapsed": false
   },
   "outputs": [
    {
     "name": "stdout",
     "output_type": "stream",
     "text": [
      "Average precision for k=5 for By See Frequency algorythm: 0.212528\n",
      "Average recall for k=5 for By See Frequency algorythm: 0.824692\n"
     ]
    }
   ],
   "source": [
    "k = 5\n",
    "avg_precision5_by_see = avg_precision(sessions, k, by_see_freq)\n",
    "print 'Average precision for k=%i for By See Frequency algorythm: %f' % (k, avg_precision5_by_see)\n",
    "avg_recall5_by_see = avg_recall(sessions, k, by_see_freq)\n",
    "print 'Average recall for k=%i for By See Frequency algorythm: %f' % (k, avg_recall5_by_see)"
   ]
  },
  {
   "cell_type": "code",
   "execution_count": 179,
   "metadata": {
    "collapsed": false
   },
   "outputs": [
    {
     "name": "stdout",
     "output_type": "stream",
     "text": [
      "Average precision for k=1 for By Buy Frequency algorythm: 0.803769\n",
      "Average recall for k=1 for By Buy Frequency algorythm: 0.688449\n",
      "Average precision for k=5 for By Buy Frequency algorythm: 0.252550\n",
      "Average recall for k=5 for By Buy Frequency algorythm: 0.926307\n"
     ]
    }
   ],
   "source": [
    "k = 1\n",
    "avg_precision1_by_buy = avg_precision(sessions, k, by_buy_freq)\n",
    "print 'Average precision for k=%i for By Buy Frequency algorythm: %f' % (k, avg_precision1_by_buy)\n",
    "avg_recall1_by_buy = avg_recall(sessions, k, by_buy_freq)\n",
    "print 'Average recall for k=%i for By Buy Frequency algorythm: %f' % (k, avg_recall1_by_buy)\n",
    "\n",
    "k = 5\n",
    "avg_precision5_by_buy = avg_precision(sessions, k, by_buy_freq)\n",
    "print 'Average precision for k=%i for By Buy Frequency algorythm: %f' % (k, avg_precision5_by_buy)\n",
    "avg_recall5_by_buy = avg_recall(sessions, k, by_buy_freq)\n",
    "print 'Average recall for k=%i for By Buy Frequency algorythm: %f' % (k, avg_recall5_by_buy)"
   ]
  },
  {
   "cell_type": "code",
   "execution_count": 180,
   "metadata": {
    "collapsed": false
   },
   "outputs": [],
   "source": [
    "ans1 = [round(avg_recall1_by_see, 2), round(avg_precision1_by_see, 2), round(avg_recall5_by_see, 2), round(avg_precision5_by_see, 2)]\n",
    "out_many('1.txt', ans1)\n",
    "ans3 = [round(avg_recall1_by_buy, 2), round(avg_precision1_by_buy, 2), round(avg_recall5_by_buy, 2), round(avg_precision5_by_buy, 2)]\n",
    "out_many('3.txt', ans3)"
   ]
  },
  {
   "cell_type": "code",
   "execution_count": 181,
   "metadata": {
    "collapsed": false
   },
   "outputs": [
    {
     "data": {
      "text/html": [
       "<div>\n",
       "<table border=\"1\" class=\"dataframe\">\n",
       "  <thead>\n",
       "    <tr style=\"text-align: right;\">\n",
       "      <th></th>\n",
       "      <th>see</th>\n",
       "      <th>buy</th>\n",
       "      <th>see_items</th>\n",
       "      <th>n_unique_see_items</th>\n",
       "      <th>buy_items</th>\n",
       "    </tr>\n",
       "  </thead>\n",
       "  <tbody>\n",
       "    <tr>\n",
       "      <th>7</th>\n",
       "      <td>63,68,69,70,66,61,59,61,66,68</td>\n",
       "      <td>66,63</td>\n",
       "      <td>[63, 68, 69, 70, 66, 61, 59, 61, 66, 68]</td>\n",
       "      <td>7</td>\n",
       "      <td>[66, 63]</td>\n",
       "    </tr>\n",
       "    <tr>\n",
       "      <th>14</th>\n",
       "      <td>158,159,160,159,161,162</td>\n",
       "      <td>162</td>\n",
       "      <td>[158, 159, 160, 159, 161, 162]</td>\n",
       "      <td>5</td>\n",
       "      <td>[162]</td>\n",
       "    </tr>\n",
       "    <tr>\n",
       "      <th>19</th>\n",
       "      <td>200,201,202,203,204</td>\n",
       "      <td>201,205</td>\n",
       "      <td>[200, 201, 202, 203, 204]</td>\n",
       "      <td>5</td>\n",
       "      <td>[201, 205]</td>\n",
       "    </tr>\n",
       "    <tr>\n",
       "      <th>34</th>\n",
       "      <td>371,372,371</td>\n",
       "      <td>371,373</td>\n",
       "      <td>[371, 372, 371]</td>\n",
       "      <td>2</td>\n",
       "      <td>[371, 373]</td>\n",
       "    </tr>\n",
       "    <tr>\n",
       "      <th>40</th>\n",
       "      <td>422</td>\n",
       "      <td>422</td>\n",
       "      <td>[422]</td>\n",
       "      <td>1</td>\n",
       "      <td>[422]</td>\n",
       "    </tr>\n",
       "    <tr>\n",
       "      <th>47</th>\n",
       "      <td>463,465,466,465,19,467,464,468,469,470,471,472...</td>\n",
       "      <td>462,460</td>\n",
       "      <td>[463, 465, 466, 465, 19, 467, 464, 468, 469, 4...</td>\n",
       "      <td>13</td>\n",
       "      <td>[462, 460]</td>\n",
       "    </tr>\n",
       "    <tr>\n",
       "      <th>57</th>\n",
       "      <td>543,544,545,546</td>\n",
       "      <td>543</td>\n",
       "      <td>[543, 544, 545, 546]</td>\n",
       "      <td>4</td>\n",
       "      <td>[543]</td>\n",
       "    </tr>\n",
       "    <tr>\n",
       "      <th>94</th>\n",
       "      <td>900,894,904,894,902,904,905,906,895,894,901,89...</td>\n",
       "      <td>904</td>\n",
       "      <td>[900, 894, 904, 894, 902, 904, 905, 906, 895, ...</td>\n",
       "      <td>21</td>\n",
       "      <td>[904]</td>\n",
       "    </tr>\n",
       "    <tr>\n",
       "      <th>115</th>\n",
       "      <td>1063</td>\n",
       "      <td>1063</td>\n",
       "      <td>[1063]</td>\n",
       "      <td>1</td>\n",
       "      <td>[1063]</td>\n",
       "    </tr>\n",
       "    <tr>\n",
       "      <th>125</th>\n",
       "      <td>1119,1120,1121,1122,1123,1124,1125,1126,1123,1...</td>\n",
       "      <td>1126</td>\n",
       "      <td>[1119, 1120, 1121, 1122, 1123, 1124, 1125, 112...</td>\n",
       "      <td>8</td>\n",
       "      <td>[1126]</td>\n",
       "    </tr>\n",
       "  </tbody>\n",
       "</table>\n",
       "</div>"
      ],
      "text/plain": [
       "                                                   see      buy  \\\n",
       "7                        63,68,69,70,66,61,59,61,66,68    66,63   \n",
       "14                             158,159,160,159,161,162      162   \n",
       "19                                 200,201,202,203,204  201,205   \n",
       "34                                         371,372,371  371,373   \n",
       "40                                                 422      422   \n",
       "47   463,465,466,465,19,467,464,468,469,470,471,472...  462,460   \n",
       "57                                     543,544,545,546      543   \n",
       "94   900,894,904,894,902,904,905,906,895,894,901,89...      904   \n",
       "115                                               1063     1063   \n",
       "125  1119,1120,1121,1122,1123,1124,1125,1126,1123,1...     1126   \n",
       "\n",
       "                                             see_items  n_unique_see_items  \\\n",
       "7             [63, 68, 69, 70, 66, 61, 59, 61, 66, 68]                   7   \n",
       "14                      [158, 159, 160, 159, 161, 162]                   5   \n",
       "19                           [200, 201, 202, 203, 204]                   5   \n",
       "34                                     [371, 372, 371]                   2   \n",
       "40                                               [422]                   1   \n",
       "47   [463, 465, 466, 465, 19, 467, 464, 468, 469, 4...                  13   \n",
       "57                                [543, 544, 545, 546]                   4   \n",
       "94   [900, 894, 904, 894, 902, 904, 905, 906, 895, ...                  21   \n",
       "115                                             [1063]                   1   \n",
       "125  [1119, 1120, 1121, 1122, 1123, 1124, 1125, 112...                   8   \n",
       "\n",
       "      buy_items  \n",
       "7      [66, 63]  \n",
       "14        [162]  \n",
       "19   [201, 205]  \n",
       "34   [371, 373]  \n",
       "40        [422]  \n",
       "47   [462, 460]  \n",
       "57        [543]  \n",
       "94        [904]  \n",
       "115      [1063]  \n",
       "125      [1126]  "
      ]
     },
     "execution_count": 181,
     "metadata": {},
     "output_type": "execute_result"
    }
   ],
   "source": [
    "test_sessions = test[test.apply(lambda x: len(x['buy_items']) > 0, axis=1)]"
   ]
  },
  {
   "cell_type": "code",
   "execution_count": 182,
   "metadata": {
    "collapsed": false
   },
   "outputs": [
    {
     "name": "stdout",
     "output_type": "stream",
     "text": [
      "Test: Average precision for k=1 for By See Frequency algorythm: 0.481310\n",
      "Test: Average recall for k=1 for By See Frequency algorythm: 0.417333\n",
      "Test: Average precision for k=5 for By See Frequency algorythm: 0.203765\n",
      "Test: Average recall for k=5 for By See Frequency algorythm: 0.800034\n"
     ]
    }
   ],
   "source": [
    "k = 1\n",
    "avg_precision1_by_see_test = avg_precision(test_sessions, k, by_see_freq)\n",
    "print 'Test: Average precision for k=%i for By See Frequency algorythm: %f' % (k, avg_precision1_by_see_test)\n",
    "avg_recall1_by_see_test = avg_recall(test_sessions, k, by_see_freq)\n",
    "print 'Test: Average recall for k=%i for By See Frequency algorythm: %f' % (k, avg_recall1_by_see_test)\n",
    "\n",
    "k = 5\n",
    "avg_precision5_by_see_test = avg_precision(test_sessions, k, by_see_freq)\n",
    "print 'Test: Average precision for k=%i for By See Frequency algorythm: %f' % (k, avg_precision5_by_see_test)\n",
    "avg_recall5_by_see_test = avg_recall(test_sessions, k, by_see_freq)\n",
    "print 'Test: Average recall for k=%i for By See Frequency algorythm: %f' % (k, avg_recall5_by_see_test)"
   ]
  },
  {
   "cell_type": "code",
   "execution_count": 183,
   "metadata": {
    "collapsed": true
   },
   "outputs": [],
   "source": [
    "ans2 = [round(avg_recall1_by_see_test, 2), round(avg_precision1_by_see_test, 2), round(avg_recall5_by_see_test, 2), round(avg_precision5_by_see_test, 2)]\n",
    "out_many('2.txt', ans2)"
   ]
  },
  {
   "cell_type": "code",
   "execution_count": 184,
   "metadata": {
    "collapsed": false
   },
   "outputs": [
    {
     "name": "stdout",
     "output_type": "stream",
     "text": [
      "Test: Average precision for k=1 for By buy Frequency algorythm: 0.527694\n",
      "Test: Average recall for k=1 for By buy Frequency algorythm: 0.460620\n",
      "Test: Average precision for k=5 for By buy Frequency algorythm: 0.210095\n",
      "Test: Average recall for k=5 for By buy Frequency algorythm: 0.820187\n"
     ]
    }
   ],
   "source": [
    "k = 1\n",
    "avg_precision1_by_buy_test = avg_precision(test_sessions, k, by_buy_freq)\n",
    "print 'Test: Average precision for k=%i for By buy Frequency algorythm: %f' % (k, avg_precision1_by_buy_test)\n",
    "avg_recall1_by_buy_test = avg_recall(test_sessions, k, by_buy_freq)\n",
    "print 'Test: Average recall for k=%i for By buy Frequency algorythm: %f' % (k, avg_recall1_by_buy_test)\n",
    "\n",
    "k = 5\n",
    "avg_precision5_by_buy_test = avg_precision(test_sessions, k, by_buy_freq)\n",
    "print 'Test: Average precision for k=%i for By buy Frequency algorythm: %f' % (k, avg_precision5_by_buy_test)\n",
    "avg_recall5_by_buy_test = avg_recall(test_sessions, k, by_buy_freq)\n",
    "print 'Test: Average recall for k=%i for By buy Frequency algorythm: %f' % (k, avg_recall5_by_buy_test)"
   ]
  },
  {
   "cell_type": "code",
   "execution_count": 185,
   "metadata": {
    "collapsed": true
   },
   "outputs": [],
   "source": [
    "ans4 = [round(avg_recall1_by_buy_test, 2), round(avg_precision1_by_buy_test, 2), round(avg_recall5_by_buy_test, 2), round(avg_precision5_by_buy_test, 2)]\n",
    "out_many('4.txt', ans4)"
   ]
  },
  {
   "cell_type": "code",
   "execution_count": null,
   "metadata": {
    "collapsed": true
   },
   "outputs": [],
   "source": []
  }
 ],
 "metadata": {
  "kernelspec": {
   "display_name": "Python 2",
   "language": "python",
   "name": "python2"
  },
  "language_info": {
   "codemirror_mode": {
    "name": "ipython",
    "version": 2
   },
   "file_extension": ".py",
   "mimetype": "text/x-python",
   "name": "python",
   "nbconvert_exporter": "python",
   "pygments_lexer": "ipython2",
   "version": "2.7.11"
  }
 },
 "nbformat": 4,
 "nbformat_minor": 0
}
