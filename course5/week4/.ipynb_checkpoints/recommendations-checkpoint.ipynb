{
 "cells": [
  {
   "cell_type": "code",
   "execution_count": 1,
   "metadata": {
    "collapsed": true
   },
   "outputs": [],
   "source": [
    "import numpy as np;\n",
    "import pandas as pd;\n",
    "from  math import *;\n",
    "from collections import Counter;"
   ]
  },
  {
   "cell_type": "code",
   "execution_count": 2,
   "metadata": {
    "collapsed": true
   },
   "outputs": [],
   "source": [
    "train = pd.read_csv('coursera_sessions_train.txt', sep=';', names=['see', 'buy'])\n",
    "test = pd.read_csv('coursera_sessions_test.txt', sep=';', names=['see', 'buy'])"
   ]
  },
  {
   "cell_type": "code",
   "execution_count": 3,
   "metadata": {
    "collapsed": true
   },
   "outputs": [],
   "source": [
    "train = train.fillna('')\n",
    "test = test.fillna('')"
   ]
  },
  {
   "cell_type": "code",
   "execution_count": 4,
   "metadata": {
    "collapsed": false
   },
   "outputs": [
    {
     "name": "stdout",
     "output_type": "stream",
     "text": [
      "\n"
     ]
    }
   ],
   "source": [
    "i=6\n",
    "print train.buy[i]\n"
   ]
  },
  {
   "cell_type": "code",
   "execution_count": 5,
   "metadata": {
    "collapsed": false
   },
   "outputs": [],
   "source": [
    "train['see_items'] = train['see'].apply(lambda x: [int(ind) for ind in x.split(',')])\n",
    "train['n_unique_see_items'] = train['see_items'].apply(lambda x: len(set(x)))\n",
    "train['buy_items'] = train['buy'].apply(lambda x: [] if len(x)==0 else [int(ind) for ind in x.split(',')])\n",
    "\n",
    "test['see_items'] = test['see'].apply(lambda x: [int(ind) for ind in x.split(',')])\n",
    "test['n_unique_see_items'] = test['see_items'].apply(lambda x: len(set(x)))\n",
    "test['buy_items'] = test['buy'].apply(lambda x: [] if len(x)==0 else [int(ind) for ind in x.split(',')])"
   ]
  },
  {
   "cell_type": "code",
   "execution_count": 7,
   "metadata": {
    "collapsed": false
   },
   "outputs": [],
   "source": [
    "see_count = Counter()\n",
    "for s in train.see_items:\n",
    "    see_count.update(s)\n",
    "    \n",
    "buy_count = Counter()\n",
    "for b in train.buy_items:\n",
    "    buy_count.update(b)"
   ]
  },
  {
   "cell_type": "code",
   "execution_count": 8,
   "metadata": {
    "collapsed": true
   },
   "outputs": [],
   "source": [
    "def sortByCounts(x, y):\n",
    "    if (x[1] > y[1]):\n",
    "        return 1\n",
    "    elif (x[1] < y[1]):\n",
    "        return -1\n",
    "    if (x[0] < y[0]):\n",
    "        return 1\n",
    "    elif (x[0] > y[0]):\n",
    "        return -1\n",
    "    return 0\n",
    "\n",
    "def by_see_freq(k, ids):\n",
    "    counts = [(id, see_count[id]) for id in ids]\n",
    "    counts.sort(cmp=sortByCounts, reverse=True)\n",
    "    return [x[0] for x in counts[:k]]\n",
    "\n",
    "def by_buy_freq(k):\n",
    "    counts = [(id, buy_count[id]) for id in ids]\n",
    "    counts.sort(cmp=sortByCounts, reverse=True)\n",
    "    return [x[0] for x in counts[:k]]\n",
    "\n",
    "def intersect(a, b):\n",
    "    return [x for x in a if (x in b)]"
   ]
  },
  {
   "cell_type": "code",
   "execution_count": 30,
   "metadata": {
    "collapsed": false
   },
   "outputs": [
    {
     "data": {
      "text/plain": [
       "[(63, 6), (64, 3), (60, 2), (60, 2), (61, 2)]"
      ]
     },
     "execution_count": 30,
     "metadata": {},
     "output_type": "execute_result"
    }
   ],
   "source": [
    "ids = train.ix[7].see_items\n",
    "counts = [(id, see_count[id]) for id in ids]\n",
    "def sortByCounts(x, y):\n",
    "    if (x[1] > y[1]):\n",
    "        return 1\n",
    "    elif (x[1] < y[1]):\n",
    "        return -1\n",
    "    if (x[0] < y[0]):\n",
    "        return 1\n",
    "    elif (x[0] > y[0]):\n",
    "        return -1\n",
    "    return 0\n",
    "    \n",
    "counts.sort(cmp=sortByCounts, reverse=True)\n",
    "counts[:5]"
   ]
  },
  {
   "cell_type": "code",
   "execution_count": 10,
   "metadata": {
    "collapsed": false
   },
   "outputs": [
    {
     "data": {
      "text/html": [
       "<div>\n",
       "<table border=\"1\" class=\"dataframe\">\n",
       "  <thead>\n",
       "    <tr style=\"text-align: right;\">\n",
       "      <th></th>\n",
       "      <th>see</th>\n",
       "      <th>buy</th>\n",
       "      <th>see_items</th>\n",
       "      <th>n_unique_see_items</th>\n",
       "      <th>buy_items</th>\n",
       "    </tr>\n",
       "  </thead>\n",
       "  <tbody>\n",
       "    <tr>\n",
       "      <th>7</th>\n",
       "      <td>59,60,61,62,60,63,64,65,66,61,67,68,67</td>\n",
       "      <td>67,60,63</td>\n",
       "      <td>[59, 60, 61, 62, 60, 63, 64, 65, 66, 61, 67, 6...</td>\n",
       "      <td>10</td>\n",
       "      <td>[67, 60, 63]</td>\n",
       "    </tr>\n",
       "    <tr>\n",
       "      <th>10</th>\n",
       "      <td>84,85,86,87,88,89,84,90,91,92,93,86</td>\n",
       "      <td>86</td>\n",
       "      <td>[84, 85, 86, 87, 88, 89, 84, 90, 91, 92, 93, 86]</td>\n",
       "      <td>10</td>\n",
       "      <td>[86]</td>\n",
       "    </tr>\n",
       "    <tr>\n",
       "      <th>19</th>\n",
       "      <td>138,198,199,127</td>\n",
       "      <td>199</td>\n",
       "      <td>[138, 198, 199, 127]</td>\n",
       "      <td>4</td>\n",
       "      <td>[199]</td>\n",
       "    </tr>\n",
       "    <tr>\n",
       "      <th>30</th>\n",
       "      <td>303,304,305,306,307,308,309,310,311,312</td>\n",
       "      <td>303</td>\n",
       "      <td>[303, 304, 305, 306, 307, 308, 309, 310, 311, ...</td>\n",
       "      <td>10</td>\n",
       "      <td>[303]</td>\n",
       "    </tr>\n",
       "    <tr>\n",
       "      <th>33</th>\n",
       "      <td>352,353,352</td>\n",
       "      <td>352</td>\n",
       "      <td>[352, 353, 352]</td>\n",
       "      <td>2</td>\n",
       "      <td>[352]</td>\n",
       "    </tr>\n",
       "    <tr>\n",
       "      <th>55</th>\n",
       "      <td>519</td>\n",
       "      <td>519</td>\n",
       "      <td>[519]</td>\n",
       "      <td>1</td>\n",
       "      <td>[519]</td>\n",
       "    </tr>\n",
       "    <tr>\n",
       "      <th>64</th>\n",
       "      <td>599,600,601,602</td>\n",
       "      <td>603,604,602,599,605,606,600</td>\n",
       "      <td>[599, 600, 601, 602]</td>\n",
       "      <td>4</td>\n",
       "      <td>[603, 604, 602, 599, 605, 606, 600]</td>\n",
       "    </tr>\n",
       "    <tr>\n",
       "      <th>72</th>\n",
       "      <td>687,688,689,690,691,690,688,690,688,692</td>\n",
       "      <td>690,688</td>\n",
       "      <td>[687, 688, 689, 690, 691, 690, 688, 690, 688, ...</td>\n",
       "      <td>6</td>\n",
       "      <td>[690, 688]</td>\n",
       "    </tr>\n",
       "    <tr>\n",
       "      <th>89</th>\n",
       "      <td>850,851,852</td>\n",
       "      <td>851</td>\n",
       "      <td>[850, 851, 852]</td>\n",
       "      <td>3</td>\n",
       "      <td>[851]</td>\n",
       "    </tr>\n",
       "    <tr>\n",
       "      <th>93</th>\n",
       "      <td>879,884,170,137,170,879,884,879,885,886,879,88...</td>\n",
       "      <td>879</td>\n",
       "      <td>[879, 884, 170, 137, 170, 879, 884, 879, 885, ...</td>\n",
       "      <td>8</td>\n",
       "      <td>[879]</td>\n",
       "    </tr>\n",
       "  </tbody>\n",
       "</table>\n",
       "</div>"
      ],
      "text/plain": [
       "                                                  see  \\\n",
       "7              59,60,61,62,60,63,64,65,66,61,67,68,67   \n",
       "10                84,85,86,87,88,89,84,90,91,92,93,86   \n",
       "19                                    138,198,199,127   \n",
       "30            303,304,305,306,307,308,309,310,311,312   \n",
       "33                                        352,353,352   \n",
       "55                                                519   \n",
       "64                                    599,600,601,602   \n",
       "72            687,688,689,690,691,690,688,690,688,692   \n",
       "89                                        850,851,852   \n",
       "93  879,884,170,137,170,879,884,879,885,886,879,88...   \n",
       "\n",
       "                            buy  \\\n",
       "7                      67,60,63   \n",
       "10                           86   \n",
       "19                          199   \n",
       "30                          303   \n",
       "33                          352   \n",
       "55                          519   \n",
       "64  603,604,602,599,605,606,600   \n",
       "72                      690,688   \n",
       "89                          851   \n",
       "93                          879   \n",
       "\n",
       "                                            see_items  n_unique_see_items  \\\n",
       "7   [59, 60, 61, 62, 60, 63, 64, 65, 66, 61, 67, 6...                  10   \n",
       "10   [84, 85, 86, 87, 88, 89, 84, 90, 91, 92, 93, 86]                  10   \n",
       "19                               [138, 198, 199, 127]                   4   \n",
       "30  [303, 304, 305, 306, 307, 308, 309, 310, 311, ...                  10   \n",
       "33                                    [352, 353, 352]                   2   \n",
       "55                                              [519]                   1   \n",
       "64                               [599, 600, 601, 602]                   4   \n",
       "72  [687, 688, 689, 690, 691, 690, 688, 690, 688, ...                   6   \n",
       "89                                    [850, 851, 852]                   3   \n",
       "93  [879, 884, 170, 137, 170, 879, 884, 879, 885, ...                   8   \n",
       "\n",
       "                              buy_items  \n",
       "7                          [67, 60, 63]  \n",
       "10                                 [86]  \n",
       "19                                [199]  \n",
       "30                                [303]  \n",
       "33                                [352]  \n",
       "55                                [519]  \n",
       "64  [603, 604, 602, 599, 605, 606, 600]  \n",
       "72                           [690, 688]  \n",
       "89                                [851]  \n",
       "93                                [879]  "
      ]
     },
     "execution_count": 10,
     "metadata": {},
     "output_type": "execute_result"
    }
   ],
   "source": [
    "sessions = train[train.apply(lambda x: len(x['buy_items']) > 0, axis=1)]\n",
    "sessions.head(10)"
   ]
  },
  {
   "cell_type": "code",
   "execution_count": 11,
   "metadata": {
    "collapsed": false
   },
   "outputs": [
    {
     "data": {
      "text/plain": [
       "[67, 60, 63]"
      ]
     },
     "execution_count": 11,
     "metadata": {},
     "output_type": "execute_result"
    }
   ],
   "source": [
    "sessions.buy_items.values[0]"
   ]
  },
  {
   "cell_type": "code",
   "execution_count": 18,
   "metadata": {
    "collapsed": false
   },
   "outputs": [],
   "source": [
    "def avg_precision(k, recommend_model):\n",
    "    precision = 0\n",
    "    for items, n_seen in zip(sessions.buy_items.values, sessions.n_unique_see_items.values):\n",
    "        n = min(k, n_seen)\n",
    "        recommended = recommend_model(n)\n",
    "        precision += len(intersect(recommended, items)) / float(k)\n",
    "    precision /= len(sessions)\n",
    "    return precision\n",
    "    \n",
    "def avg_recall(k, recommend_model):\n",
    "    recall = 0\n",
    "    for items, n_seen in zip(sessions.buy_items.values, sessions.n_unique_see_items.values):\n",
    "        n = min(k, n_seen)\n",
    "        recommended = recommend_model(n)\n",
    "        recall += len(intersect(recommended, items)) / float(len(items))\n",
    "    recall /= len(sessions)\n",
    "    return recall"
   ]
  },
  {
   "cell_type": "code",
   "execution_count": 14,
   "metadata": {
    "collapsed": false
   },
   "outputs": [
    {
     "name": "stdout",
     "output_type": "stream",
     "text": [
      "Average precision for k=1 for By See Frequency algorythm: 0.003049\n",
      "Average recall for k=1 for By See Frequency algorythm: 0.001578\n"
     ]
    }
   ],
   "source": [
    "k = 1\n",
    "avg_precision1_by_see = avg_precision(k, by_see_freq)\n",
    "print 'Average precision for k=%i for By See Frequency algorythm: %f' % (k, avg_precision1_by_see)\n",
    "avg_recall1_by_see = avg_recall(k, by_see_freq)\n",
    "print 'Average recall for k=%i for By See Frequency algorythm: %f' % (k, avg_recall1_by_see)"
   ]
  },
  {
   "cell_type": "code",
   "execution_count": 20,
   "metadata": {
    "collapsed": false
   },
   "outputs": [
    {
     "name": "stdout",
     "output_type": "stream",
     "text": [
      "Average precision for k=1 for By Buy Frequency algorythm: 0.003880\n",
      "Average recall for k=1 for By Buy Frequency algorythm: 0.002721\n"
     ]
    }
   ],
   "source": [
    "k = 1\n",
    "avg_precision1_by_buy = avg_precision(k, by_buy_freq)\n",
    "print 'Average precision for k=%i for By Buy Frequency algorythm: %f' % (k, avg_precision1_by_buy)\n",
    "avg_recall1_by_buy = avg_recall(k, by_buy_freq)\n",
    "print 'Average recall for k=%i for By Buy Frequency algorythm: %f' % (k, avg_recall1_by_buy)"
   ]
  },
  {
   "cell_type": "code",
   "execution_count": 21,
   "metadata": {
    "collapsed": false
   },
   "outputs": [
    {
     "name": "stdout",
     "output_type": "stream",
     "text": [
      "Average precision for k=5 for By Buy Frequency algorythm: 0.002605\n",
      "Average recall for k=5 for By Buy Frequency algorythm: 0.007335\n"
     ]
    }
   ],
   "source": [
    "k = 5\n",
    "avg_precision5_by_buy = avg_precision(k, by_buy_freq)\n",
    "print 'Average precision for k=%i for By Buy Frequency algorythm: %f' % (k, avg_precision5_by_buy)\n",
    "avg_recall5_by_buy = avg_recall(k, by_buy_freq)\n",
    "print 'Average recall for k=%i for By Buy Frequency algorythm: %f' % (k, avg_recall5_by_buy)"
   ]
  },
  {
   "cell_type": "code",
   "execution_count": 133,
   "metadata": {
    "collapsed": false
   },
   "outputs": [
    {
     "data": {
      "text/plain": [
       "[1, 3, 3, 7]"
      ]
     },
     "execution_count": 133,
     "metadata": {},
     "output_type": "execute_result"
    }
   ],
   "source": []
  },
  {
   "cell_type": "code",
   "execution_count": null,
   "metadata": {
    "collapsed": true
   },
   "outputs": [],
   "source": []
  }
 ],
 "metadata": {
  "kernelspec": {
   "display_name": "Python 2",
   "language": "python",
   "name": "python2"
  },
  "language_info": {
   "codemirror_mode": {
    "name": "ipython",
    "version": 2
   },
   "file_extension": ".py",
   "mimetype": "text/x-python",
   "name": "python",
   "nbconvert_exporter": "python",
   "pygments_lexer": "ipython2",
   "version": "2.7.11"
  }
 },
 "nbformat": 4,
 "nbformat_minor": 0
}
