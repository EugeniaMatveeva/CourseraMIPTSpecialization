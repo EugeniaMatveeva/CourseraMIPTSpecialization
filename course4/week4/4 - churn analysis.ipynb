{
 "cells": [
  {
   "cell_type": "code",
   "execution_count": 1,
   "metadata": {
    "collapsed": false
   },
   "outputs": [
    {
     "name": "stdout",
     "output_type": "stream",
     "text": [
      "Populating the interactive namespace from numpy and matplotlib\n"
     ]
    }
   ],
   "source": [
    "import statsmodels\n",
    "import scipy\n",
    "from scipy import stats\n",
    "import numpy as np\n",
    "import pandas as pd\n",
    "\n",
    "import matplotlib.pyplot as plt\n",
    "%pylab inline"
   ]
  },
  {
   "cell_type": "code",
   "execution_count": 2,
   "metadata": {
    "collapsed": true
   },
   "outputs": [],
   "source": [
    "data = pd.read_csv('churn_analysis.csv')"
   ]
  },
  {
   "cell_type": "code",
   "execution_count": 3,
   "metadata": {
    "collapsed": false
   },
   "outputs": [
    {
     "data": {
      "text/html": [
       "<div>\n",
       "<table border=\"1\" class=\"dataframe\">\n",
       "  <thead>\n",
       "    <tr style=\"text-align: right;\">\n",
       "      <th></th>\n",
       "      <th>Unnamed: 0</th>\n",
       "      <th>state</th>\n",
       "      <th>account_length</th>\n",
       "      <th>area_code</th>\n",
       "      <th>intl_plan</th>\n",
       "      <th>vmail_plan</th>\n",
       "      <th>vmail_message</th>\n",
       "      <th>day_mins</th>\n",
       "      <th>day_calls</th>\n",
       "      <th>day_charge</th>\n",
       "      <th>...</th>\n",
       "      <th>night_mins</th>\n",
       "      <th>night_calls</th>\n",
       "      <th>night_charge</th>\n",
       "      <th>intl_mins</th>\n",
       "      <th>intl_calls</th>\n",
       "      <th>intl_charge</th>\n",
       "      <th>custserv_calls</th>\n",
       "      <th>treatment</th>\n",
       "      <th>mes_estim</th>\n",
       "      <th>churn</th>\n",
       "    </tr>\n",
       "  </thead>\n",
       "  <tbody>\n",
       "    <tr>\n",
       "      <th>0</th>\n",
       "      <td>0</td>\n",
       "      <td>KS</td>\n",
       "      <td>128</td>\n",
       "      <td>415</td>\n",
       "      <td>no</td>\n",
       "      <td>yes</td>\n",
       "      <td>25</td>\n",
       "      <td>265.1</td>\n",
       "      <td>110</td>\n",
       "      <td>45.07</td>\n",
       "      <td>...</td>\n",
       "      <td>244.7</td>\n",
       "      <td>91</td>\n",
       "      <td>11.01</td>\n",
       "      <td>10.0</td>\n",
       "      <td>3</td>\n",
       "      <td>2.70</td>\n",
       "      <td>1</td>\n",
       "      <td>1</td>\n",
       "      <td>0.65</td>\n",
       "      <td>False.</td>\n",
       "    </tr>\n",
       "    <tr>\n",
       "      <th>1</th>\n",
       "      <td>1</td>\n",
       "      <td>OH</td>\n",
       "      <td>107</td>\n",
       "      <td>415</td>\n",
       "      <td>no</td>\n",
       "      <td>yes</td>\n",
       "      <td>26</td>\n",
       "      <td>161.6</td>\n",
       "      <td>123</td>\n",
       "      <td>27.47</td>\n",
       "      <td>...</td>\n",
       "      <td>254.4</td>\n",
       "      <td>103</td>\n",
       "      <td>11.45</td>\n",
       "      <td>13.7</td>\n",
       "      <td>3</td>\n",
       "      <td>3.70</td>\n",
       "      <td>1</td>\n",
       "      <td>0</td>\n",
       "      <td>0.55</td>\n",
       "      <td>False.</td>\n",
       "    </tr>\n",
       "    <tr>\n",
       "      <th>2</th>\n",
       "      <td>2</td>\n",
       "      <td>NJ</td>\n",
       "      <td>137</td>\n",
       "      <td>415</td>\n",
       "      <td>no</td>\n",
       "      <td>no</td>\n",
       "      <td>0</td>\n",
       "      <td>243.4</td>\n",
       "      <td>114</td>\n",
       "      <td>41.38</td>\n",
       "      <td>...</td>\n",
       "      <td>162.6</td>\n",
       "      <td>104</td>\n",
       "      <td>7.32</td>\n",
       "      <td>12.2</td>\n",
       "      <td>5</td>\n",
       "      <td>3.29</td>\n",
       "      <td>0</td>\n",
       "      <td>0</td>\n",
       "      <td>0.72</td>\n",
       "      <td>False.</td>\n",
       "    </tr>\n",
       "    <tr>\n",
       "      <th>3</th>\n",
       "      <td>3</td>\n",
       "      <td>OH</td>\n",
       "      <td>84</td>\n",
       "      <td>408</td>\n",
       "      <td>yes</td>\n",
       "      <td>no</td>\n",
       "      <td>0</td>\n",
       "      <td>299.4</td>\n",
       "      <td>71</td>\n",
       "      <td>50.90</td>\n",
       "      <td>...</td>\n",
       "      <td>196.9</td>\n",
       "      <td>89</td>\n",
       "      <td>8.86</td>\n",
       "      <td>6.6</td>\n",
       "      <td>7</td>\n",
       "      <td>1.78</td>\n",
       "      <td>2</td>\n",
       "      <td>1</td>\n",
       "      <td>0.28</td>\n",
       "      <td>False.</td>\n",
       "    </tr>\n",
       "    <tr>\n",
       "      <th>4</th>\n",
       "      <td>4</td>\n",
       "      <td>OK</td>\n",
       "      <td>75</td>\n",
       "      <td>415</td>\n",
       "      <td>yes</td>\n",
       "      <td>no</td>\n",
       "      <td>0</td>\n",
       "      <td>166.7</td>\n",
       "      <td>113</td>\n",
       "      <td>28.34</td>\n",
       "      <td>...</td>\n",
       "      <td>186.9</td>\n",
       "      <td>121</td>\n",
       "      <td>8.41</td>\n",
       "      <td>10.1</td>\n",
       "      <td>3</td>\n",
       "      <td>2.73</td>\n",
       "      <td>3</td>\n",
       "      <td>2</td>\n",
       "      <td>0.45</td>\n",
       "      <td>False.</td>\n",
       "    </tr>\n",
       "  </tbody>\n",
       "</table>\n",
       "<p>5 rows × 23 columns</p>\n",
       "</div>"
      ],
      "text/plain": [
       "   Unnamed: 0 state  account_length  area_code intl_plan vmail_plan  \\\n",
       "0           0    KS             128        415        no        yes   \n",
       "1           1    OH             107        415        no        yes   \n",
       "2           2    NJ             137        415        no         no   \n",
       "3           3    OH              84        408       yes         no   \n",
       "4           4    OK              75        415       yes         no   \n",
       "\n",
       "   vmail_message  day_mins  day_calls  day_charge   ...    night_mins  \\\n",
       "0             25     265.1        110       45.07   ...         244.7   \n",
       "1             26     161.6        123       27.47   ...         254.4   \n",
       "2              0     243.4        114       41.38   ...         162.6   \n",
       "3              0     299.4         71       50.90   ...         196.9   \n",
       "4              0     166.7        113       28.34   ...         186.9   \n",
       "\n",
       "   night_calls  night_charge  intl_mins  intl_calls  intl_charge  \\\n",
       "0           91         11.01       10.0           3         2.70   \n",
       "1          103         11.45       13.7           3         3.70   \n",
       "2          104          7.32       12.2           5         3.29   \n",
       "3           89          8.86        6.6           7         1.78   \n",
       "4          121          8.41       10.1           3         2.73   \n",
       "\n",
       "   custserv_calls  treatment  mes_estim   churn  \n",
       "0               1          1       0.65  False.  \n",
       "1               1          0       0.55  False.  \n",
       "2               0          0       0.72  False.  \n",
       "3               2          1       0.28  False.  \n",
       "4               3          2       0.45  False.  \n",
       "\n",
       "[5 rows x 23 columns]"
      ]
     },
     "execution_count": 3,
     "metadata": {},
     "output_type": "execute_result"
    }
   ],
   "source": [
    "data.head()"
   ]
  },
  {
   "cell_type": "code",
   "execution_count": 4,
   "metadata": {
    "collapsed": false
   },
   "outputs": [
    {
     "name": "stdout",
     "output_type": "stream",
     "text": [
      "WV    106\n",
      "MN     84\n",
      "NY     83\n",
      "Name: state, dtype: int64\n",
      "96\n",
      "10\n"
     ]
    }
   ],
   "source": [
    "print data.state.value_counts()[:3]\n",
    "states = data.state.value_counts().index.values\n",
    "print len(data[(data['state'] == states[0]) & (data['churn'] == 'False.')])\n",
    "print len(data[(data['state'] == states[0]) & (data['churn'] == 'True.')])"
   ]
  },
  {
   "cell_type": "code",
   "execution_count": 5,
   "metadata": {
    "collapsed": false
   },
   "outputs": [
    {
     "name": "stdout",
     "output_type": "stream",
     "text": [
      "[[ 0.  0.]\n",
      " [ 0.  0.]]\n"
     ]
    }
   ],
   "source": [
    "print np.zeros(2*2).reshape(2,2)"
   ]
  },
  {
   "cell_type": "code",
   "execution_count": 8,
   "metadata": {
    "collapsed": false
   },
   "outputs": [
    {
     "data": {
      "text/html": [
       "<div>\n",
       "<table border=\"1\" class=\"dataframe\">\n",
       "  <thead>\n",
       "    <tr style=\"text-align: right;\">\n",
       "      <th></th>\n",
       "      <th>state_pair</th>\n",
       "      <th>pvalue</th>\n",
       "    </tr>\n",
       "  </thead>\n",
       "  <tbody>\n",
       "    <tr>\n",
       "      <th>WV-MN</th>\n",
       "      <td>WV-MN</td>\n",
       "      <td>0.521090</td>\n",
       "    </tr>\n",
       "    <tr>\n",
       "      <th>WV-NY</th>\n",
       "      <td>WV-NY</td>\n",
       "      <td>0.783432</td>\n",
       "    </tr>\n",
       "    <tr>\n",
       "      <th>WV-AL</th>\n",
       "      <td>WV-AL</td>\n",
       "      <td>0.911264</td>\n",
       "    </tr>\n",
       "    <tr>\n",
       "      <th>WV-WI</th>\n",
       "      <td>WV-WI</td>\n",
       "      <td>0.414216</td>\n",
       "    </tr>\n",
       "    <tr>\n",
       "      <th>WV-OH</th>\n",
       "      <td>WV-OH</td>\n",
       "      <td>0.414216</td>\n",
       "    </tr>\n",
       "  </tbody>\n",
       "</table>\n",
       "</div>"
      ],
      "text/plain": [
       "      state_pair    pvalue\n",
       "WV-MN      WV-MN  0.521090\n",
       "WV-NY      WV-NY  0.783432\n",
       "WV-AL      WV-AL  0.911264\n",
       "WV-WI      WV-WI  0.414216\n",
       "WV-OH      WV-OH  0.414216"
      ]
     },
     "execution_count": 8,
     "metadata": {},
     "output_type": "execute_result"
    }
   ],
   "source": [
    "control = data[data.treatment == 1]\n",
    "subtable = np.zeros(2*2).reshape(2,2)\n",
    "chi2_states = pd.DataFrame(columns=['state_pair', 'pvalue'])\n",
    "chi2_states.set_index('state_pair')\n",
    "for i in range(len(states)):\n",
    "    for j in range(i + 1, len(states)):\n",
    "        subtable[0][0] = len(control[(control['state'] == states[i]) & (control['churn'] == 'True.')])\n",
    "        subtable[0][1] = len(control[(control['state'] == states[j]) & (control['churn'] == 'True.')])\n",
    "        subtable[1][0] = len(control[(control['state'] == states[i]) & (control['churn'] == 'False.')])\n",
    "        subtable[1][1] = len(control[(control['state'] == states[j]) & (control['churn'] == 'False.')])\n",
    "        #print subtable[np.where(subtable < 5)[0],np.where(subtable < 5)[1]]\n",
    "        chi2, p, dof, expected = scipy.stats.chi2_contingency(subtable, correction=False)\n",
    "        chi2_states.loc[states[i] + '-' + states[j]] = [states[i] + '-' + states[j], p]\n",
    "chi2_states.head()"
   ]
  },
  {
   "cell_type": "code",
   "execution_count": 16,
   "metadata": {
    "collapsed": false
   },
   "outputs": [
    {
     "name": "stdout",
     "output_type": "stream",
     "text": [
      "1275\n",
      "0.501827379874\n",
      "Answer 1: 34\n"
     ]
    }
   ],
   "source": [
    "print len(chi2_states)\n",
    "print (np.mean(chi2_states.pvalue))\n",
    "print 'Answer 1:', len(chi2_states[chi2_states.pvalue < 0.05])"
   ]
  },
  {
   "cell_type": "markdown",
   "metadata": {},
   "source": [
    "2.\n",
    "Применение критерия xи-квадрат для этих данных не обосновано, потому что не выполняются условия, при которых этот критерий дает правильные результаты. \n",
    "\n",
    "Интерпретация числа достигаемых уровней значимости, меньших α=0.05, некорректна, поскольку не сделана поправка на множественную проверку гипотез."
   ]
  },
  {
   "cell_type": "code",
   "execution_count": 10,
   "metadata": {
    "collapsed": false
   },
   "outputs": [
    {
     "data": {
      "text/html": [
       "<div>\n",
       "<table border=\"1\" class=\"dataframe\">\n",
       "  <thead>\n",
       "    <tr style=\"text-align: right;\">\n",
       "      <th></th>\n",
       "      <th>state_pair</th>\n",
       "      <th>pvalue</th>\n",
       "    </tr>\n",
       "  </thead>\n",
       "  <tbody>\n",
       "    <tr>\n",
       "      <th>WV-MN</th>\n",
       "      <td>WV-MN</td>\n",
       "      <td>0.820478</td>\n",
       "    </tr>\n",
       "    <tr>\n",
       "      <th>WV-NY</th>\n",
       "      <td>WV-NY</td>\n",
       "      <td>0.955351</td>\n",
       "    </tr>\n",
       "    <tr>\n",
       "      <th>WV-AL</th>\n",
       "      <td>WV-AL</td>\n",
       "      <td>0.814959</td>\n",
       "    </tr>\n",
       "    <tr>\n",
       "      <th>WV-WI</th>\n",
       "      <td>WV-WI</td>\n",
       "      <td>0.683091</td>\n",
       "    </tr>\n",
       "    <tr>\n",
       "      <th>WV-OH</th>\n",
       "      <td>WV-OH</td>\n",
       "      <td>0.683091</td>\n",
       "    </tr>\n",
       "  </tbody>\n",
       "</table>\n",
       "</div>"
      ],
      "text/plain": [
       "      state_pair    pvalue\n",
       "WV-MN      WV-MN  0.820478\n",
       "WV-NY      WV-NY  0.955351\n",
       "WV-AL      WV-AL  0.814959\n",
       "WV-WI      WV-WI  0.683091\n",
       "WV-OH      WV-OH  0.683091"
      ]
     },
     "execution_count": 10,
     "metadata": {},
     "output_type": "execute_result"
    }
   ],
   "source": [
    "\n",
    "subtable = np.zeros(2*2).reshape(2,2)\n",
    "chi2_states_corrected = pd.DataFrame(columns=['state_pair', 'pvalue'])\n",
    "chi2_states_corrected.set_index('state_pair')\n",
    "for i in range(len(states)):\n",
    "    for j in range(i + 1, len(states)):\n",
    "        subtable[0][0] = len(control[(control['state'] == states[i]) & (control['churn'] == 'True.')])\n",
    "        subtable[0][1] = len(control[(control['state'] == states[j]) & (control['churn'] == 'True.')])\n",
    "        subtable[1][0] = len(control[(control['state'] == states[i]) & (control['churn'] == 'False.')])\n",
    "        subtable[1][1] = len(control[(control['state'] == states[j]) & (control['churn'] == 'False.')])\n",
    "        #print subtable[np.where(subtable < 5)[0],np.where(subtable < 5)[1]]\n",
    "        chi2, p, dof, expected = scipy.stats.chi2_contingency(subtable, correction=True)\n",
    "        chi2_states_corrected.loc[states[i] + '-' + states[j]] = [states[i] + '-' + states[j], p]\n",
    "chi2_states_corrected.head()"
   ]
  },
  {
   "cell_type": "code",
   "execution_count": 15,
   "metadata": {
    "collapsed": false
   },
   "outputs": [
    {
     "name": "stdout",
     "output_type": "stream",
     "text": [
      "1275\n",
      "0.664056638205\n",
      "Answer 3: 0\n"
     ]
    }
   ],
   "source": [
    "print len(chi2_states_corrected)\n",
    "print (np.mean(chi2_states_corrected.pvalue))\n",
    "print 'Answer 3:', len(chi2_states_corrected[chi2_states_corrected.pvalue < 0.05])"
   ]
  },
  {
   "cell_type": "markdown",
   "metadata": {},
   "source": [
    "3.\n",
    "Количество достигаемых уровней значимости, меньших, чем 0.05, в точности равно нулю. То есть поправка увеличила достигаемые уровни значимости настолько, что больше ни одно из значений достигаемого уровня значимости не попадает в диапазон от 0 до 0.05.\n",
    "\n",
    "Достигаемые уровни значимости на наших данных, полученные с помощью критерия xи-квадрат с поправкой Йетса, в среднем получаются больше, чем соответствующие значения без поправки."
   ]
  },
  {
   "cell_type": "code",
   "execution_count": 18,
   "metadata": {
    "collapsed": false
   },
   "outputs": [
    {
     "data": {
      "text/html": [
       "<div>\n",
       "<table border=\"1\" class=\"dataframe\">\n",
       "  <thead>\n",
       "    <tr style=\"text-align: right;\">\n",
       "      <th></th>\n",
       "      <th>state_pair</th>\n",
       "      <th>pvalue</th>\n",
       "    </tr>\n",
       "  </thead>\n",
       "  <tbody>\n",
       "    <tr>\n",
       "      <th>WV-MN</th>\n",
       "      <td>WV-MN</td>\n",
       "      <td>0.689725</td>\n",
       "    </tr>\n",
       "    <tr>\n",
       "      <th>WV-NY</th>\n",
       "      <td>WV-NY</td>\n",
       "      <td>1.000000</td>\n",
       "    </tr>\n",
       "    <tr>\n",
       "      <th>WV-AL</th>\n",
       "      <td>WV-AL</td>\n",
       "      <td>1.000000</td>\n",
       "    </tr>\n",
       "    <tr>\n",
       "      <th>WV-WI</th>\n",
       "      <td>WV-WI</td>\n",
       "      <td>0.686168</td>\n",
       "    </tr>\n",
       "    <tr>\n",
       "      <th>WV-OH</th>\n",
       "      <td>WV-OH</td>\n",
       "      <td>0.686168</td>\n",
       "    </tr>\n",
       "  </tbody>\n",
       "</table>\n",
       "</div>"
      ],
      "text/plain": [
       "      state_pair    pvalue\n",
       "WV-MN      WV-MN  0.689725\n",
       "WV-NY      WV-NY  1.000000\n",
       "WV-AL      WV-AL  1.000000\n",
       "WV-WI      WV-WI  0.686168\n",
       "WV-OH      WV-OH  0.686168"
      ]
     },
     "execution_count": 18,
     "metadata": {},
     "output_type": "execute_result"
    }
   ],
   "source": [
    "subtable = np.zeros(2*2).reshape(2,2)\n",
    "fisher_states = pd.DataFrame(columns=['state_pair', 'pvalue'])\n",
    "fisher_states.set_index('state_pair')\n",
    "for i in range(len(states)):\n",
    "    for j in range(i + 1, len(states)):\n",
    "        subtable[0][0] = len(control[(control['state'] == states[i]) & (control['churn'] == 'True.')])\n",
    "        subtable[0][1] = len(control[(control['state'] == states[j]) & (control['churn'] == 'True.')])\n",
    "        subtable[1][0] = len(control[(control['state'] == states[i]) & (control['churn'] == 'False.')])\n",
    "        subtable[1][1] = len(control[(control['state'] == states[j]) & (control['churn'] == 'False.')])\n",
    "        #print subtable[np.where(subtable < 5)[0],np.where(subtable < 5)[1]]\n",
    "        oddsratio, p = stats.fisher_exact(subtable)\n",
    "        fisher_states.loc[states[i] + '-' + states[j]] = [states[i] + '-' + states[j], p]\n",
    "fisher_states.head()"
   ]
  },
  {
   "cell_type": "code",
   "execution_count": 19,
   "metadata": {
    "collapsed": false
   },
   "outputs": [
    {
     "name": "stdout",
     "output_type": "stream",
     "text": [
      "1275\n",
      "0.648338306002\n",
      "Answer 4: 10\n"
     ]
    }
   ],
   "source": [
    "print len(fisher_states)\n",
    "print (np.mean(fisher_states.pvalue))\n",
    "print 'Answer 4:', len(fisher_states[fisher_states.pvalue < 0.05])\n"
   ]
  },
  {
   "cell_type": "code",
   "execution_count": 20,
   "metadata": {
    "collapsed": false
   },
   "outputs": [
    {
     "data": {
      "text/html": [
       "<div>\n",
       "<table border=\"1\" class=\"dataframe\">\n",
       "  <thead>\n",
       "    <tr style=\"text-align: right;\">\n",
       "      <th></th>\n",
       "      <th>pvalue</th>\n",
       "    </tr>\n",
       "  </thead>\n",
       "  <tbody>\n",
       "    <tr>\n",
       "      <th>count</th>\n",
       "      <td>1275.000000</td>\n",
       "    </tr>\n",
       "    <tr>\n",
       "      <th>mean</th>\n",
       "      <td>0.648338</td>\n",
       "    </tr>\n",
       "    <tr>\n",
       "      <th>std</th>\n",
       "      <td>0.311891</td>\n",
       "    </tr>\n",
       "    <tr>\n",
       "      <th>min</th>\n",
       "      <td>0.026963</td>\n",
       "    </tr>\n",
       "    <tr>\n",
       "      <th>25%</th>\n",
       "      <td>0.387902</td>\n",
       "    </tr>\n",
       "    <tr>\n",
       "      <th>50%</th>\n",
       "      <td>0.673781</td>\n",
       "    </tr>\n",
       "    <tr>\n",
       "      <th>75%</th>\n",
       "      <td>1.000000</td>\n",
       "    </tr>\n",
       "    <tr>\n",
       "      <th>max</th>\n",
       "      <td>1.000000</td>\n",
       "    </tr>\n",
       "  </tbody>\n",
       "</table>\n",
       "</div>"
      ],
      "text/plain": [
       "            pvalue\n",
       "count  1275.000000\n",
       "mean      0.648338\n",
       "std       0.311891\n",
       "min       0.026963\n",
       "25%       0.387902\n",
       "50%       0.673781\n",
       "75%       1.000000\n",
       "max       1.000000"
      ]
     },
     "execution_count": 20,
     "metadata": {},
     "output_type": "execute_result"
    }
   ],
   "source": [
    "fisher_states.describe()"
   ]
  },
  {
   "cell_type": "markdown",
   "metadata": {},
   "source": [
    "4.\n",
    "Точный критерий Фишера всегда лучше, чем критерий xи-квадрат, потому что не использует аппроксимацию дискретного распределения непрерывным. Однако при увеличении размера выборки его преимущества по сравнению с критерем xи-квадрат уменьшаются, в пределе достигая нуля.\n",
    "\n",
    "Точный критерий Фишера на наших данных дает значения достигаемого уровня значимости в среднем значительно большие, чем xи-квадрат без поправки\n",
    "\n",
    "Точный критерий Фишера на наших данных дает значения достигаемого уровня значимости в среднем меньшие, чем xи-квадрат с поправкой Йетса"
   ]
  },
  {
   "cell_type": "code",
   "execution_count": 30,
   "metadata": {
    "collapsed": true
   },
   "outputs": [],
   "source": [
    "from scipy.stats import pearsonr, spearmanr"
   ]
  },
  {
   "cell_type": "code",
   "execution_count": 28,
   "metadata": {
    "collapsed": false
   },
   "outputs": [
    {
     "name": "stdout",
     "output_type": "stream",
     "text": [
      "corr = -0.051794, pvalue = 0.002780\n"
     ]
    }
   ],
   "source": [
    "subdata = data[['day_calls', 'mes_estim']]\n",
    "day_calls_mes_estim_corr = subdata.corr()\n",
    "corr, p = pearsonr(data[['day_calls']], data[['mes_estim']])\n",
    "print ('corr = %f, pvalue = %f' % (corr, p))"
   ]
  },
  {
   "cell_type": "markdown",
   "metadata": {},
   "source": [
    "5.Корреляция Пирсона имеет отрицательный знак, и отличие корреляции от нуля на уровне доверия 0.05 значимо. "
   ]
  },
  {
   "cell_type": "code",
   "execution_count": 31,
   "metadata": {
    "collapsed": false
   },
   "outputs": [
    {
     "name": "stdout",
     "output_type": "stream",
     "text": [
      "corr = 0.043350, pvalue = 0.012317\n"
     ]
    }
   ],
   "source": [
    "subdata = data[['day_calls', 'mes_estim']]\n",
    "corr, p = spearmanr(data[['day_calls']], data[['mes_estim']])\n",
    "print ('corr = %f, pvalue = %f' % (corr, p))"
   ]
  },
  {
   "cell_type": "markdown",
   "metadata": {},
   "source": [
    "6.Корреляция Спирмена имеет положительный знак, и отличие корреляции от нуля на уровне доверия 0.05 значимо."
   ]
  },
  {
   "cell_type": "markdown",
   "metadata": {},
   "source": [
    "7.Посчитанные корреляции и их значимости говорят лишь о том, что необходимо взглянуть на данные глазами и попытаться понять, что приводит к таким (противоречивым?) результатам."
   ]
  },
  {
   "cell_type": "code",
   "execution_count": 51,
   "metadata": {
    "collapsed": false
   },
   "outputs": [
    {
     "name": "stdout",
     "output_type": "stream",
     "text": [
      "[[ 19.  25.  11.  17.  10.  17.  25.  18.  16.  18.  19.  12.  13.  16.\n",
      "   11.  20.  18.  21.  15.  17.  19.  20.  17.  19.  17.  20.  22.  16.\n",
      "   21.  21.  10.  20.  27.  18.  27.  22.  11.  18.  14.  18.  16.  20.\n",
      "   11.  14.  18.  20.  18.  16.  22.  27.  20.]\n",
      " [  1.   5.   5.   2.   5.   5.   5.   1.   1.   2.   2.   1.   2.   2.\n",
      "    1.   3.   7.   4.   0.   7.   5.   8.   5.   2.   4.   4.   4.   3.\n",
      "    3.   3.   2.   4.   2.   6.   6.   2.   2.   3.   4.   4.   5.   3.\n",
      "    1.   6.   4.   3.   5.   7.   2.   5.   2.]]\n",
      "p-value=0.709759\n"
     ]
    }
   ],
   "source": [
    "n1 = len(states)\n",
    "actual = np.empty(shape=[2, n1])\n",
    "for k1, s in enumerate(np.unique(control.state.values)):\n",
    "    x = control[control.state == s]\n",
    "    for k2,chu in enumerate(np.unique(control.churn.values)):\n",
    "        actual[k2, k1] = len(x[x.churn == chu])\n",
    "print actual\n",
    "chi2, p, dof, expected = stats.chi2_contingency(actual)\n",
    "print('p-value=%g') % (p)"
   ]
  },
  {
   "cell_type": "markdown",
   "metadata": {},
   "source": [
    "8.Для вычисления коэффициента Крамера используется значение статистики xи-квадрат, на которую мы не можем положиться применительно к нашим данным. "
   ]
  },
  {
   "cell_type": "code",
   "execution_count": null,
   "metadata": {
    "collapsed": true
   },
   "outputs": [],
   "source": []
  }
 ],
 "metadata": {
  "kernelspec": {
   "display_name": "Python 2",
   "language": "python",
   "name": "python2"
  },
  "language_info": {
   "codemirror_mode": {
    "name": "ipython",
    "version": 2
   },
   "file_extension": ".py",
   "mimetype": "text/x-python",
   "name": "python",
   "nbconvert_exporter": "python",
   "pygments_lexer": "ipython2",
   "version": "2.7.13"
  }
 },
 "nbformat": 4,
 "nbformat_minor": 0
}
