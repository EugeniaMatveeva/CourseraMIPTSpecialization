{
 "cells": [
  {
   "cell_type": "code",
   "execution_count": 118,
   "metadata": {
    "collapsed": true
   },
   "outputs": [],
   "source": [
    "import statsmodels\n",
    "import scipy\n",
    "from scipy import stats\n",
    "import numpy as np\n",
    "import pandas as pd\n",
    "import statsmodels.stats.multitest as smm"
   ]
  },
  {
   "cell_type": "code",
   "execution_count": 119,
   "metadata": {
    "collapsed": true
   },
   "outputs": [],
   "source": [
    "def out(name, s):\n",
    "    f = open(name, 'w')\n",
    "    f.write(str(s))\n",
    "    f.close()"
   ]
  },
  {
   "cell_type": "code",
   "execution_count": 120,
   "metadata": {
    "collapsed": false
   },
   "outputs": [],
   "source": [
    "data = pd.read_csv('gene_high_throughput_sequencing.csv')"
   ]
  },
  {
   "cell_type": "code",
   "execution_count": 121,
   "metadata": {
    "collapsed": false
   },
   "outputs": [
    {
     "data": {
      "text/html": [
       "<div>\n",
       "<table border=\"1\" class=\"dataframe\">\n",
       "  <thead>\n",
       "    <tr style=\"text-align: right;\">\n",
       "      <th></th>\n",
       "      <th>Patient_id</th>\n",
       "      <th>Diagnosis</th>\n",
       "      <th>LOC643837</th>\n",
       "      <th>LOC100130417</th>\n",
       "      <th>SAMD11</th>\n",
       "      <th>NOC2L</th>\n",
       "      <th>KLHL17</th>\n",
       "      <th>PLEKHN1</th>\n",
       "      <th>C1orf170</th>\n",
       "      <th>HES4</th>\n",
       "      <th>...</th>\n",
       "      <th>CLIC2</th>\n",
       "      <th>RPS4Y1</th>\n",
       "      <th>ZFY</th>\n",
       "      <th>PRKY</th>\n",
       "      <th>USP9Y</th>\n",
       "      <th>DDX3Y</th>\n",
       "      <th>CD24</th>\n",
       "      <th>CYorf15B</th>\n",
       "      <th>KDM5D</th>\n",
       "      <th>EIF1AY</th>\n",
       "    </tr>\n",
       "  </thead>\n",
       "  <tbody>\n",
       "    <tr>\n",
       "      <th>0</th>\n",
       "      <td>STT5425_Breast_001_normal</td>\n",
       "      <td>normal</td>\n",
       "      <td>1.257614</td>\n",
       "      <td>2.408148</td>\n",
       "      <td>13.368622</td>\n",
       "      <td>9.494779</td>\n",
       "      <td>20.880435</td>\n",
       "      <td>12.722017</td>\n",
       "      <td>9.494779</td>\n",
       "      <td>54.349694</td>\n",
       "      <td>...</td>\n",
       "      <td>4.761250</td>\n",
       "      <td>1.257614</td>\n",
       "      <td>1.257614</td>\n",
       "      <td>1.257614</td>\n",
       "      <td>1.257614</td>\n",
       "      <td>1.257614</td>\n",
       "      <td>23.268694</td>\n",
       "      <td>1.257614</td>\n",
       "      <td>1.257614</td>\n",
       "      <td>1.257614</td>\n",
       "    </tr>\n",
       "    <tr>\n",
       "      <th>1</th>\n",
       "      <td>STT5427_Breast_023_normal</td>\n",
       "      <td>normal</td>\n",
       "      <td>4.567931</td>\n",
       "      <td>16.602734</td>\n",
       "      <td>42.477752</td>\n",
       "      <td>25.562376</td>\n",
       "      <td>23.221137</td>\n",
       "      <td>11.622386</td>\n",
       "      <td>14.330573</td>\n",
       "      <td>72.445474</td>\n",
       "      <td>...</td>\n",
       "      <td>6.871902</td>\n",
       "      <td>1.815112</td>\n",
       "      <td>1.815112</td>\n",
       "      <td>1.815112</td>\n",
       "      <td>1.815112</td>\n",
       "      <td>1.815112</td>\n",
       "      <td>10.427023</td>\n",
       "      <td>1.815112</td>\n",
       "      <td>1.815112</td>\n",
       "      <td>1.815112</td>\n",
       "    </tr>\n",
       "    <tr>\n",
       "      <th>2</th>\n",
       "      <td>STT5430_Breast_002_normal</td>\n",
       "      <td>normal</td>\n",
       "      <td>2.077597</td>\n",
       "      <td>3.978294</td>\n",
       "      <td>12.863214</td>\n",
       "      <td>13.728915</td>\n",
       "      <td>14.543176</td>\n",
       "      <td>14.141907</td>\n",
       "      <td>6.232790</td>\n",
       "      <td>57.011005</td>\n",
       "      <td>...</td>\n",
       "      <td>7.096343</td>\n",
       "      <td>2.077597</td>\n",
       "      <td>2.077597</td>\n",
       "      <td>2.077597</td>\n",
       "      <td>2.077597</td>\n",
       "      <td>2.077597</td>\n",
       "      <td>22.344226</td>\n",
       "      <td>2.077597</td>\n",
       "      <td>2.077597</td>\n",
       "      <td>2.077597</td>\n",
       "    </tr>\n",
       "    <tr>\n",
       "      <th>3</th>\n",
       "      <td>STT5439_Breast_003_normal</td>\n",
       "      <td>normal</td>\n",
       "      <td>2.066576</td>\n",
       "      <td>8.520713</td>\n",
       "      <td>14.466035</td>\n",
       "      <td>7.823932</td>\n",
       "      <td>8.520713</td>\n",
       "      <td>2.066576</td>\n",
       "      <td>10.870009</td>\n",
       "      <td>53.292034</td>\n",
       "      <td>...</td>\n",
       "      <td>5.200770</td>\n",
       "      <td>2.066576</td>\n",
       "      <td>2.066576</td>\n",
       "      <td>2.066576</td>\n",
       "      <td>2.066576</td>\n",
       "      <td>2.066576</td>\n",
       "      <td>49.295538</td>\n",
       "      <td>2.066576</td>\n",
       "      <td>2.066576</td>\n",
       "      <td>2.066576</td>\n",
       "    </tr>\n",
       "    <tr>\n",
       "      <th>4</th>\n",
       "      <td>STT5441_Breast_004_normal</td>\n",
       "      <td>normal</td>\n",
       "      <td>2.613616</td>\n",
       "      <td>3.434965</td>\n",
       "      <td>12.682222</td>\n",
       "      <td>10.543189</td>\n",
       "      <td>26.688686</td>\n",
       "      <td>12.484822</td>\n",
       "      <td>1.364917</td>\n",
       "      <td>67.140393</td>\n",
       "      <td>...</td>\n",
       "      <td>11.227770</td>\n",
       "      <td>1.364917</td>\n",
       "      <td>1.364917</td>\n",
       "      <td>1.364917</td>\n",
       "      <td>1.364917</td>\n",
       "      <td>1.364917</td>\n",
       "      <td>23.627911</td>\n",
       "      <td>1.364917</td>\n",
       "      <td>1.364917</td>\n",
       "      <td>1.364917</td>\n",
       "    </tr>\n",
       "  </tbody>\n",
       "</table>\n",
       "<p>5 rows × 15750 columns</p>\n",
       "</div>"
      ],
      "text/plain": [
       "                  Patient_id Diagnosis  LOC643837  LOC100130417     SAMD11  \\\n",
       "0  STT5425_Breast_001_normal    normal   1.257614      2.408148  13.368622   \n",
       "1  STT5427_Breast_023_normal    normal   4.567931     16.602734  42.477752   \n",
       "2  STT5430_Breast_002_normal    normal   2.077597      3.978294  12.863214   \n",
       "3  STT5439_Breast_003_normal    normal   2.066576      8.520713  14.466035   \n",
       "4  STT5441_Breast_004_normal    normal   2.613616      3.434965  12.682222   \n",
       "\n",
       "       NOC2L     KLHL17    PLEKHN1   C1orf170       HES4    ...         CLIC2  \\\n",
       "0   9.494779  20.880435  12.722017   9.494779  54.349694    ...      4.761250   \n",
       "1  25.562376  23.221137  11.622386  14.330573  72.445474    ...      6.871902   \n",
       "2  13.728915  14.543176  14.141907   6.232790  57.011005    ...      7.096343   \n",
       "3   7.823932   8.520713   2.066576  10.870009  53.292034    ...      5.200770   \n",
       "4  10.543189  26.688686  12.484822   1.364917  67.140393    ...     11.227770   \n",
       "\n",
       "     RPS4Y1       ZFY      PRKY     USP9Y     DDX3Y       CD24  CYorf15B  \\\n",
       "0  1.257614  1.257614  1.257614  1.257614  1.257614  23.268694  1.257614   \n",
       "1  1.815112  1.815112  1.815112  1.815112  1.815112  10.427023  1.815112   \n",
       "2  2.077597  2.077597  2.077597  2.077597  2.077597  22.344226  2.077597   \n",
       "3  2.066576  2.066576  2.066576  2.066576  2.066576  49.295538  2.066576   \n",
       "4  1.364917  1.364917  1.364917  1.364917  1.364917  23.627911  1.364917   \n",
       "\n",
       "      KDM5D    EIF1AY  \n",
       "0  1.257614  1.257614  \n",
       "1  1.815112  1.815112  \n",
       "2  2.077597  2.077597  \n",
       "3  2.066576  2.066576  \n",
       "4  1.364917  1.364917  \n",
       "\n",
       "[5 rows x 15750 columns]"
      ]
     },
     "execution_count": 121,
     "metadata": {},
     "output_type": "execute_result"
    }
   ],
   "source": [
    "data.head()"
   ]
  },
  {
   "cell_type": "code",
   "execution_count": 122,
   "metadata": {
    "collapsed": false
   },
   "outputs": [],
   "source": [
    "data.Diagnosis.value_counts()\n",
    "normal = data[data.Diagnosis == 'normal']\n",
    "early = data[data.Diagnosis == 'early neoplasia']\n",
    "cancer = data[data.Diagnosis == 'cancer']"
   ]
  },
  {
   "cell_type": "code",
   "execution_count": 123,
   "metadata": {
    "collapsed": true
   },
   "outputs": [],
   "source": [
    "def fold_change(C, T):\n",
    "    if T > C:\n",
    "        return float(T)/C\n",
    "    else:\n",
    "        return -float(C)/T\n",
    "    \n",
    "def pract_value(gene, control, treatment):\n",
    "    control_data = data[data.Diagnosis == control][gene]\n",
    "    treatment_data = data[data.Diagnosis == treatment][gene]\n",
    "    return abs(fold_change(np.mean(control_data), np.mean(treatment_data))) > 1.5"
   ]
  },
  {
   "cell_type": "markdown",
   "metadata": {},
   "source": [
    "#### Двухвыборочный критерий Стьюдента (независимые выборки)"
   ]
  },
  {
   "cell_type": "markdown",
   "metadata": {},
   "source": [
    "С помощью критерия Стьюдента проверим гипотезу о развенстве средних двух выборок.\n",
    "Критерий Стьюдента:\n",
    "\n",
    "H0: средние значения экспрессии гена одинаковы в двух выборках.\n",
    "\n",
    "H0: не одинаковы."
   ]
  },
  {
   "cell_type": "code",
   "execution_count": 124,
   "metadata": {
    "collapsed": true
   },
   "outputs": [],
   "source": [
    "def test_mean_student(data1, data2):\n",
    "    (stat, pvalue) = scipy.stats.ttest_ind(data1, data2, equal_var = False)\n",
    "    return pvalue"
   ]
  },
  {
   "cell_type": "code",
   "execution_count": 125,
   "metadata": {
    "collapsed": false
   },
   "outputs": [],
   "source": [
    "pvalue_data = pd.DataFrame(index=data.columns[2:], columns=[])\n",
    "pvalues1 = []\n",
    "pvalues2 = []\n",
    "for gene in data.columns[2:]:\n",
    "    pvalues1.append(test_mean_student(normal[gene], early[gene]))\n",
    "    pvalues2.append(test_mean_student(early[gene], cancer[gene]))\n",
    "pvalue_data['normal_early_p'] = pvalues1\n",
    "pvalue_data['early_cancer_p'] = pvalues2"
   ]
  },
  {
   "cell_type": "code",
   "execution_count": 126,
   "metadata": {
    "collapsed": false
   },
   "outputs": [
    {
     "data": {
      "text/html": [
       "<div>\n",
       "<table border=\"1\" class=\"dataframe\">\n",
       "  <thead>\n",
       "    <tr style=\"text-align: right;\">\n",
       "      <th></th>\n",
       "      <th>normal_early_p</th>\n",
       "      <th>early_cancer_p</th>\n",
       "    </tr>\n",
       "  </thead>\n",
       "  <tbody>\n",
       "    <tr>\n",
       "      <th>LOC643837</th>\n",
       "      <td>0.690766</td>\n",
       "      <td>0.413735</td>\n",
       "    </tr>\n",
       "    <tr>\n",
       "      <th>LOC100130417</th>\n",
       "      <td>0.000032</td>\n",
       "      <td>0.653429</td>\n",
       "    </tr>\n",
       "    <tr>\n",
       "      <th>SAMD11</th>\n",
       "      <td>0.060273</td>\n",
       "      <td>0.079556</td>\n",
       "    </tr>\n",
       "    <tr>\n",
       "      <th>NOC2L</th>\n",
       "      <td>0.826429</td>\n",
       "      <td>0.287581</td>\n",
       "    </tr>\n",
       "    <tr>\n",
       "      <th>KLHL17</th>\n",
       "      <td>0.049876</td>\n",
       "      <td>0.463292</td>\n",
       "    </tr>\n",
       "  </tbody>\n",
       "</table>\n",
       "</div>"
      ],
      "text/plain": [
       "              normal_early_p  early_cancer_p\n",
       "LOC643837           0.690766        0.413735\n",
       "LOC100130417        0.000032        0.653429\n",
       "SAMD11              0.060273        0.079556\n",
       "NOC2L               0.826429        0.287581\n",
       "KLHL17              0.049876        0.463292"
      ]
     },
     "execution_count": 126,
     "metadata": {},
     "output_type": "execute_result"
    }
   ],
   "source": [
    "pvalue_data.head()"
   ]
  },
  {
   "cell_type": "code",
   "execution_count": 127,
   "metadata": {
    "collapsed": false
   },
   "outputs": [
    {
     "data": {
      "text/plain": [
       "1575"
      ]
     },
     "execution_count": 127,
     "metadata": {},
     "output_type": "execute_result"
    }
   ],
   "source": [
    "len(pvalue_data['normal_early_p'][pvalue_data['normal_early_p'] < alpha])"
   ]
  },
  {
   "cell_type": "code",
   "execution_count": 128,
   "metadata": {
    "collapsed": false
   },
   "outputs": [
    {
     "name": "stdout",
     "output_type": "stream",
     "text": [
      "alpha = 0.050000\n",
      "Answer 1.1:  1575\n",
      "Answer 1.2:  3490\n"
     ]
    }
   ],
   "source": [
    "alpha = 0.05\n",
    "print 'alpha = %f' % alpha\n",
    "print 'Answer 1.1: ', len(pvalue_data['normal_early_p'][pvalue_data['normal_early_p'] < alpha])\n",
    "out('1.1.txt', len(pvalue_data['normal_early_p'][pvalue_data['normal_early_p'] < alpha]))\n",
    "print 'Answer 1.2: ', len(pvalue_data['early_cancer_p'][pvalue_data['early_cancer_p'] < alpha])\n",
    "out('1.2.txt', len(pvalue_data['early_cancer_p'][pvalue_data['early_cancer_p'] < alpha]))"
   ]
  },
  {
   "cell_type": "markdown",
   "metadata": {},
   "source": [
    "Поправка Бонферрони"
   ]
  },
  {
   "cell_type": "code",
   "execution_count": 129,
   "metadata": {
    "collapsed": false
   },
   "outputs": [
    {
     "data": {
      "text/plain": [
       "0.025"
      ]
     },
     "execution_count": 129,
     "metadata": {},
     "output_type": "execute_result"
    }
   ],
   "source": [
    "alpha = 0.05 / 2\n",
    "alpha"
   ]
  },
  {
   "cell_type": "markdown",
   "metadata": {},
   "source": [
    "Поправка Холма"
   ]
  },
  {
   "cell_type": "code",
   "execution_count": 130,
   "metadata": {
    "collapsed": false
   },
   "outputs": [],
   "source": [
    "corrected_holm_1 = smm.multipletests(pvals=pvalue_data['normal_early_p'], alpha=alpha, method='holm')\n",
    "pvalue_data['normal_early_p_holm'] = corrected_holm_1[1]\n",
    "#print corrected1[1][np.where(corrected1[0] == True)[0]]\n",
    "corrected_holm_2 = smm.multipletests(pvals=pvalue_data['early_cancer_p'], alpha=alpha, method='holm')\n",
    "pvalue_data['early_cancer_p_holm'] = corrected_holm_2[1]\n",
    "#print corrected2[1][np.where(corrected2[0] == True)[0]]"
   ]
  },
  {
   "cell_type": "code",
   "execution_count": 131,
   "metadata": {
    "collapsed": false
   },
   "outputs": [
    {
     "data": {
      "text/html": [
       "<div>\n",
       "<table border=\"1\" class=\"dataframe\">\n",
       "  <thead>\n",
       "    <tr style=\"text-align: right;\">\n",
       "      <th></th>\n",
       "      <th>normal_early_p</th>\n",
       "      <th>early_cancer_p</th>\n",
       "      <th>normal_early_p_holm</th>\n",
       "      <th>early_cancer_p_holm</th>\n",
       "    </tr>\n",
       "  </thead>\n",
       "  <tbody>\n",
       "    <tr>\n",
       "      <th>LOC643837</th>\n",
       "      <td>0.690766</td>\n",
       "      <td>0.413735</td>\n",
       "      <td>1.000000</td>\n",
       "      <td>1.0</td>\n",
       "    </tr>\n",
       "    <tr>\n",
       "      <th>LOC100130417</th>\n",
       "      <td>0.000032</td>\n",
       "      <td>0.653429</td>\n",
       "      <td>0.500174</td>\n",
       "      <td>1.0</td>\n",
       "    </tr>\n",
       "    <tr>\n",
       "      <th>SAMD11</th>\n",
       "      <td>0.060273</td>\n",
       "      <td>0.079556</td>\n",
       "      <td>1.000000</td>\n",
       "      <td>1.0</td>\n",
       "    </tr>\n",
       "    <tr>\n",
       "      <th>NOC2L</th>\n",
       "      <td>0.826429</td>\n",
       "      <td>0.287581</td>\n",
       "      <td>1.000000</td>\n",
       "      <td>1.0</td>\n",
       "    </tr>\n",
       "    <tr>\n",
       "      <th>KLHL17</th>\n",
       "      <td>0.049876</td>\n",
       "      <td>0.463292</td>\n",
       "      <td>1.000000</td>\n",
       "      <td>1.0</td>\n",
       "    </tr>\n",
       "  </tbody>\n",
       "</table>\n",
       "</div>"
      ],
      "text/plain": [
       "              normal_early_p  early_cancer_p  normal_early_p_holm  \\\n",
       "LOC643837           0.690766        0.413735             1.000000   \n",
       "LOC100130417        0.000032        0.653429             0.500174   \n",
       "SAMD11              0.060273        0.079556             1.000000   \n",
       "NOC2L               0.826429        0.287581             1.000000   \n",
       "KLHL17              0.049876        0.463292             1.000000   \n",
       "\n",
       "              early_cancer_p_holm  \n",
       "LOC643837                     1.0  \n",
       "LOC100130417                  1.0  \n",
       "SAMD11                        1.0  \n",
       "NOC2L                         1.0  \n",
       "KLHL17                        1.0  "
      ]
     },
     "execution_count": 131,
     "metadata": {},
     "output_type": "execute_result"
    }
   ],
   "source": [
    "pvalue_data.head()"
   ]
  },
  {
   "cell_type": "code",
   "execution_count": 135,
   "metadata": {
    "collapsed": false
   },
   "outputs": [
    {
     "name": "stdout",
     "output_type": "stream",
     "text": [
      "alpha = 0.025000\n",
      "Answer 2.1: 2 (of 2)\n",
      "Answer 2.2: 77 (of 79)\n"
     ]
    }
   ],
   "source": [
    "genes_corrected1 = pvalue_data.ix[pvalue_data['normal_early_p_holm'] < alpha].index.tolist()\n",
    "genes_practical1 = [x for x in genes_corrected1 if pract_value(x, 'normal', 'early neoplasia')]\n",
    "\n",
    "genes_corrected2 = pvalue_data.ix[pvalue_data['early_cancer_p_holm'] < alpha].index.tolist()\n",
    "genes_practical2 = [x for x in genes_corrected2 if pract_value(x, 'early neoplasia', 'cancer')]\n",
    "\n",
    "print 'alpha = %f' % alpha\n",
    "print 'Answer 2.1: %i (of %i)' % (len(genes_practical1), len(genes_corrected1))\n",
    "out('2.1.txt', len(genes_practical1))\n",
    "print 'Answer 2.2: %i (of %i)' % (len(genes_practical2), len(genes_corrected2))\n",
    "out('2.2.txt', len(genes_practical2))"
   ]
  },
  {
   "cell_type": "markdown",
   "metadata": {},
   "source": [
    "Поправка методом Бенджамини-Хохберга"
   ]
  },
  {
   "cell_type": "code",
   "execution_count": 136,
   "metadata": {
    "collapsed": false
   },
   "outputs": [],
   "source": [
    "corrected_bh_1 = smm.multipletests(pvals=pvalue_data['normal_early_p'], alpha=alpha, method='fdr_bh')\n",
    "pvalue_data['normal_early_p_bh'] = corrected_bh_1[1]\n",
    "corrected_bh_2 = smm.multipletests(pvals=pvalue_data['early_cancer_p'], alpha=alpha, method='fdr_bh')\n",
    "pvalue_data['early_cancer_p_bh'] = corrected_bh_2[1]"
   ]
  },
  {
   "cell_type": "code",
   "execution_count": 137,
   "metadata": {
    "collapsed": false
   },
   "outputs": [
    {
     "name": "stdout",
     "output_type": "stream",
     "text": [
      "alpha = 0.025000\n",
      "Answer 3.1: 4 (of 4)\n",
      "Answer 3.2: 524 (of 832)\n"
     ]
    }
   ],
   "source": [
    "genes_corrected1 = pvalue_data.ix[pvalue_data['normal_early_p_bh'] < alpha].index.tolist()\n",
    "genes_practical1 = [x for x in genes_corrected1 if pract_value(x, 'normal', 'early neoplasia')]\n",
    "\n",
    "genes_corrected2 = pvalue_data.ix[pvalue_data['early_cancer_p_bh'] < alpha].index.tolist()\n",
    "genes_practical2 = [x for x in genes_corrected2 if pract_value(x, 'early neoplasia', 'cancer')]\n",
    "\n",
    "print 'alpha = %f' % alpha\n",
    "print 'Answer 3.1: %i (of %i)' % (len(genes_practical1), len(genes_corrected1))\n",
    "out('3.1.txt', len(genes_practical1))\n",
    "print 'Answer 3.2: %i (of %i)' % (len(genes_practical2), len(genes_corrected2))\n",
    "out('3.2.txt', len(genes_practical2))"
   ]
  },
  {
   "cell_type": "code",
   "execution_count": null,
   "metadata": {
    "collapsed": true
   },
   "outputs": [],
   "source": []
  }
 ],
 "metadata": {
  "kernelspec": {
   "display_name": "Python 2",
   "language": "python",
   "name": "python2"
  },
  "language_info": {
   "codemirror_mode": {
    "name": "ipython",
    "version": 2
   },
   "file_extension": ".py",
   "mimetype": "text/x-python",
   "name": "python",
   "nbconvert_exporter": "python",
   "pygments_lexer": "ipython2",
   "version": "2.7.13"
  }
 },
 "nbformat": 4,
 "nbformat_minor": 0
}
