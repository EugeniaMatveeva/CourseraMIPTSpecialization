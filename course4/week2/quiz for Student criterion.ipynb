{
 "cells": [
  {
   "cell_type": "markdown",
   "metadata": {},
   "source": [
    "####  В одном из выпусков программы \"Разрушители легенд\" проверялось, действительно ли заразительна зевота. В эксперименте участвовало 50 испытуемых, проходивших собеседование на программу. Каждый из них разговаривал с рекрутером; в конце 34 из 50 бесед рекрутер зевал. Затем испытуемых просили подождать решения рекрутера в соседней пустой комнате.\n",
    "\n",
    "Во время ожидания 10 из 34 испытуемых экспериментальной группы и 4 из 16 испытуемых контрольной начали зевать. Таким образом, разница в доле зевающих людей в этих двух группах составила примерно 4.4%. Ведущие заключили, что миф о заразительности зевоты подтверждён.\n",
    "\n",
    "Можно ли утверждать, что доли зевающих в контрольной и экспериментальной группах отличаются статистически значимо? Посчитайте достигаемый уровень значимости при альтернативе заразительности зевоты, округлите до четырёх знаков после десятичной точки."
   ]
  },
  {
   "cell_type": "code",
   "execution_count": 62,
   "metadata": {
    "collapsed": true
   },
   "outputs": [],
   "source": [
    "import numpy as np\n",
    "from scipy import stats\n",
    "from statsmodels.stats.weightstats import *"
   ]
  },
  {
   "cell_type": "code",
   "execution_count": 63,
   "metadata": {
    "collapsed": false
   },
   "outputs": [
    {
     "name": "stdout",
     "output_type": "stream",
     "text": [
      "p1 = 0.294118\n",
      "p2 = 0.250000\n"
     ]
    }
   ],
   "source": [
    "n = 50\n",
    "p0 = float(34)/n\n",
    "\n",
    "n1 = 34.\n",
    "p1 = float(10)/n1\n",
    "n2 = 16.\n",
    "p2 = float(4)/n2\n",
    "\n",
    "print('p1 = %f') % p1\n",
    "print('p2 = %f') % p2"
   ]
  },
  {
   "cell_type": "markdown",
   "metadata": {},
   "source": [
    "# Z-критерий для разности долей (независимые выборки)"
   ]
  },
  {
   "cell_type": "markdown",
   "metadata": {},
   "source": [
    "$X_1$ ~ $Ber(p_1)$\n",
    "\n",
    "$X_2$ ~ $Ber(p_2)$\n",
    "\n",
    "$$H_0: p_1=p_2$$\n",
    "$$H_1: p_1>p_2$$\n",
    "$$p_{value} = 1 - F_{N(0,1)}(z)$$"
   ]
  },
  {
   "cell_type": "markdown",
   "metadata": {},
   "source": [
    "   | $X_1$ | $X_2$  \n",
    "  ------------- | -------------|\n",
    "  1  | a | b \n",
    "  0  | c | d \n",
    "  $\\sum$ | $n_1$| $n_2$\n",
    "  \n",
    "$$ \\hat{p}_1 = \\frac{a}{n_1}$$\n",
    "\n",
    "$$ \\hat{p}_2 = \\frac{b}{n_2}$$\n",
    "\n",
    "\n",
    "$$\\text{Доверительный интервал для }p_1 - p_2\\colon \\;\\; \\hat{p}_1 - \\hat{p}_2 \\pm z_{1-\\frac{\\alpha}{2}}\\sqrt{\\frac{\\hat{p}_1(1 - \\hat{p}_1)}{n_1} + \\frac{\\hat{p}_2(1 - \\hat{p}_2)}{n_2}}$$\n",
    "\n",
    "$$Z-статистика: Z({X_1, X_2}) =  \\frac{\\hat{p}_1 - \\hat{p}_2}{\\sqrt{P(1 - P)(\\frac{1}{n_1} + \\frac{1}{n_2})}}$$\n",
    "$$P = \\frac{\\hat{p}_1{n_1} + \\hat{p}_2{n_2}}{{n_1} + {n_2}} $$"
   ]
  },
  {
   "cell_type": "code",
   "execution_count": 64,
   "metadata": {
    "collapsed": false
   },
   "outputs": [
    {
     "name": "stdout",
     "output_type": "stream",
     "text": [
      "0.372930458725\n",
      "0.3729\n"
     ]
    }
   ],
   "source": [
    "P = (p1*n1 + p2*n2)/float(n1 + n2)\n",
    "z = (p1 - p2)/np.sqrt(P*(1-P)*(1./n1 + 1./n2))\n",
    "p_value = 1 - stats.norm.cdf(np.abs(z))\n",
    "\n",
    "print p_value\n",
    "print round(p_value, 4)"
   ]
  },
  {
   "cell_type": "markdown",
   "metadata": {
    "collapsed": true
   },
   "source": [
    "####  Имеются данные измерений двухсот швейцарских тысячефранковых банкнот, бывших в обращении в первой половине XX века. Сто из банкнот были настоящими, и сто — поддельными. \n",
    "Отделите 50 случайных наблюдений в тестовую выборку с помощью функции sklearn.cross_validation.train_test_split (зафиксируйте random state = 1). На оставшихся 150 настройте два классификатора поддельности банкнот:\n",
    "\n",
    "    логистическая регрессия по признакам X1,X2,X3;\n",
    "    логистическая регрессия по признакам X4,X5,X6.\n",
    "\n",
    "Каждым из классификаторов сделайте предсказания меток классов на тестовой выборке. Одинаковы ли доли ошибочных предсказаний двух классификаторов? Проверьте гипотезу, вычислите достигаемый уровень значимости. Введите номер первой значащей цифры (например, если вы получили 5.5×10−8, нужно ввести 8)."
   ]
  },
  {
   "cell_type": "code",
   "execution_count": 65,
   "metadata": {
    "collapsed": true
   },
   "outputs": [],
   "source": [
    "import pandas as pd\n",
    "from sklearn import cross_validation\n",
    "from sklearn import linear_model"
   ]
  },
  {
   "cell_type": "code",
   "execution_count": 66,
   "metadata": {
    "collapsed": false
   },
   "outputs": [
    {
     "data": {
      "text/html": [
       "<div>\n",
       "<table border=\"1\" class=\"dataframe\">\n",
       "  <thead>\n",
       "    <tr style=\"text-align: right;\">\n",
       "      <th></th>\n",
       "      <th>X1</th>\n",
       "      <th>X2</th>\n",
       "      <th>X3</th>\n",
       "      <th>X4</th>\n",
       "      <th>X5</th>\n",
       "      <th>X6</th>\n",
       "      <th>real</th>\n",
       "    </tr>\n",
       "  </thead>\n",
       "  <tbody>\n",
       "    <tr>\n",
       "      <th>0</th>\n",
       "      <td>214.8</td>\n",
       "      <td>131.0</td>\n",
       "      <td>131.1</td>\n",
       "      <td>9.0</td>\n",
       "      <td>9.7</td>\n",
       "      <td>141.0</td>\n",
       "      <td>1</td>\n",
       "    </tr>\n",
       "    <tr>\n",
       "      <th>1</th>\n",
       "      <td>214.6</td>\n",
       "      <td>129.7</td>\n",
       "      <td>129.7</td>\n",
       "      <td>8.1</td>\n",
       "      <td>9.5</td>\n",
       "      <td>141.7</td>\n",
       "      <td>1</td>\n",
       "    </tr>\n",
       "    <tr>\n",
       "      <th>2</th>\n",
       "      <td>214.8</td>\n",
       "      <td>129.7</td>\n",
       "      <td>129.7</td>\n",
       "      <td>8.7</td>\n",
       "      <td>9.6</td>\n",
       "      <td>142.2</td>\n",
       "      <td>1</td>\n",
       "    </tr>\n",
       "    <tr>\n",
       "      <th>3</th>\n",
       "      <td>214.8</td>\n",
       "      <td>129.7</td>\n",
       "      <td>129.6</td>\n",
       "      <td>7.5</td>\n",
       "      <td>10.4</td>\n",
       "      <td>142.0</td>\n",
       "      <td>1</td>\n",
       "    </tr>\n",
       "    <tr>\n",
       "      <th>4</th>\n",
       "      <td>215.0</td>\n",
       "      <td>129.6</td>\n",
       "      <td>129.7</td>\n",
       "      <td>10.4</td>\n",
       "      <td>7.7</td>\n",
       "      <td>141.8</td>\n",
       "      <td>1</td>\n",
       "    </tr>\n",
       "  </tbody>\n",
       "</table>\n",
       "</div>"
      ],
      "text/plain": [
       "      X1     X2     X3    X4    X5     X6  real\n",
       "0  214.8  131.0  131.1   9.0   9.7  141.0     1\n",
       "1  214.6  129.7  129.7   8.1   9.5  141.7     1\n",
       "2  214.8  129.7  129.7   8.7   9.6  142.2     1\n",
       "3  214.8  129.7  129.6   7.5  10.4  142.0     1\n",
       "4  215.0  129.6  129.7  10.4   7.7  141.8     1"
      ]
     },
     "execution_count": 66,
     "metadata": {},
     "output_type": "execute_result"
    }
   ],
   "source": [
    "data_bank = pd.read_csv('banknotes.txt', sep=\"\\t\")\n",
    "data_bank.describe()\n",
    "data_bank.head()"
   ]
  },
  {
   "cell_type": "code",
   "execution_count": 67,
   "metadata": {
    "collapsed": false
   },
   "outputs": [],
   "source": [
    "X = data_bank[['X1', 'X2', 'X3', 'X4', 'X5', 'X6']]\n",
    "y = data_bank['real'].values\n",
    "X_train, X_test, y_train, y_test = cross_validation.train_test_split(X, y, test_size=50, random_state=1)"
   ]
  },
  {
   "cell_type": "code",
   "execution_count": 68,
   "metadata": {
    "collapsed": false
   },
   "outputs": [
    {
     "name": "stdout",
     "output_type": "stream",
     "text": [
      "150\n",
      "50\n"
     ]
    }
   ],
   "source": [
    "print  len(X_train)\n",
    "print  len(X_test)"
   ]
  },
  {
   "cell_type": "code",
   "execution_count": 69,
   "metadata": {
    "collapsed": false
   },
   "outputs": [
    {
     "name": "stdout",
     "output_type": "stream",
     "text": [
      "('pred1:', array([1, 1, 1, 0, 0, 0, 1, 1, 1, 1, 0, 1, 1, 1, 0, 0, 0, 0, 0, 1, 1, 0, 1,\n",
      "       1, 1, 0, 1, 1, 0, 0, 1, 0, 0, 0, 0, 1, 0, 0, 0, 0, 1, 0, 0, 1, 1, 0,\n",
      "       1, 0, 0, 0]))\n",
      "('pred2:', array([1, 1, 1, 0, 0, 0, 1, 1, 1, 0, 0, 1, 1, 1, 1, 0, 0, 1, 0, 1, 1, 1, 1,\n",
      "       1, 1, 0, 1, 1, 0, 1, 1, 0, 0, 0, 0, 1, 0, 1, 1, 0, 0, 0, 0, 1, 1, 1,\n",
      "       0, 1, 0, 0]))\n",
      "('y:', array([1, 1, 1, 0, 0, 0, 1, 1, 1, 0, 0, 1, 1, 1, 0, 0, 0, 1, 0, 1, 1, 1, 1,\n",
      "       1, 1, 0, 1, 1, 0, 1, 1, 0, 0, 0, 0, 1, 0, 1, 1, 0, 0, 0, 0, 1, 1, 1,\n",
      "       0, 1, 0, 0]))\n",
      "('err1:', 10)\n",
      "('err2:', 1)\n",
      "0.2\n",
      "0.02\n"
     ]
    }
   ],
   "source": [
    "X_train1 = X_train[['X1', 'X2', 'X3']].values\n",
    "X_train2 = X_train[['X4', 'X5', 'X6']].values\n",
    "X_test1 = X_test[['X1', 'X2', 'X3']].values\n",
    "X_test2 = X_test[['X4', 'X5', 'X6']].values\n",
    "\n",
    "log1 = linear_model.LogisticRegression(random_state=1)\n",
    "log1.fit(X_train1, y_train)\n",
    "pred1 = log1.predict(X_test1)\n",
    "err1 = abs(pred1 - y_test)\n",
    "\n",
    "log2 = linear_model.LogisticRegression(random_state=1)\n",
    "log2.fit(X_train2, y_train)\n",
    "pred2 = log2.predict(X_test2)\n",
    "err2 = abs(pred2 - y_test)\n",
    "\n",
    "err_prop1 = float(np.sum(err1)) / len(X_test)\n",
    "err_prop2 = float(np.sum(err2)) / len(X_test)\n",
    "\n",
    "print ('err1:', np.sum(err1))\n",
    "print ('err2:', np.sum(err2))\n",
    "print err_prop1\n",
    "print err_prop2"
   ]
  },
  {
   "cell_type": "markdown",
   "metadata": {
    "collapsed": true
   },
   "source": [
    "$X_1$ ~ $Ber(p_1)$\n",
    "\n",
    "$X_2$ ~ $Ber(p_2)$\n",
    "\n",
    "$$H_0: p_1=p_2$$\n",
    "$$H_1: p_1<>p_2$$\n",
    "$$Z-статистика: Z({X_1, X_2}) =  \\frac{f - g}{\\sqrt{f + g - \\frac{(f - g)^2}{n}}}$$\n"
   ]
  },
  {
   "cell_type": "code",
   "execution_count": 71,
   "metadata": {
    "collapsed": false
   },
   "outputs": [
    {
     "name": "stdout",
     "output_type": "stream",
     "text": [
      "('f:', 10)\n",
      "('g:', 1)\n",
      "('n:', 50)\n",
      "z =  2.93860416802\n",
      "p_value =  0.00329693845555\n"
     ]
    }
   ],
   "source": [
    "def proportions_linked_z(x1, x2):\n",
    "    n = len(x1)\n",
    "    f = np.sum([1 if (x == 1 and x2[i] == 0) else 0 for i, x in enumerate(x1)])\n",
    "    g = np.sum([1 if (x == 0 and x2[i] == 1) else 0 for i, x in enumerate(x1)])\n",
    "    z = float(f - g) / sqrt(f + g - float((f - g)**2) / n)\n",
    "    return z\n",
    "\n",
    "def proportions_linked_p_value(z):\n",
    "    return 2*(1 - stats.norm.cdf(np.abs(z)))\n",
    "\n",
    "z = proportions_linked_z(err1, err2)\n",
    "print 'z = ', z\n",
    "p = proportions_linked_p_value(z)\n",
    "print 'p_value = ', p"
   ]
  },
  {
   "cell_type": "markdown",
   "metadata": {},
   "source": [
    "#### В предыдущей задаче посчитайте 95% доверительный интервал для разности долей ошибок двух классификаторов. Чему равна его ближайшая к нулю граница? Округлите до четырёх знаков после десятичной точки."
   ]
  },
  {
   "cell_type": "markdown",
   "metadata": {},
   "source": [
    "  $X_1$ \\ $X_2$ | 1| 0 | $\\sum$\n",
    "  ------------- | -------------|\n",
    "  1  | e | f | e + f\n",
    "  0  | g | h | g + h\n",
    "  $\\sum$ | e + g| f + h | n  \n",
    "  \n",
    "$$ \\hat{p}_1 = \\frac{e + f}{n}$$\n",
    "\n",
    "$$ \\hat{p}_2 = \\frac{e + g}{n}$$\n",
    "\n",
    "$$ \\hat{p}_1 - \\hat{p}_2 = \\frac{f - g}{n}$$\n",
    "\n",
    "\n",
    "$$\\text{Доверительный интервал для }p_1 - p_2\\colon \\;\\;  \\frac{f - g}{n} \\pm z_{1-\\frac{\\alpha}{2}}\\sqrt{\\frac{f + g}{n^2} - \\frac{(f - g)^2}{n^3}}$$"
   ]
  },
  {
   "cell_type": "code",
   "execution_count": 76,
   "metadata": {
    "collapsed": false
   },
   "outputs": [
    {
     "name": "stdout",
     "output_type": "stream",
     "text": [
      "95% confidence interval: [0.059945, 0.300055]\n",
      "0.0599\n"
     ]
    }
   ],
   "source": [
    "def proportions_linked_int(x1, x2, alpha):\n",
    "    n = len(x1)\n",
    "    f = np.sum([1 if (x == 1 and x2[i] == 0) else 0 for i, x in enumerate(x1)])\n",
    "    g = np.sum([1 if (x == 0 and x2[i] == 1) else 0 for i, x in enumerate(x1)])\n",
    "    \n",
    "    z_alpha = scipy.stats.norm.ppf(1 - alpha / 2.)\n",
    "    left = float(f - g)/n - z_alpha*sqrt(float(f + g)/n**2 - float((f - g)**2)/n**3)\n",
    "    right = float(f - g)/n + z_alpha*sqrt(float(f + g)/n**2 - float((f - g)**2)/n**3)\n",
    "    \n",
    "    return (left, right)\n",
    "\n",
    "interv = proportions_linked_int(err1, err2, 0.05)\n",
    "print ('95%% confidence interval: [%f, %f]' % interv)\n",
    "print round(min(abs(np.array([interv[0], interv[1]]))), 4)"
   ]
  },
  {
   "cell_type": "markdown",
   "metadata": {},
   "source": [
    "#### Ежегодно более 200000 людей по всему миру сдают стандартизированный экзамен GMAT при поступлении на программы MBA. Средний результат составляет 525 баллов, стандартное отклонение — 100 баллов.\n",
    "\n",
    "Сто студентов закончили специальные подготовительные курсы и сдали экзамен. Средний полученный ими балл — 541.4. Проверьте гипотезу о неэффективности программы против односторонней альтернативы о том, что программа работает. Отвергается ли на уровне значимости 0.05 нулевая гипотеза? Введите достигаемый уровень значимости, округлённый до 4 знаков после десятичной точки. "
   ]
  },
  {
   "cell_type": "markdown",
   "metadata": {},
   "source": [
    "$$H_0: \\mu = \\mu_0$$\n",
    "$$H_1: \\mu > \\mu_0$$\n",
    "$$Z(X) = \\frac{\\hat{X} - \\mu_0}{\\sigma / \\sqrt{n}}$$"
   ]
  },
  {
   "cell_type": "code",
   "execution_count": 80,
   "metadata": {
    "collapsed": true
   },
   "outputs": [],
   "source": [
    "mu0 = 525.\n",
    "sigma0 = 100.\n",
    "n = 100\n",
    "mu = 541.4"
   ]
  },
  {
   "cell_type": "code",
   "execution_count": 85,
   "metadata": {
    "collapsed": false
   },
   "outputs": [
    {
     "name": "stdout",
     "output_type": "stream",
     "text": [
      "p = 0.050503\n",
      "0.0505\n"
     ]
    }
   ],
   "source": [
    "z = float(mu - mu0) / (sigma0/sqrt(n))\n",
    "p = 1 - stats.norm.cdf(abs(z))\n",
    "print 'p = %f' % p\n",
    "print round(p, 4)"
   ]
  },
  {
   "cell_type": "markdown",
   "metadata": {},
   "source": [
    "#### Оцените теперь эффективность подготовительных курсов, средний балл 100 выпускников которых равен 541.5. Отвергается ли на уровне значимости 0.05 та же самая нулевая гипотеза против той же самой альтернативы? Введите достигаемый уровень значимости, округлённый до 4 знаков после десятичной точки. "
   ]
  },
  {
   "cell_type": "code",
   "execution_count": 88,
   "metadata": {
    "collapsed": false
   },
   "outputs": [
    {
     "name": "stdout",
     "output_type": "stream",
     "text": [
      "p = 0.049471\n",
      "0.0495\n"
     ]
    }
   ],
   "source": [
    "mu2 = 541.5\n",
    "z = float(mu2 - mu0) / (sigma0/sqrt(n))\n",
    "p = 1 - stats.norm.cdf(abs(z))\n",
    "print 'p = %f' % p\n",
    "print round(p, 4)"
   ]
  },
  {
   "cell_type": "code",
   "execution_count": null,
   "metadata": {
    "collapsed": true
   },
   "outputs": [],
   "source": []
  }
 ],
 "metadata": {
  "kernelspec": {
   "display_name": "Python 2",
   "language": "python",
   "name": "python2"
  },
  "language_info": {
   "codemirror_mode": {
    "name": "ipython",
    "version": 2
   },
   "file_extension": ".py",
   "mimetype": "text/x-python",
   "name": "python",
   "nbconvert_exporter": "python",
   "pygments_lexer": "ipython2",
   "version": "2.7.13"
  }
 },
 "nbformat": 4,
 "nbformat_minor": 0
}
