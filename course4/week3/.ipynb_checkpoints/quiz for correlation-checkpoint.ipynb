{
 "cells": [
  {
   "cell_type": "code",
   "execution_count": 112,
   "metadata": {
    "collapsed": true
   },
   "outputs": [],
   "source": [
    "import pandas as pd\n",
    "import numpy as np"
   ]
  },
  {
   "cell_type": "markdown",
   "metadata": {},
   "source": [
    "Для 61 большого города в Англии и Уэльсе известны средняя годовая смертность на 100000 населения (по данным 1958–1964) и концентрация кальция в питьевой воде (в частях на маллион). Чем выше концентрация кальция, тем жёстче вода. Города дополнительно поделены на северные и южные.\n",
    "water.txt\n",
    "Есть ли связь между жёсткостью воды и средней годовой смертностью? Посчитайте значение коэффициента корреляции Пирсона между этими признаками, округлите его до четырёх знаков после десятичной точки.\n",
    "\n",
    "В предыдущей задаче посчитайте значение коэффициента корреляции Спирмена между средней годовой смертностью и жёсткостью воды. Округлите до четырёх знаков после десятичной точки. "
   ]
  },
  {
   "cell_type": "code",
   "execution_count": 113,
   "metadata": {
    "collapsed": false
   },
   "outputs": [
    {
     "data": {
      "text/html": [
       "<div>\n",
       "<table border=\"1\" class=\"dataframe\">\n",
       "  <thead>\n",
       "    <tr style=\"text-align: right;\">\n",
       "      <th></th>\n",
       "      <th>location</th>\n",
       "      <th>town</th>\n",
       "      <th>mortality</th>\n",
       "      <th>hardness</th>\n",
       "    </tr>\n",
       "  </thead>\n",
       "  <tbody>\n",
       "    <tr>\n",
       "      <th>0</th>\n",
       "      <td>South</td>\n",
       "      <td>Bath</td>\n",
       "      <td>1247</td>\n",
       "      <td>105</td>\n",
       "    </tr>\n",
       "    <tr>\n",
       "      <th>1</th>\n",
       "      <td>North</td>\n",
       "      <td>Birkenhead</td>\n",
       "      <td>1668</td>\n",
       "      <td>17</td>\n",
       "    </tr>\n",
       "    <tr>\n",
       "      <th>2</th>\n",
       "      <td>South</td>\n",
       "      <td>Birmingham</td>\n",
       "      <td>1466</td>\n",
       "      <td>5</td>\n",
       "    </tr>\n",
       "    <tr>\n",
       "      <th>3</th>\n",
       "      <td>North</td>\n",
       "      <td>Blackburn</td>\n",
       "      <td>1800</td>\n",
       "      <td>14</td>\n",
       "    </tr>\n",
       "    <tr>\n",
       "      <th>4</th>\n",
       "      <td>North</td>\n",
       "      <td>Blackpool</td>\n",
       "      <td>1609</td>\n",
       "      <td>18</td>\n",
       "    </tr>\n",
       "  </tbody>\n",
       "</table>\n",
       "</div>"
      ],
      "text/plain": [
       "  location        town  mortality  hardness\n",
       "0    South        Bath       1247       105\n",
       "1    North  Birkenhead       1668        17\n",
       "2    South  Birmingham       1466         5\n",
       "3    North   Blackburn       1800        14\n",
       "4    North   Blackpool       1609        18"
      ]
     },
     "execution_count": 113,
     "metadata": {},
     "output_type": "execute_result"
    }
   ],
   "source": [
    "data = pd.read_csv('water.txt', sep = '\\t')\n",
    "data.head()"
   ]
  },
  {
   "cell_type": "code",
   "execution_count": 114,
   "metadata": {
    "collapsed": false
   },
   "outputs": [
    {
     "name": "stdout",
     "output_type": "stream",
     "text": [
      "   mortality  hardness\n",
      "0       1247       105\n",
      "1       1668        17\n",
      "2       1466         5\n",
      "3       1800        14\n",
      "4       1609        18\n",
      "           mortality  hardness\n",
      "mortality   1.000000 -0.654849\n",
      "hardness   -0.654849  1.000000\n",
      "Answer: -0.6548\n",
      "           mortality  hardness\n",
      "mortality   1.000000 -0.631665\n",
      "hardness   -0.631665  1.000000\n",
      "Answer: -0.6317\n"
     ]
    }
   ],
   "source": [
    "mortality_hardness = data[['mortality', 'hardness']]\n",
    "print mortality_hardness.head()\n",
    "\n",
    "corr_pirs = mortality_hardness.corr()\n",
    "print corr_pirs\n",
    "print 'Answer:', round(corr_pirs.values[0][1], 4)\n",
    "\n",
    "corr_spear = mortality_hardness.corr(method='spearman')\n",
    "print corr_spear\n",
    "print 'Answer:', round(corr_spear.values[0][1], 4)"
   ]
  },
  {
   "cell_type": "markdown",
   "metadata": {},
   "source": [
    "Сохраняется ли связь между признаками, если разбить выборку на северные и южные города? Посчитайте значения корреляции Пирсона между средней годовой смертностью и жёсткостью воды в каждой из двух подвыборок, введите наименьшее по модулю из двух значений, округлив его до четырёх знаков после десятичной точки."
   ]
  },
  {
   "cell_type": "code",
   "execution_count": 115,
   "metadata": {
    "collapsed": false
   },
   "outputs": [
    {
     "name": "stdout",
     "output_type": "stream",
     "text": [
      "north:\n",
      "           mortality  hardness\n",
      "mortality   1.000000 -0.368598\n",
      "hardness   -0.368598  1.000000\n",
      "\n",
      "south:\n",
      "           mortality  hardness\n",
      "mortality   1.000000 -0.602153\n",
      "hardness   -0.602153  1.000000\n",
      "Answer: -0.3686\n"
     ]
    }
   ],
   "source": [
    "data_north = data[data['location'] == 'North']\n",
    "data_south = data[data['location'] == 'South']\n",
    "\n",
    "corr_north = data_north.corr()\n",
    "corr_south = data_south.corr()\n",
    "print 'north:\\n', corr_north\n",
    "print\n",
    "print 'south:\\n', corr_south\n",
    "\n",
    "corr_north_val = corr_north.values[0][1]\n",
    "corr_south_val = corr_south.values[0][1]\n",
    "\n",
    "v = np.array([corr_north_val, corr_south_val])\n",
    "print 'Answer:', round(v[np.argmin(abs(corr_north_val), abs(corr_south_val))], 4)"
   ]
  },
  {
   "cell_type": "markdown",
   "metadata": {
    "collapsed": true
   },
   "source": [
    "Среди респондентов General Social Survey 2014 года хотя бы раз в месяц проводят вечер в баре 203 женщины и 239 мужчин; реже, чем раз в месяц, это делают 718 женщин и 515 мужчин.\n",
    "\n",
    "Посчитайте значение коэффициента корреляции Мэтьюса между полом и частотой похода в бары. Округлите значение до трёх знаков после десятичной точки."
   ]
  },
  {
   "cell_type": "markdown",
   "metadata": {},
   "source": [
    "  X1/X2 | Female | Male\n",
    "  ------------- | -------------|\n",
    "   **Often**  | 203 | 239 \n",
    "  **Rare** | 718  | 515"
   ]
  },
  {
   "cell_type": "code",
   "execution_count": 116,
   "metadata": {
    "collapsed": true
   },
   "outputs": [],
   "source": [
    "a = 203\n",
    "b = 239\n",
    "c = 718\n",
    "d = 515"
   ]
  },
  {
   "cell_type": "code",
   "execution_count": 117,
   "metadata": {
    "collapsed": true
   },
   "outputs": [],
   "source": [
    "def matthews_coeff(a, b, c, d):\n",
    "    return float(a*d - b*c) / (np.sqrt((a + b)*(a + c)*(b + d)*(c + d)))"
   ]
  },
  {
   "cell_type": "code",
   "execution_count": 118,
   "metadata": {
    "collapsed": false
   },
   "outputs": [
    {
     "name": "stdout",
     "output_type": "stream",
     "text": [
      "-0.109002374587\n",
      "Answer: -0.109\n"
     ]
    }
   ],
   "source": [
    "mcc = matthews_coeff(a, b, c, d)\n",
    "print mcc\n",
    "print 'Answer:', round(mcc, 3)"
   ]
  },
  {
   "cell_type": "code",
   "execution_count": 119,
   "metadata": {
    "collapsed": false
   },
   "outputs": [
    {
     "name": "stdout",
     "output_type": "stream",
     "text": [
      "1.05589870066e-05\n",
      "Answer: 5\n"
     ]
    }
   ],
   "source": [
    "import scipy\n",
    "from scipy import stats\n",
    "table = np.array([[a, b],[c, d]])\n",
    "chi2, p, dof, ex = stats.chi2_contingency(table)\n",
    "print p\n",
    "s = str(p)\n",
    "print 'Answer:', abs(int(s[s.find('e') + 1:len(s)]))"
   ]
  },
  {
   "cell_type": "markdown",
   "metadata": {},
   "source": [
    "В предыдущей задаче давайте попробуем ответить на немного другой вопрос: отличаются ли доля мужчин и доля женщин, относительно часто проводящих вечера в баре? Постройте 95% доверительный интервал для разности долей, вычитая долю женщин из доли мужчин. Чему равна его нижняя граница? Округлите до четырёх знаков после десятичной точки."
   ]
  },
  {
   "cell_type": "code",
   "execution_count": 120,
   "metadata": {
    "collapsed": false
   },
   "outputs": [
    {
     "name": "stdout",
     "output_type": "stream",
     "text": [
      "p1 = 0.316976\n",
      "p2 = 0.220413\n"
     ]
    }
   ],
   "source": [
    "n1 = b + d\n",
    "n2 = a + c\n",
    "p1 = float(b) / float(n1)\n",
    "p2 = float(a) / float(n2)\n",
    "print('p1 = %f') % p1\n",
    "print('p2 = %f') % p2"
   ]
  },
  {
   "cell_type": "markdown",
   "metadata": {},
   "source": [
    "# Z-критерий для разности долей (независимые выборки)"
   ]
  },
  {
   "cell_type": "markdown",
   "metadata": {},
   "source": [
    "$X_1$ ~ $Ber(p_1)$\n",
    "\n",
    "$X_2$ ~ $Ber(p_2)$\n",
    "\n",
    "$$H_0: p_1=p_2$$\n",
    "$$H_1: p_1>p_2$$\n",
    "$$p_{value} = 1 - F_{N(0,1)}(z)$$"
   ]
  },
  {
   "cell_type": "markdown",
   "metadata": {},
   "source": [
    "   | $X_1$ | $X_2$  \n",
    "  ------------- | -------------|\n",
    "  1  | a | b \n",
    "  0  | c | d \n",
    "  $\\sum$ | $n_1$| $n_2$\n",
    "  \n",
    "$$ \\hat{p}_1 = \\frac{a}{n_1}$$\n",
    "\n",
    "$$ \\hat{p}_2 = \\frac{b}{n_2}$$\n",
    "\n",
    "\n",
    "$$\\text{Доверительный интервал для }p_1 - p_2\\colon \\;\\; \\hat{p}_1 - \\hat{p}_2 \\pm z_{1-\\frac{\\alpha}{2}}\\sqrt{\\frac{\\hat{p}_1(1 - \\hat{p}_1)}{n_1} + \\frac{\\hat{p}_2(1 - \\hat{p}_2)}{n_2}}$$\n",
    "\n",
    "$$Z-статистика: Z({X_1, X_2}) =  \\frac{\\hat{p}_1 - \\hat{p}_2}{\\sqrt{P(1 - P)(\\frac{1}{n_1} + \\frac{1}{n_2})}}$$\n",
    "$$P = \\frac{\\hat{p}_1{n_1} + \\hat{p}_2{n_2}}{{n_1} + {n_2}} $$"
   ]
  },
  {
   "cell_type": "code",
   "execution_count": 121,
   "metadata": {
    "collapsed": false
   },
   "outputs": [
    {
     "name": "stdout",
     "output_type": "stream",
     "text": [
      "(0.053905233215813156, 0.13922183141523897)\n",
      "Answer: 0.0539\n"
     ]
    }
   ],
   "source": [
    "def proportions_diff_confint_ind(p1, p2, n1, n2, alpha = 0.05):    \n",
    "    z = scipy.stats.norm.ppf(1 - alpha / 2.)\n",
    "    \n",
    "    left_boundary = (p1 - p2) - z * np.sqrt(p1 * (1 - p1)/ n1 + p2 * (1 - p2)/ n2)\n",
    "    right_boundary = (p1 - p2) + z * np.sqrt(p1 * (1 - p1)/ n1 + p2 * (1 - p2)/ n2)\n",
    "    \n",
    "    return (left_boundary, right_boundary)\n",
    "\n",
    "conf_int = proportions_diff_confint_ind(p1, p2, n1, n2)\n",
    "print conf_int\n",
    "print 'Answer:', round(conf_int[0], 4)"
   ]
  },
  {
   "cell_type": "markdown",
   "metadata": {},
   "source": [
    "Проверьте гипотезу о равенстве долей любителей часто проводить вечера в баре среди мужчин и женщин. Посчитайте достигаемый уровень значимости, используя двустороннюю альтернативу. Введите номер первой значащей цифры (например, если вы получили 5.5×10−8, нужно ввести 8)."
   ]
  },
  {
   "cell_type": "code",
   "execution_count": 127,
   "metadata": {
    "collapsed": false
   },
   "outputs": [
    {
     "name": "stdout",
     "output_type": "stream",
     "text": [
      "8.15345308958e-06\n",
      "Answer: 6\n"
     ]
    }
   ],
   "source": [
    "P = (p1*n1 + p2*n2)/float(n1 + n2)\n",
    "z = (p1 - p2)/np.sqrt(P*(1-P)*(1./n1 + 1./n2))\n",
    "p_value = 2 * (1 - scipy.stats.norm.cdf(np.abs(z))) # two-sided\n",
    "\n",
    "print p_value\n",
    "s = str(p_value)\n",
    "print 'Answer:', abs(int(s[s.find('e') + 1:len(s)]))"
   ]
  },
  {
   "cell_type": "markdown",
   "metadata": {},
   "source": [
    "Посмотрим на данные General Social Survey 2014 года и проанализируем, как связаны ответы на вопросы \"Счастливы ли вы?\" и \"Довольны ли вы вашим финансовым положением?\n",
    "Чему равно значение статистики хи-квадрат для этой таблицы сопряжённости? Округлите ответ до четырёх знаков после десятичной точки."
   ]
  },
  {
   "cell_type": "markdown",
   "metadata": {},
   "source": [
    "   | Не доволен | Более или менее | Доволен\n",
    "  ------------- | -------------|\n",
    "   **Не очень счастлив**  | 197 | 111 | 33 \n",
    "  **Достаточно счастлив** | 382  | 685 | 331\n",
    "  **Очень счастлив** | 110  | 342 | 333"
   ]
  },
  {
   "cell_type": "markdown",
   "metadata": {},
   "source": [
    "$$(X_{1i}, X_{2i}), i=1..n$$\n",
    "$$X_1 \\in \\{1,..,K_1\\}, X_2 \\in \\{1,..,K_2\\}$$\n",
    "$H_0$: $X_1$ и $X_2$ независимы\n",
    "\n",
    "$H_1$: $H_0$ неверна\n",
    "$$ \\chi^2(X_1^n, X_2^n)=\\sum_{i=1}^{K_1}\\sum_{j=1}^{K_2}\\frac{(n_{ij}-\\frac{n_{i+}n_{+j}}{n})^2}{\\frac{n_{i+}n_{+j}}{n}}=n \\left( \\sum_{i=1}^{K_1}\\sum_{j=1}^{K_2}\\frac{n_{ij}^2}{n_{i+}n_{+j}}-1 \\right)$$"
   ]
  },
  {
   "cell_type": "code",
   "execution_count": 123,
   "metadata": {
    "collapsed": true
   },
   "outputs": [],
   "source": [
    "def chi2_stat(matrix):\n",
    "    k, m = matrix.shape\n",
    "    n = sum([sum(matrix[0]), sum(matrix[1]), sum(matrix[2])])\n",
    "    val = 0\n",
    "    for i in range(k):\n",
    "        for j in range(m):\n",
    "            n_i = sum(matrix[i])\n",
    "            n_j = sum(matrix[:, j])\n",
    "            val += float(matrix[i, j]**2)/float(n_i*n_j)\n",
    "    val = n*(val - 1)\n",
    "    return val"
   ]
  },
  {
   "cell_type": "code",
   "execution_count": 124,
   "metadata": {
    "collapsed": false
   },
   "outputs": [
    {
     "name": "stdout",
     "output_type": "stream",
     "text": [
      "293.683110397\n",
      "Answer: 293.6831\n"
     ]
    }
   ],
   "source": [
    "m = np.array([[197, 111, 33],\n",
    "              [382, 685, 331],\n",
    "              [110, 342, 333]])\n",
    "n = sum([sum(m[0]), sum(m[1]), sum(m[2])])\n",
    "\n",
    "chi2_val = chi2_stat(m)\n",
    "print chi2_val\n",
    "print 'Answer:', round(chi2_val, 4)"
   ]
  },
  {
   "cell_type": "markdown",
   "metadata": {},
   "source": [
    "На данных из предыдущего вопроса посчитайте значение достигаемого уровня значимости. Введите номер первой значащей цифры (например, если вы получили 5.5×10−8, нужно ввести 8)."
   ]
  },
  {
   "cell_type": "code",
   "execution_count": 125,
   "metadata": {
    "collapsed": false
   },
   "outputs": [
    {
     "name": "stdout",
     "output_type": "stream",
     "text": [
      "Answer: 62\n"
     ]
    }
   ],
   "source": [
    "chi2, p, dof, ex = stats.chi2_contingency(m)\n",
    "s = str(p)\n",
    "print 'Answer:', abs(int(s[s.find('e') + 1:len(s)]))"
   ]
  },
  {
   "cell_type": "markdown",
   "metadata": {},
   "source": [
    "Чему в предыдущей задаче равно значение коэффициента V Крамера для рассматриваемых признаков? Округлите ответ до четырёх знаков после десятичной точки. "
   ]
  },
  {
   "cell_type": "markdown",
   "metadata": {},
   "source": [
    "# Коэффициент V Крамера"
   ]
  },
  {
   "cell_type": "markdown",
   "metadata": {},
   "source": [
    "$$ \\phi_c(X_1^n, X_2^n) = \\sqrt{\\frac{\\chi^2(X_1^n, X_2^n)}{n(min(K_1, K_2)-1)}}$$"
   ]
  },
  {
   "cell_type": "code",
   "execution_count": 126,
   "metadata": {
    "collapsed": false
   },
   "outputs": [
    {
     "name": "stdout",
     "output_type": "stream",
     "text": [
      "0.0581781122022\n",
      "0.24120139345\n",
      "Answer: 0.2412\n"
     ]
    }
   ],
   "source": [
    "phi = np.sqrt(chi2_val/float(n*(3 - 1)))\n",
    "print chi2_val/float(n*(3 - 1))\n",
    "print phi\n",
    "print 'Answer:', round(phi, 4)"
   ]
  },
  {
   "cell_type": "code",
   "execution_count": null,
   "metadata": {
    "collapsed": true
   },
   "outputs": [],
   "source": []
  },
  {
   "cell_type": "code",
   "execution_count": null,
   "metadata": {
    "collapsed": true
   },
   "outputs": [],
   "source": []
  }
 ],
 "metadata": {
  "kernelspec": {
   "display_name": "Python 2",
   "language": "python",
   "name": "python2"
  },
  "language_info": {
   "codemirror_mode": {
    "name": "ipython",
    "version": 2
   },
   "file_extension": ".py",
   "mimetype": "text/x-python",
   "name": "python",
   "nbconvert_exporter": "python",
   "pygments_lexer": "ipython2",
   "version": "2.7.11"
  }
 },
 "nbformat": 4,
 "nbformat_minor": 0
}
