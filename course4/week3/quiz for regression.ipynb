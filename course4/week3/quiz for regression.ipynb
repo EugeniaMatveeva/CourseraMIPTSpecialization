{
 "cells": [
  {
   "cell_type": "code",
   "execution_count": 99,
   "metadata": {
    "collapsed": true
   },
   "outputs": [],
   "source": [
    "import statsmodels\n",
    "import scipy as sc\n",
    "import numpy as np\n",
    "import pandas as pd\n",
    "import statsmodels.formula.api as smf\n",
    "import statsmodels.stats.api as sms\n",
    "from statsmodels.graphics.regressionplots import plot_leverage_resid2\n",
    "import matplotlib.pyplot as plt"
   ]
  },
  {
   "cell_type": "code",
   "execution_count": 100,
   "metadata": {
    "collapsed": false
   },
   "outputs": [
    {
     "name": "stdout",
     "output_type": "stream",
     "text": [
      "   ceb  age  educ    religion  idlnchld  knowmeth  usemeth  evermarr  agefm  \\\n",
      "0    0   18    10    catholic       4.0       1.0      1.0         0    NaN   \n",
      "1    2   43    11  protestant       2.0       1.0      1.0         1   20.0   \n",
      "2    0   49     4      spirit       4.0       1.0      0.0         1   22.0   \n",
      "3    0   24    12       other       2.0       1.0      0.0         0    NaN   \n",
      "4    3   32    13       other       3.0       1.0      1.0         1   24.0   \n",
      "\n",
      "   heduc  urban  electric  radio   tv  bicycle  \n",
      "0    NaN      1       1.0    1.0  1.0      1.0  \n",
      "1   14.0      1       1.0    1.0  1.0      1.0  \n",
      "2    1.0      1       1.0    1.0  0.0      0.0  \n",
      "3    NaN      1       1.0    1.0  1.0      1.0  \n",
      "4   12.0      1       1.0    1.0  1.0      1.0  \n",
      "Populating the interactive namespace from numpy and matplotlib\n"
     ]
    }
   ],
   "source": [
    "raw = pd.read_csv('botswana.tsv', sep='\\t')\n",
    "print raw.head()\n",
    "%pylab inline"
   ]
  },
  {
   "cell_type": "markdown",
   "metadata": {},
   "source": [
    "## Постановка"
   ]
  },
  {
   "cell_type": "markdown",
   "metadata": {},
   "source": [
    "Давайте проанализируем данные опроса 4361 женщин из Ботсваны:\n",
    "botswana.tsv\n",
    "\n",
    "О каждой из них мы знаем:\n",
    "\n",
    "    сколько детей она родила (признак ceb)\n",
    "    возраст (age)\n",
    "    длительность получения образования (educ)\n",
    "    религиозная принадлежность (religion)\n",
    "    идеальное, по её мнению, количество детей в семье (idlnchld)\n",
    "    была ли она когда-нибудь замужем (evermarr)\n",
    "    возраст первого замужества (agefm)\n",
    "    длительность получения образования мужем (heduc)\n",
    "    знает ли она о методах контрацепции (knowmeth)\n",
    "    использует ли она методы контрацепции (usemeth)\n",
    "    живёт ли она в городе (urban)\n",
    "    есть ли у неё электричество, радио, телевизор и велосипед (electric, radio, tv, bicycle)\n",
    "\n",
    "Давайте научимся оценивать количество детей ceb по остальным признакам.\n",
    "\n",
    "1.Загрузите данные и внимательно изучите их. Сколько разных значений принимает признак religion?"
   ]
  },
  {
   "cell_type": "code",
   "execution_count": 101,
   "metadata": {
    "collapsed": false
   },
   "outputs": [
    {
     "data": {
      "text/html": [
       "<div>\n",
       "<table border=\"1\" class=\"dataframe\">\n",
       "  <thead>\n",
       "    <tr style=\"text-align: right;\">\n",
       "      <th></th>\n",
       "      <th>ceb</th>\n",
       "      <th>age</th>\n",
       "      <th>educ</th>\n",
       "      <th>idlnchld</th>\n",
       "      <th>knowmeth</th>\n",
       "      <th>usemeth</th>\n",
       "      <th>evermarr</th>\n",
       "      <th>agefm</th>\n",
       "      <th>heduc</th>\n",
       "      <th>urban</th>\n",
       "      <th>electric</th>\n",
       "      <th>radio</th>\n",
       "      <th>tv</th>\n",
       "      <th>bicycle</th>\n",
       "    </tr>\n",
       "  </thead>\n",
       "  <tbody>\n",
       "    <tr>\n",
       "      <th>count</th>\n",
       "      <td>4361.000000</td>\n",
       "      <td>4361.000000</td>\n",
       "      <td>4361.000000</td>\n",
       "      <td>4241.000000</td>\n",
       "      <td>4354.000000</td>\n",
       "      <td>4290.000000</td>\n",
       "      <td>4361.000000</td>\n",
       "      <td>2079.000000</td>\n",
       "      <td>1956.000000</td>\n",
       "      <td>4361.000000</td>\n",
       "      <td>4358.000000</td>\n",
       "      <td>4359.000000</td>\n",
       "      <td>4359.000000</td>\n",
       "      <td>4358.000000</td>\n",
       "    </tr>\n",
       "    <tr>\n",
       "      <th>mean</th>\n",
       "      <td>2.441642</td>\n",
       "      <td>27.405182</td>\n",
       "      <td>5.855996</td>\n",
       "      <td>4.615892</td>\n",
       "      <td>0.963252</td>\n",
       "      <td>0.577622</td>\n",
       "      <td>0.476726</td>\n",
       "      <td>20.686388</td>\n",
       "      <td>5.144683</td>\n",
       "      <td>0.516625</td>\n",
       "      <td>0.140202</td>\n",
       "      <td>0.701766</td>\n",
       "      <td>0.092911</td>\n",
       "      <td>0.275815</td>\n",
       "    </tr>\n",
       "    <tr>\n",
       "      <th>std</th>\n",
       "      <td>2.406861</td>\n",
       "      <td>8.685233</td>\n",
       "      <td>3.927075</td>\n",
       "      <td>2.219303</td>\n",
       "      <td>0.188164</td>\n",
       "      <td>0.493996</td>\n",
       "      <td>0.499515</td>\n",
       "      <td>5.002383</td>\n",
       "      <td>4.803028</td>\n",
       "      <td>0.499781</td>\n",
       "      <td>0.347236</td>\n",
       "      <td>0.457535</td>\n",
       "      <td>0.290341</td>\n",
       "      <td>0.446975</td>\n",
       "    </tr>\n",
       "    <tr>\n",
       "      <th>min</th>\n",
       "      <td>0.000000</td>\n",
       "      <td>15.000000</td>\n",
       "      <td>0.000000</td>\n",
       "      <td>0.000000</td>\n",
       "      <td>0.000000</td>\n",
       "      <td>0.000000</td>\n",
       "      <td>0.000000</td>\n",
       "      <td>10.000000</td>\n",
       "      <td>0.000000</td>\n",
       "      <td>0.000000</td>\n",
       "      <td>0.000000</td>\n",
       "      <td>0.000000</td>\n",
       "      <td>0.000000</td>\n",
       "      <td>0.000000</td>\n",
       "    </tr>\n",
       "    <tr>\n",
       "      <th>25%</th>\n",
       "      <td>1.000000</td>\n",
       "      <td>20.000000</td>\n",
       "      <td>3.000000</td>\n",
       "      <td>3.000000</td>\n",
       "      <td>1.000000</td>\n",
       "      <td>0.000000</td>\n",
       "      <td>0.000000</td>\n",
       "      <td>17.000000</td>\n",
       "      <td>0.000000</td>\n",
       "      <td>0.000000</td>\n",
       "      <td>0.000000</td>\n",
       "      <td>0.000000</td>\n",
       "      <td>0.000000</td>\n",
       "      <td>0.000000</td>\n",
       "    </tr>\n",
       "    <tr>\n",
       "      <th>50%</th>\n",
       "      <td>2.000000</td>\n",
       "      <td>26.000000</td>\n",
       "      <td>7.000000</td>\n",
       "      <td>4.000000</td>\n",
       "      <td>1.000000</td>\n",
       "      <td>1.000000</td>\n",
       "      <td>0.000000</td>\n",
       "      <td>20.000000</td>\n",
       "      <td>6.000000</td>\n",
       "      <td>1.000000</td>\n",
       "      <td>0.000000</td>\n",
       "      <td>1.000000</td>\n",
       "      <td>0.000000</td>\n",
       "      <td>0.000000</td>\n",
       "    </tr>\n",
       "    <tr>\n",
       "      <th>75%</th>\n",
       "      <td>4.000000</td>\n",
       "      <td>33.000000</td>\n",
       "      <td>8.000000</td>\n",
       "      <td>6.000000</td>\n",
       "      <td>1.000000</td>\n",
       "      <td>1.000000</td>\n",
       "      <td>1.000000</td>\n",
       "      <td>23.000000</td>\n",
       "      <td>8.000000</td>\n",
       "      <td>1.000000</td>\n",
       "      <td>0.000000</td>\n",
       "      <td>1.000000</td>\n",
       "      <td>0.000000</td>\n",
       "      <td>1.000000</td>\n",
       "    </tr>\n",
       "    <tr>\n",
       "      <th>max</th>\n",
       "      <td>13.000000</td>\n",
       "      <td>49.000000</td>\n",
       "      <td>20.000000</td>\n",
       "      <td>20.000000</td>\n",
       "      <td>1.000000</td>\n",
       "      <td>1.000000</td>\n",
       "      <td>1.000000</td>\n",
       "      <td>46.000000</td>\n",
       "      <td>20.000000</td>\n",
       "      <td>1.000000</td>\n",
       "      <td>1.000000</td>\n",
       "      <td>1.000000</td>\n",
       "      <td>1.000000</td>\n",
       "      <td>1.000000</td>\n",
       "    </tr>\n",
       "  </tbody>\n",
       "</table>\n",
       "</div>"
      ],
      "text/plain": [
       "               ceb          age         educ     idlnchld     knowmeth  \\\n",
       "count  4361.000000  4361.000000  4361.000000  4241.000000  4354.000000   \n",
       "mean      2.441642    27.405182     5.855996     4.615892     0.963252   \n",
       "std       2.406861     8.685233     3.927075     2.219303     0.188164   \n",
       "min       0.000000    15.000000     0.000000     0.000000     0.000000   \n",
       "25%       1.000000    20.000000     3.000000     3.000000     1.000000   \n",
       "50%       2.000000    26.000000     7.000000     4.000000     1.000000   \n",
       "75%       4.000000    33.000000     8.000000     6.000000     1.000000   \n",
       "max      13.000000    49.000000    20.000000    20.000000     1.000000   \n",
       "\n",
       "           usemeth     evermarr        agefm        heduc        urban  \\\n",
       "count  4290.000000  4361.000000  2079.000000  1956.000000  4361.000000   \n",
       "mean      0.577622     0.476726    20.686388     5.144683     0.516625   \n",
       "std       0.493996     0.499515     5.002383     4.803028     0.499781   \n",
       "min       0.000000     0.000000    10.000000     0.000000     0.000000   \n",
       "25%       0.000000     0.000000    17.000000     0.000000     0.000000   \n",
       "50%       1.000000     0.000000    20.000000     6.000000     1.000000   \n",
       "75%       1.000000     1.000000    23.000000     8.000000     1.000000   \n",
       "max       1.000000     1.000000    46.000000    20.000000     1.000000   \n",
       "\n",
       "          electric        radio           tv      bicycle  \n",
       "count  4358.000000  4359.000000  4359.000000  4358.000000  \n",
       "mean      0.140202     0.701766     0.092911     0.275815  \n",
       "std       0.347236     0.457535     0.290341     0.446975  \n",
       "min       0.000000     0.000000     0.000000     0.000000  \n",
       "25%       0.000000     0.000000     0.000000     0.000000  \n",
       "50%       0.000000     1.000000     0.000000     0.000000  \n",
       "75%       0.000000     1.000000     0.000000     1.000000  \n",
       "max       1.000000     1.000000     1.000000     1.000000  "
      ]
     },
     "execution_count": 101,
     "metadata": {},
     "output_type": "execute_result"
    }
   ],
   "source": [
    "raw.describe()"
   ]
  },
  {
   "cell_type": "code",
   "execution_count": 102,
   "metadata": {
    "collapsed": false
   },
   "outputs": [
    {
     "name": "stdout",
     "output_type": "stream",
     "text": [
      "spirit        1841\n",
      "other         1080\n",
      "protestant     993\n",
      "catholic       447\n",
      "Name: religion, dtype: int64\n",
      "\n",
      "Answer 1:  4\n"
     ]
    }
   ],
   "source": [
    "print raw.religion.value_counts()\n",
    "print '\\nAnswer 1: ', len(raw.religion.value_counts())"
   ]
  },
  {
   "cell_type": "raw",
   "metadata": {},
   "source": [
    "# Посмотрим на матрицу диаграмм рассеяния по количественным признакам:\n",
    "\n",
    "pd.tools.plotting.scatter_matrix(raw[['ceb', 'age', 'educ', 'idlnchld', 'agefm', 'heduc']], alpha=0.2, \n",
    "                                 figsize=(15, 15), diagonal='hist')\n",
    "\n",
    "\n",
    "pylab.show()"
   ]
  },
  {
   "cell_type": "code",
   "execution_count": 103,
   "metadata": {
    "collapsed": false
   },
   "outputs": [
    {
     "name": "stdout",
     "output_type": "stream",
     "text": [
      "spirit        1841\n",
      "other         1080\n",
      "protestant     993\n",
      "catholic       447\n",
      "Name: religion, dtype: int64\n",
      "1.0    4194\n",
      "0.0     160\n",
      "Name: knowmeth, dtype: int64\n",
      "1.0    2478\n",
      "0.0    1812\n",
      "Name: usemeth, dtype: int64\n",
      "0    2282\n",
      "1    2079\n",
      "Name: evermarr, dtype: int64\n",
      "1    2253\n",
      "0    2108\n",
      "Name: urban, dtype: int64\n",
      "0.0    3747\n",
      "1.0     611\n",
      "Name: electric, dtype: int64\n",
      "1.0    3059\n",
      "0.0    1300\n",
      "Name: radio, dtype: int64\n",
      "0.0    3954\n",
      "1.0     405\n",
      "Name: tv, dtype: int64\n",
      "0.0    3156\n",
      "1.0    1202\n",
      "Name: bicycle, dtype: int64\n"
     ]
    }
   ],
   "source": [
    "#Оценим сбалансированность выборки по категориальным признакам:\n",
    "print raw.religion.value_counts()\n",
    "\n",
    "print raw.knowmeth.value_counts()\n",
    "print raw.usemeth.value_counts()\n",
    "print raw.evermarr.value_counts()\n",
    "print raw.urban.value_counts()\n",
    "print raw.electric.value_counts()\n",
    "print raw.radio.value_counts()\n",
    "print raw.tv.value_counts()\n",
    "print raw.bicycle.value_counts()"
   ]
  },
  {
   "cell_type": "markdown",
   "metadata": {},
   "source": [
    "2.Во многих признаках есть пропущенные значения. Сколько объектов из 4361 останется, если выбросить все, содержащие пропуски? "
   ]
  },
  {
   "cell_type": "code",
   "execution_count": 104,
   "metadata": {
    "collapsed": false
   },
   "outputs": [
    {
     "name": "stdout",
     "output_type": "stream",
     "text": [
      "\n",
      "Answer 2:  1834\n"
     ]
    }
   ],
   "source": [
    "data = raw.dropna()\n",
    "\n",
    "print '\\nAnswer 2: ', data.count()[0]"
   ]
  },
  {
   "cell_type": "markdown",
   "metadata": {},
   "source": [
    "В разных признаках пропуски возникают по разным причинам и должны обрабатываться по-разному.\n",
    "\n",
    "Например, в признаке agefm пропуски стоят только там, где evermarr=0, то есть, они соответствуют женщинам, никогда не выходившим замуж. Таким образом, для этого признака NaN соответствует значению \"не применимо\".\n",
    "\n",
    "В подобных случаях, когда признак x1 на части объектов в принципе не может принимать никакие значения, рекомендуется поступать так:\n",
    "\n",
    "    создать новый бинарный признак\n",
    "    x2=1,x1='не применимо',0,иначе;\n",
    "    заменить \"не применимо\" в x1 на произвольную константу c, которая среди других значений x1 не встречается.\n",
    "\n",
    "Теперь, когда мы построим регрессию на оба признака и получим модель вида\n",
    "y=β0+β1x1+β2x2,\n",
    "на тех объектах, где x1 было измерено, регрессионное уравнение примет вид\n",
    "y=β0+β1x,\n",
    "а там, где x1 было \"не применимо\", получится\n",
    "y=β0+β1c+β2.\n",
    "Выбор c влияет только на значение и интерпретацию β2, но не β1.\n",
    "\n",
    "Давайте используем этот метод для обработки пропусков в agefm и heduc.\n",
    "\n",
    "    Создайте признак nevermarr, равный единице там, где в agefm пропуски.\n",
    "    Удалите признак evermarr — в сумме с nevermarr он даёт константу, значит, в нашей матрице X будет мультиколлинеарность.\n",
    "    Замените NaN в признаке agefm на cagefm=0.\n",
    "    У объектов, где nevermarr = 1, замените NaN в признаке heduc на cheduc1=−1 (ноль использовать нельзя, так как он уже встречается у некоторых объектов выборки).\n",
    "\n",
    "3.Сколько осталось пропущенных значений в признаке heduc?"
   ]
  },
  {
   "cell_type": "code",
   "execution_count": 105,
   "metadata": {
    "collapsed": false
   },
   "outputs": [
    {
     "data": {
      "text/html": [
       "<div>\n",
       "<table border=\"1\" class=\"dataframe\">\n",
       "  <thead>\n",
       "    <tr style=\"text-align: right;\">\n",
       "      <th></th>\n",
       "      <th>ceb</th>\n",
       "      <th>age</th>\n",
       "      <th>educ</th>\n",
       "      <th>idlnchld</th>\n",
       "      <th>knowmeth</th>\n",
       "      <th>usemeth</th>\n",
       "      <th>agefm</th>\n",
       "      <th>heduc</th>\n",
       "      <th>urban</th>\n",
       "      <th>electric</th>\n",
       "      <th>radio</th>\n",
       "      <th>tv</th>\n",
       "      <th>bicycle</th>\n",
       "      <th>nevermarr</th>\n",
       "    </tr>\n",
       "  </thead>\n",
       "  <tbody>\n",
       "    <tr>\n",
       "      <th>count</th>\n",
       "      <td>4361.000000</td>\n",
       "      <td>4361.000000</td>\n",
       "      <td>4361.000000</td>\n",
       "      <td>4241.000000</td>\n",
       "      <td>4354.000000</td>\n",
       "      <td>4290.000000</td>\n",
       "      <td>4361.000000</td>\n",
       "      <td>4238.000000</td>\n",
       "      <td>4361.000000</td>\n",
       "      <td>4358.000000</td>\n",
       "      <td>4359.000000</td>\n",
       "      <td>4359.000000</td>\n",
       "      <td>4358.000000</td>\n",
       "      <td>4361.000000</td>\n",
       "    </tr>\n",
       "    <tr>\n",
       "      <th>mean</th>\n",
       "      <td>2.441642</td>\n",
       "      <td>27.405182</td>\n",
       "      <td>5.855996</td>\n",
       "      <td>4.615892</td>\n",
       "      <td>0.963252</td>\n",
       "      <td>0.577622</td>\n",
       "      <td>9.861729</td>\n",
       "      <td>1.836008</td>\n",
       "      <td>0.516625</td>\n",
       "      <td>0.140202</td>\n",
       "      <td>0.701766</td>\n",
       "      <td>0.092911</td>\n",
       "      <td>0.275815</td>\n",
       "      <td>0.523274</td>\n",
       "    </tr>\n",
       "    <tr>\n",
       "      <th>std</th>\n",
       "      <td>2.406861</td>\n",
       "      <td>8.685233</td>\n",
       "      <td>3.927075</td>\n",
       "      <td>2.219303</td>\n",
       "      <td>0.188164</td>\n",
       "      <td>0.493996</td>\n",
       "      <td>10.894991</td>\n",
       "      <td>4.475487</td>\n",
       "      <td>0.499781</td>\n",
       "      <td>0.347236</td>\n",
       "      <td>0.457535</td>\n",
       "      <td>0.290341</td>\n",
       "      <td>0.446975</td>\n",
       "      <td>0.499515</td>\n",
       "    </tr>\n",
       "    <tr>\n",
       "      <th>min</th>\n",
       "      <td>0.000000</td>\n",
       "      <td>15.000000</td>\n",
       "      <td>0.000000</td>\n",
       "      <td>0.000000</td>\n",
       "      <td>0.000000</td>\n",
       "      <td>0.000000</td>\n",
       "      <td>0.000000</td>\n",
       "      <td>-1.000000</td>\n",
       "      <td>0.000000</td>\n",
       "      <td>0.000000</td>\n",
       "      <td>0.000000</td>\n",
       "      <td>0.000000</td>\n",
       "      <td>0.000000</td>\n",
       "      <td>0.000000</td>\n",
       "    </tr>\n",
       "    <tr>\n",
       "      <th>25%</th>\n",
       "      <td>1.000000</td>\n",
       "      <td>20.000000</td>\n",
       "      <td>3.000000</td>\n",
       "      <td>3.000000</td>\n",
       "      <td>1.000000</td>\n",
       "      <td>0.000000</td>\n",
       "      <td>0.000000</td>\n",
       "      <td>-1.000000</td>\n",
       "      <td>0.000000</td>\n",
       "      <td>0.000000</td>\n",
       "      <td>0.000000</td>\n",
       "      <td>0.000000</td>\n",
       "      <td>0.000000</td>\n",
       "      <td>0.000000</td>\n",
       "    </tr>\n",
       "    <tr>\n",
       "      <th>50%</th>\n",
       "      <td>2.000000</td>\n",
       "      <td>26.000000</td>\n",
       "      <td>7.000000</td>\n",
       "      <td>4.000000</td>\n",
       "      <td>1.000000</td>\n",
       "      <td>1.000000</td>\n",
       "      <td>0.000000</td>\n",
       "      <td>-1.000000</td>\n",
       "      <td>1.000000</td>\n",
       "      <td>0.000000</td>\n",
       "      <td>1.000000</td>\n",
       "      <td>0.000000</td>\n",
       "      <td>0.000000</td>\n",
       "      <td>1.000000</td>\n",
       "    </tr>\n",
       "    <tr>\n",
       "      <th>75%</th>\n",
       "      <td>4.000000</td>\n",
       "      <td>33.000000</td>\n",
       "      <td>8.000000</td>\n",
       "      <td>6.000000</td>\n",
       "      <td>1.000000</td>\n",
       "      <td>1.000000</td>\n",
       "      <td>19.000000</td>\n",
       "      <td>4.000000</td>\n",
       "      <td>1.000000</td>\n",
       "      <td>0.000000</td>\n",
       "      <td>1.000000</td>\n",
       "      <td>0.000000</td>\n",
       "      <td>1.000000</td>\n",
       "      <td>1.000000</td>\n",
       "    </tr>\n",
       "    <tr>\n",
       "      <th>max</th>\n",
       "      <td>13.000000</td>\n",
       "      <td>49.000000</td>\n",
       "      <td>20.000000</td>\n",
       "      <td>20.000000</td>\n",
       "      <td>1.000000</td>\n",
       "      <td>1.000000</td>\n",
       "      <td>46.000000</td>\n",
       "      <td>20.000000</td>\n",
       "      <td>1.000000</td>\n",
       "      <td>1.000000</td>\n",
       "      <td>1.000000</td>\n",
       "      <td>1.000000</td>\n",
       "      <td>1.000000</td>\n",
       "      <td>1.000000</td>\n",
       "    </tr>\n",
       "  </tbody>\n",
       "</table>\n",
       "</div>"
      ],
      "text/plain": [
       "               ceb          age         educ     idlnchld     knowmeth  \\\n",
       "count  4361.000000  4361.000000  4361.000000  4241.000000  4354.000000   \n",
       "mean      2.441642    27.405182     5.855996     4.615892     0.963252   \n",
       "std       2.406861     8.685233     3.927075     2.219303     0.188164   \n",
       "min       0.000000    15.000000     0.000000     0.000000     0.000000   \n",
       "25%       1.000000    20.000000     3.000000     3.000000     1.000000   \n",
       "50%       2.000000    26.000000     7.000000     4.000000     1.000000   \n",
       "75%       4.000000    33.000000     8.000000     6.000000     1.000000   \n",
       "max      13.000000    49.000000    20.000000    20.000000     1.000000   \n",
       "\n",
       "           usemeth        agefm        heduc        urban     electric  \\\n",
       "count  4290.000000  4361.000000  4238.000000  4361.000000  4358.000000   \n",
       "mean      0.577622     9.861729     1.836008     0.516625     0.140202   \n",
       "std       0.493996    10.894991     4.475487     0.499781     0.347236   \n",
       "min       0.000000     0.000000    -1.000000     0.000000     0.000000   \n",
       "25%       0.000000     0.000000    -1.000000     0.000000     0.000000   \n",
       "50%       1.000000     0.000000    -1.000000     1.000000     0.000000   \n",
       "75%       1.000000    19.000000     4.000000     1.000000     0.000000   \n",
       "max       1.000000    46.000000    20.000000     1.000000     1.000000   \n",
       "\n",
       "             radio           tv      bicycle    nevermarr  \n",
       "count  4359.000000  4359.000000  4358.000000  4361.000000  \n",
       "mean      0.701766     0.092911     0.275815     0.523274  \n",
       "std       0.457535     0.290341     0.446975     0.499515  \n",
       "min       0.000000     0.000000     0.000000     0.000000  \n",
       "25%       0.000000     0.000000     0.000000     0.000000  \n",
       "50%       1.000000     0.000000     0.000000     1.000000  \n",
       "75%       1.000000     0.000000     1.000000     1.000000  \n",
       "max       1.000000     1.000000     1.000000     1.000000  "
      ]
     },
     "execution_count": 105,
     "metadata": {},
     "output_type": "execute_result"
    }
   ],
   "source": [
    "data = raw.copy()\n",
    "data['nevermarr'] = data['agefm'].apply(lambda x: 1 if np.isnan(x) else 0)\n",
    "data.drop('evermarr', axis=1, inplace=True)\n",
    "c_agefm = 0\n",
    "c_heduc1 = -1\n",
    "data['agefm'].fillna(value=c_agefm, inplace=True)\n",
    "data.ix[data['nevermarr'] == 1, 'heduc'] = c_heduc1\n",
    "data.describe()"
   ]
  },
  {
   "cell_type": "code",
   "execution_count": 106,
   "metadata": {
    "collapsed": false
   },
   "outputs": [
    {
     "name": "stdout",
     "output_type": "stream",
     "text": [
      "Answer 3:  123\n"
     ]
    }
   ],
   "source": [
    "print 'Answer 3: ', data.age.count() - data.heduc.count()"
   ]
  },
  {
   "cell_type": "markdown",
   "metadata": {},
   "source": [
    "Избавимся от оставшихся пропусков.\n",
    "\n",
    "Для признаков idlnchld, heduc и usemeth проведите операцию, аналогичную предыдущей: создайте индикаторы пропусков по этим признакам (idlnchld_noans, heduc_noans, usemeth_noans), замените пропуски на нехарактерные значения (cidlnchld=−1, cheduc2=−2 (значение -1 мы уже использовали), cusemeth=−1).\n",
    "\n",
    "Остались только пропуски в признаках knowmeth, electric, radio, tv и bicycle. Их очень мало, так что удалите объекты, на которых их значения пропущены.\n",
    "\n",
    "4.Какого размера теперь наша матрица данных? Умножьте количество строк на количество всех столбцов (включая отклик ceb)."
   ]
  },
  {
   "cell_type": "raw",
   "metadata": {},
   "source": [
    "data.ix[28]\n",
    "data.ix[31]"
   ]
  },
  {
   "cell_type": "code",
   "execution_count": 113,
   "metadata": {
    "collapsed": false
   },
   "outputs": [
    {
     "data": {
      "text/html": [
       "<div>\n",
       "<table border=\"1\" class=\"dataframe\">\n",
       "  <thead>\n",
       "    <tr style=\"text-align: right;\">\n",
       "      <th></th>\n",
       "      <th>ceb</th>\n",
       "      <th>age</th>\n",
       "      <th>educ</th>\n",
       "      <th>idlnchld</th>\n",
       "      <th>knowmeth</th>\n",
       "      <th>usemeth</th>\n",
       "      <th>agefm</th>\n",
       "      <th>heduc</th>\n",
       "      <th>urban</th>\n",
       "      <th>electric</th>\n",
       "      <th>radio</th>\n",
       "      <th>tv</th>\n",
       "      <th>bicycle</th>\n",
       "      <th>nevermarr</th>\n",
       "      <th>idlnchld_noans</th>\n",
       "      <th>heduc_noans</th>\n",
       "      <th>usemeth_noans</th>\n",
       "    </tr>\n",
       "  </thead>\n",
       "  <tbody>\n",
       "    <tr>\n",
       "      <th>count</th>\n",
       "      <td>4348.000000</td>\n",
       "      <td>4348.000000</td>\n",
       "      <td>4348.000000</td>\n",
       "      <td>4348.000000</td>\n",
       "      <td>4348.000000</td>\n",
       "      <td>4348.000000</td>\n",
       "      <td>4348.000000</td>\n",
       "      <td>4348.000000</td>\n",
       "      <td>4348.000000</td>\n",
       "      <td>4348.000000</td>\n",
       "      <td>4348.000000</td>\n",
       "      <td>4348.000000</td>\n",
       "      <td>4348.000000</td>\n",
       "      <td>4348.000000</td>\n",
       "      <td>4348.000000</td>\n",
       "      <td>4348.000000</td>\n",
       "      <td>4348.000000</td>\n",
       "    </tr>\n",
       "    <tr>\n",
       "      <th>mean</th>\n",
       "      <td>2.437443</td>\n",
       "      <td>27.393514</td>\n",
       "      <td>5.863155</td>\n",
       "      <td>4.466191</td>\n",
       "      <td>0.963431</td>\n",
       "      <td>0.553818</td>\n",
       "      <td>9.850736</td>\n",
       "      <td>1.758510</td>\n",
       "      <td>0.517249</td>\n",
       "      <td>0.140064</td>\n",
       "      <td>0.701702</td>\n",
       "      <td>0.092916</td>\n",
       "      <td>0.275299</td>\n",
       "      <td>0.523919</td>\n",
       "      <td>0.027139</td>\n",
       "      <td>0.028059</td>\n",
       "      <td>0.015179</td>\n",
       "    </tr>\n",
       "    <tr>\n",
       "      <th>std</th>\n",
       "      <td>2.401785</td>\n",
       "      <td>8.675630</td>\n",
       "      <td>3.922694</td>\n",
       "      <td>2.372879</td>\n",
       "      <td>0.187722</td>\n",
       "      <td>0.526808</td>\n",
       "      <td>10.897246</td>\n",
       "      <td>4.439519</td>\n",
       "      <td>0.499760</td>\n",
       "      <td>0.347094</td>\n",
       "      <td>0.457564</td>\n",
       "      <td>0.290348</td>\n",
       "      <td>0.446716</td>\n",
       "      <td>0.499485</td>\n",
       "      <td>0.162507</td>\n",
       "      <td>0.165160</td>\n",
       "      <td>0.122280</td>\n",
       "    </tr>\n",
       "    <tr>\n",
       "      <th>min</th>\n",
       "      <td>0.000000</td>\n",
       "      <td>15.000000</td>\n",
       "      <td>0.000000</td>\n",
       "      <td>-1.000000</td>\n",
       "      <td>0.000000</td>\n",
       "      <td>-1.000000</td>\n",
       "      <td>0.000000</td>\n",
       "      <td>-1.000000</td>\n",
       "      <td>0.000000</td>\n",
       "      <td>0.000000</td>\n",
       "      <td>0.000000</td>\n",
       "      <td>0.000000</td>\n",
       "      <td>0.000000</td>\n",
       "      <td>0.000000</td>\n",
       "      <td>0.000000</td>\n",
       "      <td>0.000000</td>\n",
       "      <td>0.000000</td>\n",
       "    </tr>\n",
       "    <tr>\n",
       "      <th>25%</th>\n",
       "      <td>1.000000</td>\n",
       "      <td>20.000000</td>\n",
       "      <td>3.000000</td>\n",
       "      <td>3.000000</td>\n",
       "      <td>1.000000</td>\n",
       "      <td>0.000000</td>\n",
       "      <td>0.000000</td>\n",
       "      <td>-1.000000</td>\n",
       "      <td>0.000000</td>\n",
       "      <td>0.000000</td>\n",
       "      <td>0.000000</td>\n",
       "      <td>0.000000</td>\n",
       "      <td>0.000000</td>\n",
       "      <td>0.000000</td>\n",
       "      <td>0.000000</td>\n",
       "      <td>0.000000</td>\n",
       "      <td>0.000000</td>\n",
       "    </tr>\n",
       "    <tr>\n",
       "      <th>50%</th>\n",
       "      <td>2.000000</td>\n",
       "      <td>26.000000</td>\n",
       "      <td>7.000000</td>\n",
       "      <td>4.000000</td>\n",
       "      <td>1.000000</td>\n",
       "      <td>1.000000</td>\n",
       "      <td>0.000000</td>\n",
       "      <td>-1.000000</td>\n",
       "      <td>1.000000</td>\n",
       "      <td>0.000000</td>\n",
       "      <td>1.000000</td>\n",
       "      <td>0.000000</td>\n",
       "      <td>0.000000</td>\n",
       "      <td>1.000000</td>\n",
       "      <td>0.000000</td>\n",
       "      <td>0.000000</td>\n",
       "      <td>0.000000</td>\n",
       "    </tr>\n",
       "    <tr>\n",
       "      <th>75%</th>\n",
       "      <td>4.000000</td>\n",
       "      <td>33.000000</td>\n",
       "      <td>8.000000</td>\n",
       "      <td>6.000000</td>\n",
       "      <td>1.000000</td>\n",
       "      <td>1.000000</td>\n",
       "      <td>19.000000</td>\n",
       "      <td>4.000000</td>\n",
       "      <td>1.000000</td>\n",
       "      <td>0.000000</td>\n",
       "      <td>1.000000</td>\n",
       "      <td>0.000000</td>\n",
       "      <td>1.000000</td>\n",
       "      <td>1.000000</td>\n",
       "      <td>0.000000</td>\n",
       "      <td>0.000000</td>\n",
       "      <td>0.000000</td>\n",
       "    </tr>\n",
       "    <tr>\n",
       "      <th>max</th>\n",
       "      <td>13.000000</td>\n",
       "      <td>49.000000</td>\n",
       "      <td>20.000000</td>\n",
       "      <td>20.000000</td>\n",
       "      <td>1.000000</td>\n",
       "      <td>1.000000</td>\n",
       "      <td>46.000000</td>\n",
       "      <td>20.000000</td>\n",
       "      <td>1.000000</td>\n",
       "      <td>1.000000</td>\n",
       "      <td>1.000000</td>\n",
       "      <td>1.000000</td>\n",
       "      <td>1.000000</td>\n",
       "      <td>1.000000</td>\n",
       "      <td>1.000000</td>\n",
       "      <td>1.000000</td>\n",
       "      <td>1.000000</td>\n",
       "    </tr>\n",
       "  </tbody>\n",
       "</table>\n",
       "</div>"
      ],
      "text/plain": [
       "               ceb          age         educ     idlnchld     knowmeth  \\\n",
       "count  4348.000000  4348.000000  4348.000000  4348.000000  4348.000000   \n",
       "mean      2.437443    27.393514     5.863155     4.466191     0.963431   \n",
       "std       2.401785     8.675630     3.922694     2.372879     0.187722   \n",
       "min       0.000000    15.000000     0.000000    -1.000000     0.000000   \n",
       "25%       1.000000    20.000000     3.000000     3.000000     1.000000   \n",
       "50%       2.000000    26.000000     7.000000     4.000000     1.000000   \n",
       "75%       4.000000    33.000000     8.000000     6.000000     1.000000   \n",
       "max      13.000000    49.000000    20.000000    20.000000     1.000000   \n",
       "\n",
       "           usemeth        agefm        heduc        urban     electric  \\\n",
       "count  4348.000000  4348.000000  4348.000000  4348.000000  4348.000000   \n",
       "mean      0.553818     9.850736     1.758510     0.517249     0.140064   \n",
       "std       0.526808    10.897246     4.439519     0.499760     0.347094   \n",
       "min      -1.000000     0.000000    -1.000000     0.000000     0.000000   \n",
       "25%       0.000000     0.000000    -1.000000     0.000000     0.000000   \n",
       "50%       1.000000     0.000000    -1.000000     1.000000     0.000000   \n",
       "75%       1.000000    19.000000     4.000000     1.000000     0.000000   \n",
       "max       1.000000    46.000000    20.000000     1.000000     1.000000   \n",
       "\n",
       "             radio           tv      bicycle    nevermarr  idlnchld_noans  \\\n",
       "count  4348.000000  4348.000000  4348.000000  4348.000000     4348.000000   \n",
       "mean      0.701702     0.092916     0.275299     0.523919        0.027139   \n",
       "std       0.457564     0.290348     0.446716     0.499485        0.162507   \n",
       "min       0.000000     0.000000     0.000000     0.000000        0.000000   \n",
       "25%       0.000000     0.000000     0.000000     0.000000        0.000000   \n",
       "50%       1.000000     0.000000     0.000000     1.000000        0.000000   \n",
       "75%       1.000000     0.000000     1.000000     1.000000        0.000000   \n",
       "max       1.000000     1.000000     1.000000     1.000000        1.000000   \n",
       "\n",
       "       heduc_noans  usemeth_noans  \n",
       "count  4348.000000    4348.000000  \n",
       "mean      0.028059       0.015179  \n",
       "std       0.165160       0.122280  \n",
       "min       0.000000       0.000000  \n",
       "25%       0.000000       0.000000  \n",
       "50%       0.000000       0.000000  \n",
       "75%       0.000000       0.000000  \n",
       "max       1.000000       1.000000  "
      ]
     },
     "execution_count": 113,
     "metadata": {},
     "output_type": "execute_result"
    }
   ],
   "source": [
    "data['idlnchld_noans'] = data['idlnchld'].apply(lambda x: 1 if np.isnan(x) else 0)\n",
    "data['heduc_noans'] = data['heduc'].apply(lambda x: 1 if np.isnan(x) else 0)\n",
    "data['usemeth_noans'] = data['usemeth'].apply(lambda x: 1 if np.isnan(x) else 0)\n",
    "c_idlnchld = -1\n",
    "c_heduc2 = -1\n",
    "c_usemeth = -1\n",
    "data['idlnchld'].fillna(value=c_idlnchld, inplace=True)\n",
    "data['heduc'].fillna(value=c_heduc2, inplace=True)\n",
    "data['usemeth'].fillna(value=c_usemeth, inplace=True)\n",
    "data.dropna(inplace=True)\n",
    "data.describe()"
   ]
  },
  {
   "cell_type": "code",
   "execution_count": 93,
   "metadata": {
    "collapsed": false
   },
   "outputs": [
    {
     "name": "stdout",
     "output_type": "stream",
     "text": [
      "Answer 4:  78264\n"
     ]
    }
   ],
   "source": [
    "print 'Answer 4: ', data.age.count()*len(data.columns)"
   ]
  },
  {
   "cell_type": "markdown",
   "metadata": {},
   "source": [
    "5.Постройте регрессию количества детей ceb на все имеющиеся признаки методом smf.ols, как в разобранном до этого примере. Какой получился коэффициент детерминации R2? Округлите до трёх знаков после десятичной точки."
   ]
  },
  {
   "cell_type": "markdown",
   "metadata": {},
   "source": [
    "### Простейшая модель"
   ]
  },
  {
   "cell_type": "code",
   "execution_count": 95,
   "metadata": {
    "collapsed": false
   },
   "outputs": [
    {
     "data": {
      "text/plain": [
       "Index([u'ceb', u'age', u'educ', u'religion', u'idlnchld', u'knowmeth',\n",
       "       u'usemeth', u'agefm', u'heduc', u'urban', u'electric', u'radio', u'tv',\n",
       "       u'bicycle', u'nevermarr', u'idlnchld_noans', u'heduc_noans',\n",
       "       u'usemeth_noans'],\n",
       "      dtype='object')"
      ]
     },
     "execution_count": 95,
     "metadata": {},
     "output_type": "execute_result"
    }
   ],
   "source": [
    "data.columns"
   ]
  },
  {
   "cell_type": "code",
   "execution_count": 115,
   "metadata": {
    "collapsed": false
   },
   "outputs": [
    {
     "name": "stdout",
     "output_type": "stream",
     "text": [
      "                            OLS Regression Results                            \n",
      "==============================================================================\n",
      "Dep. Variable:                    ceb   R-squared:                       0.644\n",
      "Model:                            OLS   Adj. R-squared:                  0.643\n",
      "Method:                 Least Squares   F-statistic:                     412.5\n",
      "Date:                Tue, 11 Apr 2017   Prob (F-statistic):               0.00\n",
      "Time:                        18:55:38   Log-Likelihood:                -7732.1\n",
      "No. Observations:                4348   AIC:                         1.550e+04\n",
      "Df Residuals:                    4328   BIC:                         1.563e+04\n",
      "Df Model:                          19                                         \n",
      "Covariance Type:            nonrobust                                         \n",
      "==========================================================================================\n",
      "                             coef    std err          t      P>|t|      [95.0% Conf. Int.]\n",
      "------------------------------------------------------------------------------------------\n",
      "Intercept                 -1.0263      0.212     -4.835      0.000        -1.443    -0.610\n",
      "religion[T.other]         -0.0830      0.083     -1.001      0.317        -0.245     0.080\n",
      "religion[T.protestant]    -0.0149      0.082     -0.181      0.857        -0.176     0.146\n",
      "religion[T.spirit]        -0.0191      0.077     -0.248      0.804        -0.171     0.132\n",
      "age                        0.1703      0.003     51.891      0.000         0.164     0.177\n",
      "educ                      -0.0724      0.007     -9.843      0.000        -0.087    -0.058\n",
      "idlnchld                   0.0760      0.011      6.923      0.000         0.054     0.098\n",
      "knowmeth                   0.5564      0.121      4.580      0.000         0.318     0.795\n",
      "usemeth                    0.6473      0.048     13.424      0.000         0.553     0.742\n",
      "agefm                     -0.0604      0.007     -9.213      0.000        -0.073    -0.048\n",
      "heduc                     -0.0551      0.008     -6.838      0.000        -0.071    -0.039\n",
      "urban                     -0.2137      0.047     -4.527      0.000        -0.306    -0.121\n",
      "electric                  -0.2685      0.077     -3.479      0.001        -0.420    -0.117\n",
      "radio                     -0.0235      0.051     -0.461      0.645        -0.123     0.076\n",
      "tv                        -0.1451      0.093     -1.566      0.118        -0.327     0.037\n",
      "bicycle                    0.2139      0.050      4.260      0.000         0.115     0.312\n",
      "nevermarr                 -2.2393      0.148    -15.143      0.000        -2.529    -1.949\n",
      "idlnchld_noans             0.6539      0.153      4.286      0.000         0.355     0.953\n",
      "heduc_noans               -0.8173      0.142     -5.756      0.000        -1.096    -0.539\n",
      "usemeth_noans              0.7652      0.196      3.910      0.000         0.382     1.149\n",
      "==============================================================================\n",
      "Omnibus:                      224.411   Durbin-Watson:                   1.887\n",
      "Prob(Omnibus):                  0.000   Jarque-Bera (JB):              859.014\n",
      "Skew:                           0.003   Prob(JB):                    2.93e-187\n",
      "Kurtosis:                       5.178   Cond. No.                         360.\n",
      "==============================================================================\n",
      "\n",
      "Warnings:\n",
      "[1] Standard Errors assume that the covariance matrix of the errors is correctly specified.\n"
     ]
    }
   ],
   "source": [
    "# Построим линейную модель по всем признакам.\n",
    "m1 = smf.ols('ceb ~ age + educ + religion + idlnchld + knowmeth + usemeth + agefm + heduc + urban + electric + \\\n",
    "                    radio + tv + bicycle + nevermarr + idlnchld_noans + heduc_noans + usemeth_noans', \n",
    "             data=data)\n",
    "fitted = m1.fit()\n",
    "print fitted.summary()"
   ]
  },
  {
   "cell_type": "code",
   "execution_count": 116,
   "metadata": {
    "collapsed": false
   },
   "outputs": [
    {
     "name": "stdout",
     "output_type": "stream",
     "text": [
      "Answer 5:  0.644\n"
     ]
    }
   ],
   "source": [
    "print 'Answer 5: ', round(fitted.rsquared,3)"
   ]
  },
  {
   "cell_type": "code",
   "execution_count": 117,
   "metadata": {
    "collapsed": false
   },
   "outputs": [
    {
     "name": "stdout",
     "output_type": "stream",
     "text": [
      "Breusch-Pagan test: p=0.000000\n"
     ]
    }
   ],
   "source": [
    "# Используем критерий Бройша-Пагана для проверки гомоскедастичности ошибок:\n",
    "print 'Breusch-Pagan test: p=%f' % sms.het_breushpagan(fitted.resid, fitted.model.exog)[1]"
   ]
  },
  {
   "cell_type": "markdown",
   "metadata": {},
   "source": [
    "Ошибки гетероскедастичны, значит, значимость признаков может определяться неверно. Сделаем поправку Уайта."
   ]
  },
  {
   "cell_type": "markdown",
   "metadata": {},
   "source": [
    "Удалите из модели незначимые признаки religion, radio и tv. Проверьте гомоскедастичность ошибки, при необходимости сделайте поправку Уайта.\n",
    "\n",
    "Не произошло ли значимого ухудшения модели после удаления этой группы признаков? Проверьте с помощью критерия Фишера. Чему равен его достигаемый уровень значимости? Округлите до четырёх цифр после десятичной точки.\n",
    "\n",
    "Если достигаемый уровень значимости получился маленький, верните все удалённые признаки; если он достаточно велик, оставьте модель без религии, тв и радио."
   ]
  },
  {
   "cell_type": "code",
   "execution_count": 121,
   "metadata": {
    "collapsed": false
   },
   "outputs": [
    {
     "name": "stdout",
     "output_type": "stream",
     "text": [
      "Breusch-Pagan test: p=0.000000\n",
      "                            OLS Regression Results                            \n",
      "==============================================================================\n",
      "Dep. Variable:                    ceb   R-squared:                       0.644\n",
      "Model:                            OLS   Adj. R-squared:                  0.643\n",
      "Method:                 Least Squares   F-statistic:                     463.4\n",
      "Date:                Tue, 11 Apr 2017   Prob (F-statistic):               0.00\n",
      "Time:                        19:04:21   Log-Likelihood:                -7734.5\n",
      "No. Observations:                4348   AIC:                         1.550e+04\n",
      "Df Residuals:                    4333   BIC:                         1.559e+04\n",
      "Df Model:                          14                                         \n",
      "Covariance Type:                  HC1                                         \n",
      "==================================================================================\n",
      "                     coef    std err          z      P>|z|      [95.0% Conf. Int.]\n",
      "----------------------------------------------------------------------------------\n",
      "Intercept         -1.0698      0.258     -4.152      0.000        -1.575    -0.565\n",
      "age                0.1702      0.004     38.746      0.000         0.162     0.179\n",
      "educ              -0.0729      0.007    -10.311      0.000        -0.087    -0.059\n",
      "idlnchld           0.0770      0.014      5.323      0.000         0.049     0.105\n",
      "knowmeth           0.5610      0.174      3.224      0.001         0.220     0.902\n",
      "usemeth            0.6516      0.052     12.571      0.000         0.550     0.753\n",
      "agefm             -0.0606      0.010     -6.192      0.000        -0.080    -0.041\n",
      "heduc             -0.0573      0.009     -6.440      0.000        -0.075    -0.040\n",
      "urban             -0.2190      0.045     -4.814      0.000        -0.308    -0.130\n",
      "electric          -0.3207      0.063     -5.076      0.000        -0.445    -0.197\n",
      "bicycle            0.2046      0.048      4.279      0.000         0.111     0.298\n",
      "nevermarr         -2.2501      0.202    -11.158      0.000        -2.645    -1.855\n",
      "idlnchld_noans     0.6565      0.216      3.043      0.002         0.234     1.079\n",
      "heduc_noans       -0.8280      0.188     -4.412      0.000        -1.196    -0.460\n",
      "usemeth_noans      0.7732      0.212      3.639      0.000         0.357     1.190\n",
      "==============================================================================\n",
      "Omnibus:                      224.096   Durbin-Watson:                   1.886\n",
      "Prob(Omnibus):                  0.000   Jarque-Bera (JB):              856.760\n",
      "Skew:                           0.004   Prob(JB):                    9.06e-187\n",
      "Kurtosis:                       5.175   Cond. No.                         345.\n",
      "==============================================================================\n",
      "\n",
      "Warnings:\n",
      "[1] Standard Errors are heteroscedasticity robust (HC1)\n"
     ]
    }
   ],
   "source": [
    "m2 = smf.ols('ceb ~ age + educ + idlnchld + knowmeth + usemeth + agefm + heduc + urban + electric + \\\n",
    "                    bicycle + nevermarr + idlnchld_noans + heduc_noans + usemeth_noans', \n",
    "             data=data)\n",
    "fitted = m2.fit()\n",
    "print 'Breusch-Pagan test: p=%f' % sms.het_breushpagan(fitted.resid, fitted.model.exog)[1]\n",
    "# Ошибки гетероскедастичны, значит, значимость признаков может определяться неверно. Сделаем поправку Уайта.\n",
    "fitted = m2.fit(cov_type='HC1')\n",
    "print fitted.summary()"
   ]
  },
  {
   "cell_type": "code",
   "execution_count": 124,
   "metadata": {
    "collapsed": false
   },
   "outputs": [
    {
     "name": "stdout",
     "output_type": "stream",
     "text": [
      "F=0.919236, p=0.467231, k1=5.000000\n"
     ]
    }
   ],
   "source": [
    "(F, p, k1) = m1.fit().compare_f_test(m2.fit())\n",
    "print \"F=%f, p=%f, k1=%f\" % (F, p, k1)"
   ]
  },
  {
   "cell_type": "markdown",
   "metadata": {},
   "source": [
    "Модель не стала хуже."
   ]
  },
  {
   "cell_type": "code",
   "execution_count": 125,
   "metadata": {
    "collapsed": false
   },
   "outputs": [
    {
     "name": "stdout",
     "output_type": "stream",
     "text": [
      "Answer 8:  0.4672\n"
     ]
    }
   ],
   "source": [
    "print 'Answer 8: ', round(p,4)"
   ]
  },
  {
   "cell_type": "code",
   "execution_count": 126,
   "metadata": {
    "collapsed": true
   },
   "outputs": [
    {
     "name": "stdout",
     "output_type": "stream",
     "text": [
      "Breusch-Pagan test: p=0.000000\n",
      "                            OLS Regression Results                            \n",
      "==============================================================================\n",
      "Dep. Variable:                    ceb   R-squared:                       0.629\n",
      "Model:                            OLS   Adj. R-squared:                  0.628\n",
      "Method:                 Least Squares   F-statistic:                     396.4\n",
      "Date:                Tue, 11 Apr 2017   Prob (F-statistic):               0.00\n",
      "Time:                        19:10:29   Log-Likelihood:                -7825.7\n",
      "No. Observations:                4348   AIC:                         1.568e+04\n",
      "Df Residuals:                    4335   BIC:                         1.576e+04\n",
      "Df Model:                          12                                         \n",
      "Covariance Type:                  HC1                                         \n",
      "==================================================================================\n",
      "                     coef    std err          z      P>|z|      [95.0% Conf. Int.]\n",
      "----------------------------------------------------------------------------------\n",
      "Intercept         -1.1931      0.262     -4.562      0.000        -1.706    -0.681\n",
      "age                0.1776      0.004     41.592      0.000         0.169     0.186\n",
      "educ              -0.0560      0.007     -7.788      0.000        -0.070    -0.042\n",
      "idlnchld           0.0705      0.015      4.748      0.000         0.041     0.100\n",
      "knowmeth           0.8739      0.174      5.029      0.000         0.533     1.214\n",
      "agefm             -0.0649      0.010     -6.489      0.000        -0.085    -0.045\n",
      "heduc             -0.0521      0.009     -5.658      0.000        -0.070    -0.034\n",
      "urban             -0.1866      0.046     -4.019      0.000        -0.278    -0.096\n",
      "electric          -0.3218      0.065     -4.953      0.000        -0.449    -0.194\n",
      "bicycle            0.1979      0.048      4.083      0.000         0.103     0.293\n",
      "nevermarr         -2.3625      0.205    -11.498      0.000        -2.765    -1.960\n",
      "idlnchld_noans     0.5266      0.225      2.343      0.019         0.086     0.967\n",
      "heduc_noans       -0.7425      0.192     -3.870      0.000        -1.119    -0.366\n",
      "==============================================================================\n",
      "Omnibus:                      250.641   Durbin-Watson:                   1.910\n",
      "Prob(Omnibus):                  0.000   Jarque-Bera (JB):              936.515\n",
      "Skew:                          -0.158   Prob(JB):                    4.35e-204\n",
      "Kurtosis:                       5.251   Cond. No.                         345.\n",
      "==============================================================================\n",
      "\n",
      "Warnings:\n",
      "[1] Standard Errors are heteroscedasticity robust (HC1)\n"
     ]
    }
   ],
   "source": [
    "m3 = smf.ols('ceb ~ age + educ + idlnchld + knowmeth + agefm + heduc + urban + electric + \\\n",
    "                    bicycle + nevermarr + idlnchld_noans + heduc_noans', \n",
    "             data=data)\n",
    "fitted = m3.fit()\n",
    "print 'Breusch-Pagan test: p=%f' % sms.het_breushpagan(fitted.resid, fitted.model.exog)[1]\n",
    "# Ошибки гетероскедастичны, значит, значимость признаков может определяться неверно. Сделаем поправку Уайта.\n",
    "fitted = m3.fit(cov_type='HC1')\n",
    "print fitted.summary()"
   ]
  },
  {
   "cell_type": "code",
   "execution_count": 134,
   "metadata": {
    "collapsed": false
   },
   "outputs": [
    {
     "name": "stdout",
     "output_type": "stream",
     "text": [
      "F=92.890582, p=3.1552e-40, k1=2.000000\n",
      "Answer 9: 40\n"
     ]
    }
   ],
   "source": [
    "(F, p, k1) = m2.fit().compare_f_test(m3.fit())\n",
    "print \"F=%f, p=%g, k1=%f\" % (F, p, k1)\n",
    "s = str(p)\n",
    "print 'Answer 9:', abs(int(s[s.find('e') + 1:len(s)]))"
   ]
  },
  {
   "cell_type": "code",
   "execution_count": 135,
   "metadata": {
    "collapsed": false
   },
   "outputs": [
    {
     "name": "stdout",
     "output_type": "stream",
     "text": [
      "0.5795\n"
     ]
    }
   ],
   "source": [
    "b1 = 0.0770\n",
    "b2 = 0.6565\n",
    "y = b1*c_idlnchld + b2\n",
    "print y"
   ]
  },
  {
   "cell_type": "code",
   "execution_count": null,
   "metadata": {
    "collapsed": true
   },
   "outputs": [],
   "source": []
  }
 ],
 "metadata": {
  "kernelspec": {
   "display_name": "Python 2",
   "language": "python",
   "name": "python2"
  },
  "language_info": {
   "codemirror_mode": {
    "name": "ipython",
    "version": 2
   },
   "file_extension": ".py",
   "mimetype": "text/x-python",
   "name": "python",
   "nbconvert_exporter": "python",
   "pygments_lexer": "ipython2",
   "version": "2.7.13"
  }
 },
 "nbformat": 4,
 "nbformat_minor": 0
}
